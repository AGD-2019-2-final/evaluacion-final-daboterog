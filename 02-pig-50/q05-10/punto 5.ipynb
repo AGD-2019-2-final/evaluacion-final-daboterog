{
 "cells": [
  {
   "cell_type": "code",
   "execution_count": 69,
   "metadata": {},
   "outputs": [],
   "source": [
    "!rm -rf input output\n",
    "!mkdir output"
   ]
  },
  {
   "cell_type": "code",
   "execution_count": 70,
   "metadata": {},
   "outputs": [
    {
     "name": "stdout",
     "output_type": "stream",
     "text": [
      "The bigdata extension is already loaded. To reload it, use:\n",
      "  %reload_ext bigdata\n"
     ]
    }
   ],
   "source": [
    "%load_ext bigdata"
   ]
  },
  {
   "cell_type": "code",
   "execution_count": 71,
   "metadata": {},
   "outputs": [],
   "source": [
    "%pig_start"
   ]
  },
  {
   "cell_type": "code",
   "execution_count": 72,
   "metadata": {},
   "outputs": [],
   "source": [
    "%timeout 300"
   ]
  },
  {
   "cell_type": "code",
   "execution_count": 75,
   "metadata": {},
   "outputs": [
    {
     "name": "stdout",
     "output_type": "stream",
     "text": [
      "Deleted data.tsv\n"
     ]
    }
   ],
   "source": [
    "!hadoop fs -put data.tsv"
   ]
  },
  {
   "cell_type": "code",
   "execution_count": 76,
   "metadata": {},
   "outputs": [
    {
     "name": "stdout",
     "output_type": "stream",
     "text": [
      " data = LOAD 'data.tsv'\n",
      "    AS (f1:CHARARRAY, f2:bag{}, f3:CHARARRAY);\n",
      " DUMP data;\n",
      "2019-12-11 01:02:58,625 [main] INFO  org.apache.hadoop.yarn.client.RMProxy - Connecting to ResourceManager at /0.0.0.0:8032\n",
      "2019-12-11 01:02:59,134 [JobControl] INFO  org.apache.hadoop.yarn.client.RMProxy - Connecting to ResourceManager at /0.0.0.0:8032\n",
      "2019-12-11 01:02:59,146 [JobControl] WARN  org.apache.hadoop.mapreduce.JobResourceUploader - No job jar file set.  User classes may not be found. See Job or Job#setJar(String).\n",
      "2019-12-11 01:02:59,156 [JobControl] INFO  org.apache.hadoop.mapreduce.lib.input.FileInputFormat - Total input files to process : 1\n",
      "2019-12-11 01:02:59,590 [JobControl] INFO  org.apache.hadoop.mapreduce.JobSubmitter - number of splits:1\n",
      "2019-12-11 01:02:59,622 [JobControl] INFO  org.apache.hadoop.mapreduce.JobSubmitter - Submitting tokens for job: job_1576021273858_0034\n",
      "2019-12-11 01:02:59,626 [JobControl] INFO  org.apache.hadoop.mapred.YARNRunner - Job jar is not present. Not adding any jar to the list of resources.\n",
      "2019-12-11 01:02:59,676 [JobControl] INFO  org.apache.hadoop.yarn.client.api.impl.YarnClientImpl - Submitted application application_1576021273858_0034\n",
      "2019-12-11 01:02:59,680 [JobControl] INFO  org.apache.hadoop.mapreduce.Job - The url to track the job: http://32aedd3c9786:8088/proxy/application_1576021273858_0034/\n",
      "2019-12-11 01:03:09,739 [main] INFO  org.apache.hadoop.yarn.client.RMProxy - Connecting to ResourceManager at /0.0.0.0:8032\n",
      "2019-12-11 01:03:09,741 [main] INFO  org.apache.hadoop.mapred.ClientServiceDelegate - Application state is completed. FinalApplicationStatus=SUCCEEDED. Redirecting to job history server\n",
      "2019-12-11 01:03:09,797 [main] INFO  org.apache.hadoop.yarn.client.RMProxy - Connecting to ResourceManager at /0.0.0.0:8032\n",
      "2019-12-11 01:03:09,800 [main] INFO  org.apache.hadoop.mapred.ClientServiceDelegate - Application state is completed. FinalApplicationStatus=SUCCEEDED. Redirecting to job history server\n",
      "2019-12-11 01:03:09,829 [main] INFO  org.apache.hadoop.yarn.client.RMProxy - Connecting to ResourceManager at /0.0.0.0:8032\n",
      "2019-12-11 01:03:09,833 [main] INFO  org.apache.hadoop.mapred.ClientServiceDelegate - Application state is completed. FinalApplicationStatus=SUCCEEDED. Redirecting to job history server\n",
      "2019-12-11 01:03:09,855 [main] INFO  org.apache.hadoop.yarn.client.RMProxy - Connecting to ResourceManager at /0.0.0.0:8032\n",
      "2019-12-11 01:03:09,857 [main] INFO  org.apache.hadoop.mapred.ClientServiceDelegate - Application state is completed. FinalApplicationStatus=SUCCEEDED. Redirecting to job history server\n",
      "2019-12-11 01:03:09,878 [main] INFO  org.apache.hadoop.yarn.client.RMProxy - Connecting to ResourceManager at /0.0.0.0:8032\n",
      "2019-12-11 01:03:09,881 [main] INFO  org.apache.hadoop.mapred.ClientServiceDelegate - Application state is completed. FinalApplicationStatus=SUCCEEDED. Redirecting to job history server\n",
      "2019-12-11 01:03:09,901 [main] INFO  org.apache.hadoop.yarn.client.RMProxy - Connecting to ResourceManager at /0.0.0.0:8032\n",
      "2019-12-11 01:03:09,905 [main] INFO  org.apache.hadoop.mapred.ClientServiceDelegate - Application state is completed. FinalApplicationStatus=SUCCEEDED. Redirecting to job history server\n",
      "2019-12-11 01:03:09,942 [main] INFO  org.apache.hadoop.mapreduce.lib.input.FileInputFormat - Total input files to process : 1\n",
      "(E,{(b),(g),(f)},[jjj#3,bbb#0,ddd#9,ggg#8,hhh#2])\n",
      "(A,{(a),(f),(c)},[ccc#2,ddd#0,aaa#3,hhh#9])\n",
      "(B,{(f),(e),(a),(c)},[ddd#2,ggg#5,ccc#6,jjj#1])\n",
      "(A,{(a),(b)},[hhh#9,iii#5,eee#7,bbb#1])\n",
      "(C,{(f),(g),(d),(a)},[iii#6,ddd#5,eee#4,jjj#3])\n",
      "(A,{(c),(d)},[bbb#2,hhh#0,ccc#4,fff#1,aaa#7])\n",
      "(A,{(g),(d),(a)},[aaa#5,fff#8,ddd#2,iii#0,jjj#7,ccc#1])\n",
      "(B,{(b),(a)},[fff#3,hhh#1,ddd#2])\n",
      "(E,{(d),(e),(a),(f)},[eee#4,ccc#5,iii#9,fff#7,ggg#6,bbb#0])\n",
      "(B,{(d),(b),(g),(f)},[bbb#7,jjj#9,fff#5,iii#4,ggg#2,eee#3])\n",
      "(C,{(d),(c),(f),(b)},[hhh#6,eee#4,iii#0,fff#2,jjj#1])\n",
      "(C,{(d),(e),(a),(c)},[bbb#7,iii#6,ggg#9])\n",
      "(D,{(g),(e),(f),(b)},[bbb#9,aaa#3,ccc#6,fff#4,eee#2])\n",
      "(E,{(c),(f)},[aaa#8,ddd#5,jjj#1])\n",
      "(B,{(d),(b)},[ccc#0,jjj#6,fff#7,ddd#3,aaa#2])\n",
      "(D,{(f),(e)},[ccc#0,eee#6,bbb#9,ddd#3])\n",
      "(E,{(e),(b),(f)},[bbb#6,iii#3,hhh#5,fff#4,ggg#9,ddd#2])\n",
      "(D,{(g),(a)},[hhh#4,jjj#5,ccc#9])\n",
      "(E,{(e),(c),(f),(a)},[ccc#1,iii#6,fff#9])\n",
      "(E,{(e),(a)},[bbb#9,aaa#3,fff#1])\n",
      "(E,{(e),(f)},[ddd#9,iii#2,aaa#4])\n",
      "(E,{(c),(b),(g)},[ccc#5,fff#8,iii#7])\n",
      "(D,{(c),(f),(a)},[eee#3,jjj#2,ddd#7])\n",
      "(A,{(f),(a),(d)},[jjj#1,ggg#0,ccc#7,ddd#9,bbb#3])\n",
      "(E,{(c),(d)},[jjj#6,ccc#0,aaa#1,hhh#9,iii#7,ggg#8])\n",
      "(E,{(e),(d),(c)},[fff#3,eee#6,iii#4,bbb#7,ddd#0,ccc#1])\n",
      "(A,{(a),(e),(f)},[fff#0,ddd#5,ccc#4])\n",
      "(E,{(c),(a),(g)},[ggg#6,hhh#3,ddd#9,ccc#0,jjj#7])\n",
      "(A,{(f),(e)},[hhh#6,jjj#0,eee#5,iii#7,ccc#3])\n",
      "(C,{(f),(c),(a),(g)},[eee#1,fff#4,aaa#2,ccc#7,ggg#0,ddd#6])\n",
      "(A,{(b),(f)},[ccc#6,aaa#9,eee#5,ddd#0,bbb#3])\n",
      "(D,{(b),(f)},[bbb#7,hhh#1,aaa#6,iii#4,fff#9,ddd#5])\n",
      "(E,{(a),(c)},[fff#3,ccc#1,ggg#2,eee#5])\n",
      "(B,{(b),(f),(c)},[iii#7,ggg#3,ddd#0,jjj#8,hhh#5,ccc#1])\n",
      "(B,{(f),(a),(e)},[hhh#6,ccc#3,jjj#0,bbb#8,ddd#7])\n",
      "(D,{(a),(f)},[aaa#0,fff#5,ddd#3])\n",
      "(B,{(c),(a)},[ddd#5,jjj#2,iii#7,ccc#0,bbb#4])\n",
      "(C,{(c),(a),(e),(f)},[eee#0,fff#2,hhh#6])\n",
      "(E,{(e),(d)},[fff#9,iii#2,eee#0])\n",
      "(E,{(f),(a),(d)},[hhh#8,ggg#3,jjj#5])\n"
     ]
    }
   ],
   "source": [
    "%%pig\n",
    "\n",
    "data = LOAD 'data.tsv'\n",
    "    AS (f1:CHARARRAY, f2:bag{}, f3:CHARARRAY);\n",
    "DUMP data;"
   ]
  },
  {
   "cell_type": "code",
   "execution_count": 87,
   "metadata": {},
   "outputs": [
    {
     "name": "stdout",
     "output_type": "stream",
     "text": [
      " a = FOREACH data GENERATE FLATTEN(f2) AS f22, f1;\n",
      " DUMP a;\n",
      "2019-12-11 01:09:25,924 [main] INFO  org.apache.hadoop.yarn.client.RMProxy - Connecting to ResourceManager at /0.0.0.0:8032\n",
      "2019-12-11 01:09:26,029 [JobControl] INFO  org.apache.hadoop.yarn.client.RMProxy - Connecting to ResourceManager at /0.0.0.0:8032\n",
      "2019-12-11 01:09:26,041 [JobControl] WARN  org.apache.hadoop.mapreduce.JobResourceUploader - No job jar file set.  User classes may not be found. See Job or Job#setJar(String).\n",
      "2019-12-11 01:09:26,047 [JobControl] INFO  org.apache.hadoop.mapreduce.lib.input.FileInputFormat - Total input files to process : 1\n",
      "2019-12-11 01:09:26,073 [JobControl] INFO  org.apache.hadoop.mapreduce.JobSubmitter - number of splits:1\n",
      "2019-12-11 01:09:26,086 [JobControl] INFO  org.apache.hadoop.mapreduce.JobSubmitter - Submitting tokens for job: job_1576021273858_0038\n",
      "2019-12-11 01:09:26,089 [JobControl] INFO  org.apache.hadoop.mapred.YARNRunner - Job jar is not present. Not adding any jar to the list of resources.\n",
      "2019-12-11 01:09:26,124 [JobControl] INFO  org.apache.hadoop.yarn.client.api.impl.YarnClientImpl - Submitted application application_1576021273858_0038\n",
      "2019-12-11 01:09:26,128 [JobControl] INFO  org.apache.hadoop.mapreduce.Job - The url to track the job: http://32aedd3c9786:8088/proxy/application_1576021273858_0038/\n",
      "2019-12-11 01:09:36,597 [main] INFO  org.apache.hadoop.yarn.client.RMProxy - Connecting to ResourceManager at /0.0.0.0:8032\n",
      "2019-12-11 01:09:36,599 [main] INFO  org.apache.hadoop.mapred.ClientServiceDelegate - Application state is completed. FinalApplicationStatus=SUCCEEDED. Redirecting to job history server\n",
      "2019-12-11 01:09:36,626 [main] INFO  org.apache.hadoop.yarn.client.RMProxy - Connecting to ResourceManager at /0.0.0.0:8032\n",
      "2019-12-11 01:09:36,627 [main] INFO  org.apache.hadoop.mapred.ClientServiceDelegate - Application state is completed. FinalApplicationStatus=SUCCEEDED. Redirecting to job history server\n",
      "2019-12-11 01:09:36,642 [main] INFO  org.apache.hadoop.yarn.client.RMProxy - Connecting to ResourceManager at /0.0.0.0:8032\n",
      "2019-12-11 01:09:36,644 [main] INFO  org.apache.hadoop.mapred.ClientServiceDelegate - Application state is completed. FinalApplicationStatus=SUCCEEDED. Redirecting to job history server\n",
      "2019-12-11 01:09:36,660 [main] INFO  org.apache.hadoop.yarn.client.RMProxy - Connecting to ResourceManager at /0.0.0.0:8032\n",
      "2019-12-11 01:09:36,662 [main] INFO  org.apache.hadoop.mapred.ClientServiceDelegate - Application state is completed. FinalApplicationStatus=SUCCEEDED. Redirecting to job history server\n",
      "2019-12-11 01:09:36,682 [main] INFO  org.apache.hadoop.yarn.client.RMProxy - Connecting to ResourceManager at /0.0.0.0:8032\n",
      "2019-12-11 01:09:36,684 [main] INFO  org.apache.hadoop.mapred.ClientServiceDelegate - Application state is completed. FinalApplicationStatus=SUCCEEDED. Redirecting to job history server\n",
      "2019-12-11 01:09:36,697 [main] INFO  org.apache.hadoop.yarn.client.RMProxy - Connecting to ResourceManager at /0.0.0.0:8032\n",
      "2019-12-11 01:09:36,699 [main] INFO  org.apache.hadoop.mapred.ClientServiceDelegate - Application state is completed. FinalApplicationStatus=SUCCEEDED. Redirecting to job history server\n",
      "2019-12-11 01:09:36,724 [main] INFO  org.apache.hadoop.mapreduce.lib.input.FileInputFormat - Total input files to process : 1\n",
      "(b,E)\n",
      "(g,E)\n",
      "(f,E)\n",
      "(a,A)\n",
      "(f,A)\n",
      "(c,A)\n",
      "(f,B)\n",
      "(e,B)\n",
      "(a,B)\n",
      "(c,B)\n",
      "(a,A)\n",
      "(b,A)\n",
      "(f,C)\n",
      "(g,C)\n",
      "(d,C)\n",
      "(a,C)\n",
      "(c,A)\n",
      "(d,A)\n",
      "(g,A)\n",
      "(d,A)\n",
      "(a,A)\n",
      "(b,B)\n",
      "(a,B)\n",
      "(d,E)\n",
      "(e,E)\n",
      "(a,E)\n",
      "(f,E)\n",
      "(d,B)\n",
      "(b,B)\n",
      "(g,B)\n",
      "(f,B)\n",
      "(d,C)\n",
      "(c,C)\n",
      "(f,C)\n",
      "(b,C)\n",
      "(d,C)\n",
      "(e,C)\n",
      "(a,C)\n",
      "(c,C)\n",
      "(g,D)\n",
      "(e,D)\n",
      "(f,D)\n",
      "(b,D)\n",
      "(c,E)\n",
      "(f,E)\n",
      "(d,B)\n",
      "(b,B)\n",
      "(f,D)\n",
      "(e,D)\n",
      "(e,E)\n",
      "(b,E)\n",
      "(f,E)\n",
      "(g,D)\n",
      "(a,D)\n",
      "(e,E)\n",
      "(c,E)\n",
      "(f,E)\n",
      "(a,E)\n",
      "(e,E)\n",
      "(a,E)\n",
      "(e,E)\n",
      "(f,E)\n",
      "(c,E)\n",
      "(b,E)\n",
      "(g,E)\n",
      "(c,D)\n",
      "(f,D)\n",
      "(a,D)\n",
      "(f,A)\n",
      "(a,A)\n",
      "(d,A)\n",
      "(c,E)\n",
      "(d,E)\n",
      "(e,E)\n",
      "(d,E)\n",
      "(c,E)\n",
      "(a,A)\n",
      "(e,A)\n",
      "(f,A)\n",
      "(c,E)\n",
      "(a,E)\n",
      "(g,E)\n",
      "(f,A)\n",
      "(e,A)\n",
      "(f,C)\n",
      "(c,C)\n",
      "(a,C)\n",
      "(g,C)\n",
      "(b,A)\n",
      "(f,A)\n",
      "(b,D)\n",
      "(f,D)\n",
      "(a,E)\n",
      "(c,E)\n",
      "(b,B)\n",
      "(f,B)\n",
      "(c,B)\n",
      "(f,B)\n",
      "(a,B)\n",
      "(e,B)\n",
      "(a,D)\n",
      "(f,D)\n",
      "(c,B)\n",
      "(a,B)\n",
      "(c,C)\n",
      "(a,C)\n",
      "(e,C)\n",
      "(f,C)\n",
      "(e,E)\n",
      "(d,E)\n",
      "(f,E)\n",
      "(a,E)\n",
      "(d,E)\n"
     ]
    }
   ],
   "source": [
    "%%pig\n",
    "a = FOREACH data GENERATE FLATTEN(f2) AS f22, f1;\n",
    "DUMP a;"
   ]
  },
  {
   "cell_type": "code",
   "execution_count": 88,
   "metadata": {},
   "outputs": [
    {
     "name": "stdout",
     "output_type": "stream",
     "text": [
      " b = GROUP a BY f22;\n",
      " DUMP b;\n",
      "2019-12-11 01:09:41,275 [main] INFO  org.apache.hadoop.yarn.client.RMProxy - Connecting to ResourceManager at /0.0.0.0:8032\n",
      "2019-12-11 01:09:41,776 [JobControl] INFO  org.apache.hadoop.yarn.client.RMProxy - Connecting to ResourceManager at /0.0.0.0:8032\n",
      "2019-12-11 01:09:41,787 [JobControl] WARN  org.apache.hadoop.mapreduce.JobResourceUploader - No job jar file set.  User classes may not be found. See Job or Job#setJar(String).\n",
      "2019-12-11 01:09:41,796 [JobControl] INFO  org.apache.hadoop.mapreduce.lib.input.FileInputFormat - Total input files to process : 1\n",
      "2019-12-11 01:09:42,223 [JobControl] INFO  org.apache.hadoop.mapreduce.JobSubmitter - number of splits:1\n",
      "2019-12-11 01:09:42,236 [JobControl] INFO  org.apache.hadoop.mapreduce.JobSubmitter - Submitting tokens for job: job_1576021273858_0039\n",
      "2019-12-11 01:09:42,238 [JobControl] INFO  org.apache.hadoop.mapred.YARNRunner - Job jar is not present. Not adding any jar to the list of resources.\n",
      "2019-12-11 01:09:42,258 [JobControl] INFO  org.apache.hadoop.yarn.client.api.impl.YarnClientImpl - Submitted application application_1576021273858_0039\n",
      "2019-12-11 01:09:42,262 [JobControl] INFO  org.apache.hadoop.mapreduce.Job - The url to track the job: http://32aedd3c9786:8088/proxy/application_1576021273858_0039/\n",
      "2019-12-11 01:09:57,349 [main] INFO  org.apache.hadoop.yarn.client.RMProxy - Connecting to ResourceManager at /0.0.0.0:8032\n",
      "2019-12-11 01:09:57,354 [main] INFO  org.apache.hadoop.mapred.ClientServiceDelegate - Application state is completed. FinalApplicationStatus=SUCCEEDED. Redirecting to job history server\n",
      "2019-12-11 01:09:57,401 [main] INFO  org.apache.hadoop.yarn.client.RMProxy - Connecting to ResourceManager at /0.0.0.0:8032\n",
      "2019-12-11 01:09:57,403 [main] INFO  org.apache.hadoop.mapred.ClientServiceDelegate - Application state is completed. FinalApplicationStatus=SUCCEEDED. Redirecting to job history server\n",
      "2019-12-11 01:09:57,424 [main] INFO  org.apache.hadoop.yarn.client.RMProxy - Connecting to ResourceManager at /0.0.0.0:8032\n",
      "2019-12-11 01:09:57,426 [main] INFO  org.apache.hadoop.mapred.ClientServiceDelegate - Application state is completed. FinalApplicationStatus=SUCCEEDED. Redirecting to job history server\n",
      "2019-12-11 01:09:57,448 [main] INFO  org.apache.hadoop.yarn.client.RMProxy - Connecting to ResourceManager at /0.0.0.0:8032\n",
      "2019-12-11 01:09:57,450 [main] INFO  org.apache.hadoop.mapred.ClientServiceDelegate - Application state is completed. FinalApplicationStatus=SUCCEEDED. Redirecting to job history server\n",
      "2019-12-11 01:09:57,468 [main] INFO  org.apache.hadoop.yarn.client.RMProxy - Connecting to ResourceManager at /0.0.0.0:8032\n",
      "2019-12-11 01:09:57,470 [main] INFO  org.apache.hadoop.mapred.ClientServiceDelegate - Application state is completed. FinalApplicationStatus=SUCCEEDED. Redirecting to job history server\n",
      "2019-12-11 01:09:57,487 [main] INFO  org.apache.hadoop.yarn.client.RMProxy - Connecting to ResourceManager at /0.0.0.0:8032\n",
      "2019-12-11 01:09:57,489 [main] INFO  org.apache.hadoop.mapred.ClientServiceDelegate - Application state is completed. FinalApplicationStatus=SUCCEEDED. Redirecting to job history server\n",
      "2019-12-11 01:09:57,514 [main] INFO  org.apache.hadoop.mapreduce.lib.input.FileInputFormat - Total input files to process : 1\n",
      "(a,{(a,D),(a,E),(a,E),(a,B),(a,C),(a,B),(a,A),(a,D),(a,B),(a,C),(a,E),(a,A),(a,B),(a,C),(a,E),(a,E),(a,C),(a,A),(a,A),(a,E),(a,A),(a,D)})\n",
      "(b,{(b,E),(b,B),(b,A),(b,E),(b,B),(b,E),(b,C),(b,D),(b,B),(b,A),(b,B),(b,D)})\n",
      "(c,{(c,E),(c,B),(c,A),(c,C),(c,E),(c,B),(c,C),(c,E),(c,E),(c,A),(c,C),(c,E),(c,E),(c,E),(c,C),(c,D),(c,B)})\n",
      "(d,{(d,E),(d,E),(d,E),(d,E),(d,A),(d,B),(d,C),(d,C),(d,B),(d,E),(d,A),(d,A),(d,C)})\n",
      "(e,{(e,D),(e,B),(e,E),(e,D),(e,A),(e,C),(e,E),(e,A),(e,E),(e,B),(e,C),(e,E),(e,E),(e,E),(e,E)})\n",
      "(f,{(f,C),(f,A),(f,C),(f,B),(f,A),(f,E),(f,C),(f,E),(f,E),(f,A),(f,D),(f,E),(f,B),(f,B),(f,E),(f,D),(f,D),(f,E),(f,A),(f,C),(f,D),(f,D),(f,A),(f,E),(f,B)})\n",
      "(g,{(g,E),(g,A),(g,E),(g,D),(g,C),(g,C),(g,B),(g,D),(g,E)})\n"
     ]
    }
   ],
   "source": [
    "%%pig\n",
    "b = GROUP a BY f22;\n",
    "DUMP b;"
   ]
  },
  {
   "cell_type": "code",
   "execution_count": 92,
   "metadata": {},
   "outputs": [
    {
     "name": "stdout",
     "output_type": "stream",
     "text": [
      " c = FOREACH b GENERATE group, COUNT(a);\n",
      " DUMP c;\n",
      "2019-12-11 01:15:32,744 [main] INFO  org.apache.hadoop.yarn.client.RMProxy - Connecting to ResourceManager at /0.0.0.0:8032\n",
      "2019-12-11 01:15:33,223 [JobControl] INFO  org.apache.hadoop.yarn.client.RMProxy - Connecting to ResourceManager at /0.0.0.0:8032\n",
      "2019-12-11 01:15:33,240 [JobControl] WARN  org.apache.hadoop.mapreduce.JobResourceUploader - No job jar file set.  User classes may not be found. See Job or Job#setJar(String).\n",
      "2019-12-11 01:15:33,247 [JobControl] INFO  org.apache.hadoop.mapreduce.lib.input.FileInputFormat - Total input files to process : 1\n",
      "2019-12-11 01:15:33,275 [JobControl] INFO  org.apache.hadoop.mapreduce.JobSubmitter - number of splits:1\n",
      "2019-12-11 01:15:33,288 [JobControl] INFO  org.apache.hadoop.mapreduce.JobSubmitter - Submitting tokens for job: job_1576021273858_0040\n",
      "2019-12-11 01:15:33,290 [JobControl] INFO  org.apache.hadoop.mapred.YARNRunner - Job jar is not present. Not adding any jar to the list of resources.\n",
      "2019-12-11 01:15:33,316 [JobControl] INFO  org.apache.hadoop.yarn.client.api.impl.YarnClientImpl - Submitted application application_1576021273858_0040\n",
      "2019-12-11 01:15:33,319 [JobControl] INFO  org.apache.hadoop.mapreduce.Job - The url to track the job: http://32aedd3c9786:8088/proxy/application_1576021273858_0040/\n",
      "2019-12-11 01:15:48,795 [main] INFO  org.apache.hadoop.yarn.client.RMProxy - Connecting to ResourceManager at /0.0.0.0:8032\n",
      "2019-12-11 01:15:48,803 [main] INFO  org.apache.hadoop.mapred.ClientServiceDelegate - Application state is completed. FinalApplicationStatus=SUCCEEDED. Redirecting to job history server\n",
      "2019-12-11 01:15:48,854 [main] INFO  org.apache.hadoop.yarn.client.RMProxy - Connecting to ResourceManager at /0.0.0.0:8032\n",
      "2019-12-11 01:15:48,857 [main] INFO  org.apache.hadoop.mapred.ClientServiceDelegate - Application state is completed. FinalApplicationStatus=SUCCEEDED. Redirecting to job history server\n",
      "2019-12-11 01:15:48,876 [main] INFO  org.apache.hadoop.yarn.client.RMProxy - Connecting to ResourceManager at /0.0.0.0:8032\n",
      "2019-12-11 01:15:48,879 [main] INFO  org.apache.hadoop.mapred.ClientServiceDelegate - Application state is completed. FinalApplicationStatus=SUCCEEDED. Redirecting to job history server\n",
      "2019-12-11 01:15:48,894 [main] INFO  org.apache.hadoop.yarn.client.RMProxy - Connecting to ResourceManager at /0.0.0.0:8032\n",
      "2019-12-11 01:15:48,897 [main] INFO  org.apache.hadoop.mapred.ClientServiceDelegate - Application state is completed. FinalApplicationStatus=SUCCEEDED. Redirecting to job history server\n",
      "2019-12-11 01:15:48,924 [main] INFO  org.apache.hadoop.yarn.client.RMProxy - Connecting to ResourceManager at /0.0.0.0:8032\n",
      "2019-12-11 01:15:48,928 [main] INFO  org.apache.hadoop.mapred.ClientServiceDelegate - Application state is completed. FinalApplicationStatus=SUCCEEDED. Redirecting to job history server\n",
      "2019-12-11 01:15:48,944 [main] INFO  org.apache.hadoop.yarn.client.RMProxy - Connecting to ResourceManager at /0.0.0.0:8032\n",
      "2019-12-11 01:15:48,946 [main] INFO  org.apache.hadoop.mapred.ClientServiceDelegate - Application state is completed. FinalApplicationStatus=SUCCEEDED. Redirecting to job history server\n",
      "2019-12-11 01:15:48,967 [main] INFO  org.apache.hadoop.mapreduce.lib.input.FileInputFormat - Total input files to process : 1\n",
      "(a,22)\n",
      "(b,12)\n",
      "(c,17)\n",
      "(d,13)\n",
      "(e,15)\n",
      "(f,25)\n",
      "(g,9)\n"
     ]
    }
   ],
   "source": [
    "%%pig\n",
    "c = FOREACH b GENERATE group, COUNT(a);\n",
    "DUMP c;"
   ]
  },
  {
   "cell_type": "code",
   "execution_count": 93,
   "metadata": {},
   "outputs": [
    {
     "name": "stdout",
     "output_type": "stream",
     "text": [
      " STORE c INTO 'output';\n",
      "2019-12-11 01:17:43,526 [main] INFO  org.apache.hadoop.conf.Configuration.deprecation - mapred.textoutputformat.separator is deprecated. Instead, use mapreduce.output.textoutputformat.separator\n",
      "2019-12-11 01:17:43,573 [main] INFO  org.apache.hadoop.yarn.client.RMProxy - Connecting to ResourceManager at /0.0.0.0:8032\n",
      "2019-12-11 01:17:44,088 [JobControl] INFO  org.apache.hadoop.yarn.client.RMProxy - Connecting to ResourceManager at /0.0.0.0:8032\n",
      "2019-12-11 01:17:44,099 [JobControl] WARN  org.apache.hadoop.mapreduce.JobResourceUploader - No job jar file set.  User classes may not be found. See Job or Job#setJar(String).\n",
      "2019-12-11 01:17:44,108 [JobControl] INFO  org.apache.hadoop.mapreduce.lib.input.FileInputFormat - Total input files to process : 1\n",
      "2019-12-11 01:17:44,933 [JobControl] INFO  org.apache.hadoop.mapreduce.JobSubmitter - number of splits:1\n",
      "2019-12-11 01:17:44,948 [JobControl] INFO  org.apache.hadoop.mapreduce.JobSubmitter - Submitting tokens for job: job_1576021273858_0041\n",
      "2019-12-11 01:17:44,951 [JobControl] INFO  org.apache.hadoop.mapred.YARNRunner - Job jar is not present. Not adding any jar to the list of resources.\n",
      "2019-12-11 01:17:44,972 [JobControl] INFO  org.apache.hadoop.yarn.client.api.impl.YarnClientImpl - Submitted application application_1576021273858_0041\n",
      "2019-12-11 01:17:44,980 [JobControl] INFO  org.apache.hadoop.mapreduce.Job - The url to track the job: http://32aedd3c9786:8088/proxy/application_1576021273858_0041/\n",
      "2019-12-11 01:18:05,040 [main] INFO  org.apache.hadoop.yarn.client.RMProxy - Connecting to ResourceManager at /0.0.0.0:8032\n",
      "2019-12-11 01:18:05,045 [main] INFO  org.apache.hadoop.mapred.ClientServiceDelegate - Application state is completed. FinalApplicationStatus=SUCCEEDED. Redirecting to job history server\n",
      "2019-12-11 01:18:05,092 [main] INFO  org.apache.hadoop.yarn.client.RMProxy - Connecting to ResourceManager at /0.0.0.0:8032\n",
      "2019-12-11 01:18:05,095 [main] INFO  org.apache.hadoop.mapred.ClientServiceDelegate - Application state is completed. FinalApplicationStatus=SUCCEEDED. Redirecting to job history server\n",
      "2019-12-11 01:18:05,116 [main] INFO  org.apache.hadoop.yarn.client.RMProxy - Connecting to ResourceManager at /0.0.0.0:8032\n",
      "2019-12-11 01:18:05,118 [main] INFO  org.apache.hadoop.mapred.ClientServiceDelegate - Application state is completed. FinalApplicationStatus=SUCCEEDED. Redirecting to job history server\n",
      "2019-12-11 01:18:05,138 [main] INFO  org.apache.hadoop.yarn.client.RMProxy - Connecting to ResourceManager at /0.0.0.0:8032\n",
      "2019-12-11 01:18:05,140 [main] INFO  org.apache.hadoop.mapred.ClientServiceDelegate - Application state is completed. FinalApplicationStatus=SUCCEEDED. Redirecting to job history server\n",
      "2019-12-11 01:18:05,158 [main] INFO  org.apache.hadoop.yarn.client.RMProxy - Connecting to ResourceManager at /0.0.0.0:8032\n",
      "2019-12-11 01:18:05,161 [main] INFO  org.apache.hadoop.mapred.ClientServiceDelegate - Application state is completed. FinalApplicationStatus=SUCCEEDED. Redirecting to job history server\n",
      "2019-12-11 01:18:05,179 [main] INFO  org.apache.hadoop.yarn.client.RMProxy - Connecting to ResourceManager at /0.0.0.0:8032\n",
      "2019-12-11 01:18:05,183 [main] INFO  org.apache.hadoop.mapred.ClientServiceDelegate - Application state is completed. FinalApplicationStatus=SUCCEEDED. Redirecting to job history server\n"
     ]
    }
   ],
   "source": [
    "%%pig\n",
    "STORE c INTO 'output';"
   ]
  },
  {
   "cell_type": "code",
   "execution_count": 95,
   "metadata": {},
   "outputs": [
    {
     "name": "stdout",
     "output_type": "stream",
     "text": [
      " fs -get output/ .\n"
     ]
    }
   ],
   "source": [
    "%%pig\n",
    "fs -get output/ ."
   ]
  },
  {
   "cell_type": "code",
   "execution_count": null,
   "metadata": {},
   "outputs": [],
   "source": []
  }
 ],
 "metadata": {
  "kernelspec": {
   "display_name": "Python 3",
   "language": "python",
   "name": "python3"
  },
  "language_info": {
   "codemirror_mode": {
    "name": "ipython",
    "version": 3
   },
   "file_extension": ".py",
   "mimetype": "text/x-python",
   "name": "python",
   "nbconvert_exporter": "python",
   "pygments_lexer": "ipython3",
   "version": "3.6.8"
  }
 },
 "nbformat": 4,
 "nbformat_minor": 4
}
