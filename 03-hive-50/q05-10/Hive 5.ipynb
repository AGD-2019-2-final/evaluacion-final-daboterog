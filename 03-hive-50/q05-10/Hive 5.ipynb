{
 "cells": [
  {
   "cell_type": "code",
   "execution_count": 1,
   "metadata": {},
   "outputs": [],
   "source": [
    "%load_ext bigdata\n",
    "%hive_start\n",
    "%timeout 300"
   ]
  },
  {
   "cell_type": "code",
   "execution_count": 2,
   "metadata": {},
   "outputs": [],
   "source": [
    "!hdfs dfs -mkdir /tmp/output"
   ]
  },
  {
   "cell_type": "code",
   "execution_count": 3,
   "metadata": {},
   "outputs": [],
   "source": [
    "!hdfs dfs -copyFromLocal tbl0.csv /tmp/output/"
   ]
  },
  {
   "cell_type": "code",
   "execution_count": 4,
   "metadata": {},
   "outputs": [
    {
     "name": "stdout",
     "output_type": "stream",
     "text": [
      "DROP TABLE IF EXISTS tbl0;\n",
      "OK\n",
      "Time taken: 9.83 seconds\n",
      "CREATE TABLE tbl0 (\n",
      "    c1 INT,\n",
      "    c2 STRING,\n",
      "    c3 INT,\n",
      "    c4 DATE,\n",
      "    c5 ARRAY<CHAR(1)>,\n",
      "    c6 MAP<STRING, INT>\n",
      ")\n",
      "ROW FORMAT DELIMITED\n",
      "FIELDS TERMINATED BY ','\n",
      "COLLECTION ITEMS TERMINATED BY ':'\n",
      "MAP KEYS TERMINATED BY '#'\n",
      "LINES TERMINATED BY '\\n';\n",
      "OK\n",
      "Time taken: 1.001 seconds\n",
      "LOAD DATA LOCAL INPATH 'tbl0.csv' INTO TABLE tbl0;\n",
      "Loading data to table default.tbl0\n",
      "OK\n",
      "Time taken: 1.432 seconds\n"
     ]
    }
   ],
   "source": [
    "%%hive\n",
    "\n",
    "DROP TABLE IF EXISTS tbl0;\n",
    "CREATE TABLE tbl0 (\n",
    "    c1 INT,\n",
    "    c2 STRING,\n",
    "    c3 INT,\n",
    "    c4 DATE,\n",
    "    c5 ARRAY<CHAR(1)>,\n",
    "    c6 MAP<STRING, INT>\n",
    ")\n",
    "ROW FORMAT DELIMITED\n",
    "FIELDS TERMINATED BY ','\n",
    "COLLECTION ITEMS TERMINATED BY ':'\n",
    "MAP KEYS TERMINATED BY '#'\n",
    "LINES TERMINATED BY '\\n';\n",
    "\n",
    "LOAD DATA LOCAL INPATH 'tbl0.csv' INTO TABLE tbl0;"
   ]
  },
  {
   "cell_type": "code",
   "execution_count": 5,
   "metadata": {},
   "outputs": [
    {
     "name": "stdout",
     "output_type": "stream",
     "text": [
      "DROP TABLE IF EXISTS resultado;\n",
      "OK\n",
      "Time taken: 0.009 seconds\n",
      "CREATE TABLE resultado \n",
      "AS\n",
      "SELECT  ano,\n",
      "        letra,\n",
      "        COUNT(letra)\n",
      "FROM (\n",
      "        SELECT \n",
      "            YEAR(c4) AS ano,\n",
      "            letra\n",
      "        FROM\n",
      "            tbl0\n",
      "        LATERAL VIEW explode(c5) tbl0 AS letra\n",
      "    ) t0\n",
      "GROUP BY ano, letra;\n",
      "WARNING: Hive-on-MR is deprecated in Hive 2 and may not be available in the future versions. Consider using a different execution engine (i.e. spark, tez) or using Hive 1.X releases.\n",
      "Query ID = root_20200118220723_e7b982a8-6a4b-4525-a6fc-2de19dd7e856\n",
      "Total jobs = 1\n",
      "Launching Job 1 out of 1\n",
      "Number of reduce tasks not specified. Estimated from input data size: 1\n",
      "In order to change the average load for a reducer (in bytes):\n",
      "  set hive.exec.reducers.bytes.per.reducer=<number>\n",
      "In order to limit the maximum number of reducers:\n",
      "  set hive.exec.reducers.max=<number>\n",
      "In order to set a constant number of reducers:\n",
      "  set mapreduce.job.reduces=<number>\n",
      "Starting Job = job_1579385130637_0001, Tracking URL = http://282e0d2d9a5d:8088/proxy/application_1579385130637_0001/\n",
      "Kill Command = /usr/local/hadoop/bin/hadoop job  -kill job_1579385130637_0001\n",
      "Hadoop job information for Stage-1: number of mappers: 1; number of reducers: 1\n",
      "2020-01-18 22:07:39,494 Stage-1 map = 0%,  reduce = 0%\n",
      "2020-01-18 22:07:47,574 Stage-1 map = 100%,  reduce = 0%, Cumulative CPU 3.45 sec\n",
      "2020-01-18 22:07:54,075 Stage-1 map = 100%,  reduce = 100%, Cumulative CPU 5.75 sec\n",
      "MapReduce Total cumulative CPU time: 5 seconds 750 msec\n",
      "Ended Job = job_1579385130637_0001\n",
      "Moving data to directory hdfs://0.0.0.0:9000/user/hive/warehouse/resultado\n",
      "MapReduce Jobs Launched: \n",
      "Stage-Stage-1: Map: 1  Reduce: 1   Cumulative CPU: 5.75 sec   HDFS Read: 12842 HDFS Write: 254 SUCCESS\n",
      "Total MapReduce CPU Time Spent: 5 seconds 750 msec\n",
      "OK\n",
      "Time taken: 34.458 seconds\n",
      "INSERT OVERWRITE DIRECTORY '/tmp/output'\n",
      "ROW FORMAT DELIMITED FIELDS TERMINATED BY ','\n",
      "SELECT * FROM resultado;\n",
      "WARNING: Hive-on-MR is deprecated in Hive 2 and may not be available in the future versions. Consider using a different execution engine (i.e. spark, tez) or using Hive 1.X releases.\n",
      "Query ID = root_20200118220758_1eff7752-d338-42c8-b7b1-3bd81ee92851\n",
      "Total jobs = 3\n",
      "Launching Job 1 out of 3\n",
      "Number of reduce tasks is set to 0 since there's no reduce operator\n",
      "Starting Job = job_1579385130637_0002, Tracking URL = http://282e0d2d9a5d:8088/proxy/application_1579385130637_0002/\n",
      "Kill Command = /usr/local/hadoop/bin/hadoop job  -kill job_1579385130637_0002\n",
      "Hadoop job information for Stage-1: number of mappers: 1; number of reducers: 0\n",
      "2020-01-18 22:08:09,270 Stage-1 map = 0%,  reduce = 0%\n",
      "2020-01-18 22:08:14,744 Stage-1 map = 100%,  reduce = 0%, Cumulative CPU 1.67 sec\n",
      "MapReduce Total cumulative CPU time: 1 seconds 670 msec\n",
      "Ended Job = job_1579385130637_0002\n",
      "Stage-3 is selected by condition resolver.\n",
      "Stage-2 is filtered out by condition resolver.\n",
      "Stage-4 is filtered out by condition resolver.\n",
      "Moving data to directory hdfs://0.0.0.0:9000/tmp/output/.hive-staging_hive_2020-01-18_22-07-58_193_7701979598331243917-1/-ext-10000\n",
      "Moving data to directory /tmp/output\n",
      "MapReduce Jobs Launched: \n",
      "Stage-Stage-1: Map: 1   Cumulative CPU: 1.67 sec   HDFS Read: 3813 HDFS Write: 180 SUCCESS\n",
      "Total MapReduce CPU Time Spent: 1 seconds 670 msec\n",
      "OK\n",
      "Time taken: 18.736 seconds\n"
     ]
    }
   ],
   "source": [
    "%%hive\n",
    "DROP TABLE IF EXISTS resultado;\n",
    "\n",
    "CREATE TABLE resultado \n",
    "AS\n",
    "SELECT  ano,\n",
    "        letra,\n",
    "        COUNT(letra)\n",
    "FROM (\n",
    "        SELECT \n",
    "            YEAR(c4) AS ano,\n",
    "            letra\n",
    "        FROM\n",
    "            tbl0\n",
    "        LATERAL VIEW explode(c5) tbl0 AS letra\n",
    "    ) t0\n",
    "\n",
    "GROUP BY ano, letra;\n",
    "\n",
    "INSERT OVERWRITE DIRECTORY '/tmp/output'\n",
    "ROW FORMAT DELIMITED FIELDS TERMINATED BY ','\n",
    "SELECT * FROM resultado;"
   ]
  },
  {
   "cell_type": "code",
   "execution_count": 6,
   "metadata": {},
   "outputs": [],
   "source": [
    "!hdfs dfs -copyToLocal /tmp/output output;"
   ]
  },
  {
   "cell_type": "code",
   "execution_count": 7,
   "metadata": {},
   "outputs": [
    {
     "name": "stdout",
     "output_type": "stream",
     "text": [
      "DROP TABLE resultado;\n",
      "OK\n",
      "Time taken: 0.553 seconds\n"
     ]
    }
   ],
   "source": [
    "%%hive\n",
    "DROP TABLE resultado;"
   ]
  },
  {
   "cell_type": "code",
   "execution_count": 8,
   "metadata": {},
   "outputs": [],
   "source": [
    "%hive_quit"
   ]
  },
  {
   "cell_type": "code",
   "execution_count": null,
   "metadata": {},
   "outputs": [],
   "source": []
  }
 ],
 "metadata": {
  "kernelspec": {
   "display_name": "Python 3",
   "language": "python",
   "name": "python3"
  },
  "language_info": {
   "codemirror_mode": {
    "name": "ipython",
    "version": 3
   },
   "file_extension": ".py",
   "mimetype": "text/x-python",
   "name": "python",
   "nbconvert_exporter": "python",
   "pygments_lexer": "ipython3",
   "version": "3.6.9"
  }
 },
 "nbformat": 4,
 "nbformat_minor": 4
}
