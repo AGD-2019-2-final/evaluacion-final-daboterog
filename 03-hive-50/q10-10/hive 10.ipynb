{
 "cells": [
  {
   "cell_type": "code",
   "execution_count": 1,
   "metadata": {},
   "outputs": [],
   "source": [
    "%load_ext bigdata\n",
    "%hive_start\n",
    "%timeout 300"
   ]
  },
  {
   "cell_type": "code",
   "execution_count": 2,
   "metadata": {},
   "outputs": [
    {
     "name": "stdout",
     "output_type": "stream",
     "text": [
      "Deleted /tmp/output\n"
     ]
    }
   ],
   "source": [
    "!hdfs dfs -rm -r -f /tmp/output"
   ]
  },
  {
   "cell_type": "code",
   "execution_count": 3,
   "metadata": {},
   "outputs": [],
   "source": [
    "!hdfs dfs -mkdir /tmp/output"
   ]
  },
  {
   "cell_type": "code",
   "execution_count": 4,
   "metadata": {},
   "outputs": [],
   "source": [
    "!hdfs dfs -copyFromLocal data.tsv /tmp/output/"
   ]
  },
  {
   "cell_type": "code",
   "execution_count": 5,
   "metadata": {},
   "outputs": [
    {
     "name": "stdout",
     "output_type": "stream",
     "text": [
      "DROP TABLE IF EXISTS t0;\n",
      "OK\n",
      "Time taken: 9.375 seconds\n",
      "CREATE TABLE t0 (\n",
      "    c1 STRING,\n",
      "    c2 ARRAY<CHAR(1)>, \n",
      "    c3 MAP<STRING, INT>\n",
      "    )\n",
      "    ROW FORMAT DELIMITED \n",
      "        FIELDS TERMINATED BY '\\t'\n",
      "        COLLECTION ITEMS TERMINATED BY ','\n",
      "        MAP KEYS TERMINATED BY '#'\n",
      "        LINES TERMINATED BY '\\n';\n",
      "OK\n",
      "Time taken: 1.163 seconds\n",
      "LOAD DATA LOCAL INPATH 'data.tsv' INTO TABLE t0;\n",
      "Loading data to table default.t0\n",
      "OK\n",
      "Time taken: 1.59 seconds\n"
     ]
    }
   ],
   "source": [
    "%%hive\n",
    "DROP TABLE IF EXISTS t0;\n",
    "CREATE TABLE t0 (\n",
    "    c1 STRING,\n",
    "    c2 ARRAY<CHAR(1)>, \n",
    "    c3 MAP<STRING, INT>\n",
    "    )\n",
    "    ROW FORMAT DELIMITED \n",
    "        FIELDS TERMINATED BY '\\t'\n",
    "        COLLECTION ITEMS TERMINATED BY ','\n",
    "        MAP KEYS TERMINATED BY '#'\n",
    "        LINES TERMINATED BY '\\n';\n",
    "LOAD DATA LOCAL INPATH 'data.tsv' INTO TABLE t0;"
   ]
  },
  {
   "cell_type": "code",
   "execution_count": 10,
   "metadata": {},
   "outputs": [
    {
     "name": "stdout",
     "output_type": "stream",
     "text": [
      "DROP TABLE IF EXISTS resultado;\n",
      "OK\n",
      "Time taken: 0.008 seconds\n",
      "CREATE TABLE resultado\n",
      "AS\n",
      "SELECT key,\n",
      "       COUNT (key)\n",
      "FROM (\n",
      "      SELECT key\n",
      "      FROM  t0 LATERAL VIEW explode(c3) t0 AS key, val\n",
      "     ) t\n",
      "GROUP BY key\n",
      ";\n",
      "WARNING: Hive-on-MR is deprecated in Hive 2 and may not be available in the future versions. Consider using a different execution engine (i.e. spark, tez) or using Hive 1.X releases.\n",
      "Query ID = root_20200119005444_1bfaec8f-05a6-445d-9c6f-85bff6103962\n",
      "Total jobs = 1\n",
      "Launching Job 1 out of 1\n",
      "Number of reduce tasks not specified. Estimated from input data size: 1\n",
      "In order to change the average load for a reducer (in bytes):\n",
      "  set hive.exec.reducers.bytes.per.reducer=<number>\n",
      "In order to limit the maximum number of reducers:\n",
      "  set hive.exec.reducers.max=<number>\n",
      "In order to set a constant number of reducers:\n",
      "  set mapreduce.job.reduces=<number>\n",
      "Starting Job = job_1579385130637_0016, Tracking URL = http://282e0d2d9a5d:8088/proxy/application_1579385130637_0016/\n",
      "Kill Command = /usr/local/hadoop/bin/hadoop job  -kill job_1579385130637_0016\n",
      "Hadoop job information for Stage-1: number of mappers: 1; number of reducers: 1\n",
      "2020-01-19 00:54:54,387 Stage-1 map = 0%,  reduce = 0%\n",
      "2020-01-19 00:55:00,512 Stage-1 map = 100%,  reduce = 0%, Cumulative CPU 2.11 sec\n",
      "2020-01-19 00:55:07,233 Stage-1 map = 100%,  reduce = 100%, Cumulative CPU 4.08 sec\n",
      "MapReduce Total cumulative CPU time: 4 seconds 80 msec\n",
      "Ended Job = job_1579385130637_0016\n",
      "Moving data to directory hdfs://0.0.0.0:9000/user/hive/warehouse/resultado\n",
      "MapReduce Jobs Launched: \n",
      "Stage-Stage-1: Map: 1  Reduce: 1   Cumulative CPU: 4.08 sec   HDFS Read: 12375 HDFS Write: 143 SUCCESS\n",
      "Total MapReduce CPU Time Spent: 4 seconds 80 msec\n",
      "OK\n",
      "Time taken: 24.267 seconds\n",
      "INSERT OVERWRITE DIRECTORY '/tmp/output'\n",
      "ROW FORMAT DELIMITED FIELDS TERMINATED BY ','\n",
      "SELECT * FROM resultado;\n",
      "WARNING: Hive-on-MR is deprecated in Hive 2 and may not be available in the future versions. Consider using a different execution engine (i.e. spark, tez) or using Hive 1.X releases.\n",
      "Query ID = root_20200119005509_491640eb-35a6-4325-b414-b519e4188c98\n",
      "Total jobs = 3\n",
      "Launching Job 1 out of 3\n",
      "Number of reduce tasks is set to 0 since there's no reduce operator\n",
      "Starting Job = job_1579385130637_0017, Tracking URL = http://282e0d2d9a5d:8088/proxy/application_1579385130637_0017/\n",
      "Kill Command = /usr/local/hadoop/bin/hadoop job  -kill job_1579385130637_0017\n",
      "Hadoop job information for Stage-1: number of mappers: 1; number of reducers: 0\n",
      "2020-01-19 00:55:20,795 Stage-1 map = 0%,  reduce = 0%\n",
      "2020-01-19 00:55:26,296 Stage-1 map = 100%,  reduce = 0%, Cumulative CPU 1.63 sec\n",
      "MapReduce Total cumulative CPU time: 1 seconds 630 msec\n",
      "Ended Job = job_1579385130637_0017\n",
      "Stage-3 is selected by condition resolver.\n",
      "Stage-2 is filtered out by condition resolver.\n",
      "Stage-4 is filtered out by condition resolver.\n",
      "Moving data to directory hdfs://0.0.0.0:9000/tmp/output/.hive-staging_hive_2020-01-19_00-55-09_213_4807534763888931970-1/-ext-10000\n",
      "Moving data to directory /tmp/output\n",
      "MapReduce Jobs Launched: \n",
      "Stage-Stage-1: Map: 1   Cumulative CPU: 1.63 sec   HDFS Read: 3406 HDFS Write: 70 SUCCESS\n",
      "Total MapReduce CPU Time Spent: 1 seconds 630 msec\n",
      "OK\n",
      "Time taken: 18.222 seconds\n"
     ]
    }
   ],
   "source": [
    "%%hive\n",
    "\n",
    "DROP TABLE IF EXISTS resultado;\n",
    "\n",
    "CREATE TABLE resultado\n",
    "AS\n",
    "SELECT key,\n",
    "       COUNT (key)\n",
    "FROM (\n",
    "      SELECT key\n",
    "      FROM  t0 LATERAL VIEW explode(c3) t0 AS key, val\n",
    "     ) t\n",
    "GROUP BY key\n",
    ";\n",
    "\n",
    "INSERT OVERWRITE DIRECTORY '/tmp/output'\n",
    "ROW FORMAT DELIMITED FIELDS TERMINATED BY ','\n",
    "SELECT * FROM resultado;"
   ]
  },
  {
   "cell_type": "code",
   "execution_count": 11,
   "metadata": {},
   "outputs": [],
   "source": [
    "!hdfs dfs -copyToLocal /tmp/output output;"
   ]
  },
  {
   "cell_type": "code",
   "execution_count": 12,
   "metadata": {},
   "outputs": [
    {
     "name": "stdout",
     "output_type": "stream",
     "text": [
      "DROP TABLE resultado;\n",
      "OK\n",
      "Time taken: 0.515 seconds\n"
     ]
    }
   ],
   "source": [
    "%%hive\n",
    "DROP TABLE resultado;"
   ]
  },
  {
   "cell_type": "code",
   "execution_count": 13,
   "metadata": {},
   "outputs": [],
   "source": [
    "%hive_quit"
   ]
  },
  {
   "cell_type": "code",
   "execution_count": null,
   "metadata": {},
   "outputs": [],
   "source": []
  }
 ],
 "metadata": {
  "kernelspec": {
   "display_name": "Python 3",
   "language": "python",
   "name": "python3"
  },
  "language_info": {
   "codemirror_mode": {
    "name": "ipython",
    "version": 3
   },
   "file_extension": ".py",
   "mimetype": "text/x-python",
   "name": "python",
   "nbconvert_exporter": "python",
   "pygments_lexer": "ipython3",
   "version": "3.6.9"
  }
 },
 "nbformat": 4,
 "nbformat_minor": 4
}
