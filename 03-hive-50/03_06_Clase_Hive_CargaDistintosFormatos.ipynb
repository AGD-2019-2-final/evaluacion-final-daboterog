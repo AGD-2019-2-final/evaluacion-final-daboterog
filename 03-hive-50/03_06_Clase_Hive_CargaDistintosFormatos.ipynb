{
 "cells": [
  {
   "cell_type": "code",
   "execution_count": 25,
   "metadata": {},
   "outputs": [
    {
     "name": "stdout",
     "output_type": "stream",
     "text": [
      "The bigdata extension is already loaded. To reload it, use:\n",
      "  %reload_ext bigdata\n"
     ]
    }
   ],
   "source": [
    "##\n",
    "## Se carga la librería para interactuar con Hive desde Jupyter.\n",
    "##\n",
    "%load_ext bigdata\n",
    "%timeout 300"
   ]
  },
  {
   "cell_type": "code",
   "execution_count": 26,
   "metadata": {},
   "outputs": [
    {
     "name": "stdout",
     "output_type": "stream",
     "text": [
      "Deleted /tmp/drivers\n"
     ]
    }
   ],
   "source": [
    "##\n",
    "## Crea la carpeta drivers en el HDFS\n",
    "##\n",
    "!hdfs dfs -rm -r -f /tmp/drivers\n",
    "!hdfs dfs -mkdir    /tmp/drivers"
   ]
  },
  {
   "cell_type": "code",
   "execution_count": 27,
   "metadata": {},
   "outputs": [
    {
     "name": "stdout",
     "output_type": "stream",
     "text": [
      "Err:1 http://security.ubuntu.com/ubuntu bionic-security InRelease\n",
      "  503  Service Unavailable [IP: 91.189.91.14 80]\n",
      "Err:2 http://archive.ubuntu.com/ubuntu bionic InRelease\n",
      "  503  Service Unavailable [IP: 91.189.88.162 80]\n",
      "Err:3 http://archive.ubuntu.com/ubuntu bionic-updates InRelease\n",
      "  503  Service Unavailable [IP: 91.189.88.162 80]\n",
      "Err:4 http://archive.ubuntu.com/ubuntu bionic-backports InRelease\n",
      "  503  Service Unavailable [IP: 91.189.88.162 80]\n",
      "Reading package lists... Done                        \n",
      "W: Failed to fetch http://archive.ubuntu.com/ubuntu/dists/bionic/InRelease  503  Service Unavailable [IP: 91.189.88.162 80]\n",
      "W: Failed to fetch http://archive.ubuntu.com/ubuntu/dists/bionic-updates/InRelease  503  Service Unavailable [IP: 91.189.88.162 80]\n",
      "W: Failed to fetch http://archive.ubuntu.com/ubuntu/dists/bionic-backports/InRelease  503  Service Unavailable [IP: 91.189.88.162 80]\n",
      "W: Failed to fetch http://security.ubuntu.com/ubuntu/dists/bionic-security/InRelease  503  Service Unavailable [IP: 91.189.91.14 80]\n",
      "W: Some index files failed to download. They have been ignored, or old ones used instead.\n",
      "Reading package lists... Done\n",
      "Building dependency tree       \n",
      "Reading state information... Done\n",
      "wget is already the newest version (1.19.4-1ubuntu2.2).\n",
      "0 upgraded, 0 newly installed, 0 to remove and 6 not upgraded.\n"
     ]
    }
   ],
   "source": [
    "!apt-get update && apt-get install wget"
   ]
  },
  {
   "cell_type": "code",
   "execution_count": 7,
   "metadata": {},
   "outputs": [
    {
     "name": "stdout",
     "output_type": "stream",
     "text": [
      "--2019-12-14 12:46:10--  https://raw.githubusercontent.com/jdvelasq/datalabs/master/datasets/drivers/drivers.csv\n",
      "Resolving raw.githubusercontent.com (raw.githubusercontent.com)... 199.232.48.133\n",
      "Connecting to raw.githubusercontent.com (raw.githubusercontent.com)|199.232.48.133|:443... connected.\n",
      "HTTP request sent, awaiting response... 200 OK\n",
      "Length: 2043 (2.0K) [text/plain]\n",
      "Saving to: 'drivers.csv.5'\n",
      "\n",
      "drivers.csv.5       100%[===================>]   2.00K  --.-KB/s    in 0.002s  \n",
      "\n",
      "2019-12-14 12:46:13 (1.26 MB/s) - 'drivers.csv.5' saved [2043/2043]\n",
      "\n"
     ]
    }
   ],
   "source": [
    "!wget https://raw.githubusercontent.com/jdvelasq/datalabs/master/datasets/drivers/drivers.csv"
   ]
  },
  {
   "cell_type": "code",
   "execution_count": 8,
   "metadata": {},
   "outputs": [
    {
     "name": "stdout",
     "output_type": "stream",
     "text": [
      "--2019-12-14 12:46:29--  https://raw.githubusercontent.com/jdvelasq/datalabs/master/datasets/drivers/drivers.json\n",
      "Resolving raw.githubusercontent.com (raw.githubusercontent.com)... 199.232.48.133\n",
      "Connecting to raw.githubusercontent.com (raw.githubusercontent.com)|199.232.48.133|:443... connected.\n",
      "HTTP request sent, awaiting response... 200 OK\n",
      "Length: 4308 (4.2K) [text/plain]\n",
      "Saving to: 'drivers.json'\n",
      "\n",
      "drivers.json        100%[===================>]   4.21K  7.01KB/s    in 0.6s    \n",
      "\n",
      "2019-12-14 12:46:45 (7.01 KB/s) - 'drivers.json' saved [4308/4308]\n",
      "\n"
     ]
    }
   ],
   "source": [
    "!wget https://raw.githubusercontent.com/jdvelasq/datalabs/master/datasets/drivers/drivers.json"
   ]
  },
  {
   "cell_type": "code",
   "execution_count": 9,
   "metadata": {},
   "outputs": [],
   "source": [
    "## Lectura de formato JSON desde un archivo cargado como texto\n",
    "##   En esta estrategía de carga de datos, el archivo original con formato JSON es cargado como texto, donde cada registro de la tabla corresponde a una línea del archivo original."
   ]
  },
  {
   "cell_type": "code",
   "execution_count": 10,
   "metadata": {},
   "outputs": [],
   "source": [
    "##\n",
    "## Copia el archivo al HDFS para su importación posterior a Hive\n",
    "##\n",
    "!hdfs dfs -copyFromLocal drivers.json  /tmp/drivers/"
   ]
  },
  {
   "cell_type": "code",
   "execution_count": 11,
   "metadata": {},
   "outputs": [
    {
     "name": "stdout",
     "output_type": "stream",
     "text": [
      "Found 1 items\n",
      "-rw-r--r--   1 root supergroup       4308 2019-12-14 12:50 /tmp/drivers/drivers.json\n"
     ]
    }
   ],
   "source": [
    "!hdfs dfs -ls /tmp/drivers/"
   ]
  },
  {
   "cell_type": "code",
   "execution_count": 12,
   "metadata": {},
   "outputs": [
    {
     "name": "stdout",
     "output_type": "stream",
     "text": [
      "{\"driverId\":10,\"name\":\"George Vetticaden\",\"ssn\":621011971,\"location\":\"244-4532 Nulla Rd.\",\"certified\":\"N\",\"wage-plan\":\"miles\"}\n",
      "{\"driverId\":11,\"name\":\"Jamie Engesser\",\"ssn\":262112338,\"location\":\"366-4125 Ac Street\",\"certified\":\"N\",\"wage-plan\":\"miles\"}\n",
      "{\"driverId\":12,\"name\":\"Paul Coddin\",\"ssn\":198041975,\"location\":\"Ap #622-957 Risus. Street\",\"certified\":\"Y\",\"wage-plan\":\"hours\"}\n",
      "{\"driverId\":13,\"name\":\"Joe Niemiec\",\"ssn\":139907145,\"location\":\"2071 Hendrerit. Ave\",\"certified\":\"Y\",\"wage-plan\":\"hours\"}\n",
      "{\"driverId\":14,\"name\":\"Adis Cesir\",\"ssn\":820812209,\"location\":\"Ap #810-1228 In St.\",\"certified\":\"Y\",\"wage-plan\":\"hours\"}\n",
      "{\"driverId\":15,\"name\":\"Rohit Bakshi\",\"ssn\":239005227,\"location\":\"648-5681 Dui- Rd.\",\"certified\":\"Y\",\"wage-plan\":\"hours\"}\n",
      "{\"driverId\":16,\"name\":\"Tom McCuch\",\"ssn\":363303105,\"location\":\"P.O. Box 313- 962 Parturient Rd.\",\"certified\":\"Y\",\"wage-plan\":\"hours\"}\n",
      "{\"driverId\":17,\"name\":\"Eric Mizell\",\"ssn\":123808238,\"location\":\"P.O. Box 579- 2191 Gravida. Street\",\"certified\":\"Y\",\"wage-plan\":\"hours\"}\n",
      "{\"driverId\":18,\"name\":\"Grant Liu\",\"ssn\":171010151,\"location\":\"Ap #928-3159 Vestibulum Av.\",\"certified\":\"Y\",\"wage-plan\":\"hours\"}\n",
      "{\"driverId\":19,\"name\":\"Ajay Singh\",\"ssn\":160005158,\"location\":\"592-9430 Nonummy Avenue\",\"certified\":\"Y\",\"wage-plan\":\"hours\"}\n",
      "{\"driverId\":20,\"name\":\"Chris Harris\",\"ssn\":921812303,\"location\":\"883-2691 Proin Avenue\",\"certified\":\"Y\",\"wage-plan\":\"hours\"}\n",
      "{\"driverId\":21,\"name\":\"Jeff Markham\",\"ssn\":209408086,\"location\":\"Ap #852-7966 Facilisis St.\",\"certified\":\"Y\",\"wage-plan\":\"hours\"}\n",
      "{\"driverId\":22,\"name\":\"Nadeem Asghar\",\"ssn\":783204269,\"location\":\"154-9147 Aliquam Ave\",\"certified\":\"Y\",\"wage-plan\":\"hours\"}\n",
      "{\"driverId\":23,\"name\":\"Adam Diaz\",\"ssn\":928312208,\"location\":\"P.O. Box 260- 6127 Vitae Road\",\"certified\":\"Y\",\"wage-plan\":\"hours\"}\n",
      "{\"driverId\":24,\"name\":\"Don Hilborn\",\"ssn\":254412152,\"location\":\"4361 Ac Road\",\"certified\":\"Y\",\"wage-plan\":\"hours\"}\n",
      "{\"driverId\":25,\"name\":\"Jean-Philippe Playe\",\"ssn\":913310051,\"location\":\"P.O. Box 812- 6238 Ac Rd.\",\"certified\":\"Y\",\"wage-plan\":\"hours\"}\n",
      "{\"driverId\":26,\"name\":\"Michael Aube\",\"ssn\":124705141,\"location\":\"P.O. Box 213- 8948 Nec Ave\",\"certified\":\"Y\",\"wage-plan\":\"hours\"}\n",
      "{\"driverId\":27,\"name\":\"Mark Lochbihler\",\"ssn\":392603159,\"location\":\"8355 Ipsum St.\",\"certified\":\"Y\",\"wage-plan\":\"hours\"}\n",
      "{\"driverId\":28,\"name\":\"Olivier Renault\",\"ssn\":959908181,\"location\":\"P.O. Box 243- 6509 Erat. Avenue\",\"certified\":\"Y\",\"wage-plan\":\"hours\"}\n",
      "{\"driverId\":29,\"name\":\"Teddy Choi\",\"ssn\":185502192,\"location\":\"P.O. Box 106- 7003 Amet Rd.\",\"certified\":\"Y\",\"wage-plan\":\"hours\"}\n",
      "{\"driverId\":30,\"name\":\"Dan Rice\",\"ssn\":282307061,\"location\":\"Ap #881-9267 Mollis Avenue\",\"certified\":\"Y\",\"wage-plan\":\"hours\"}\n",
      "{\"driverId\":31,\"name\":\"Rommel Garcia\",\"ssn\":858912101,\"location\":\"P.O. Box 945- 6015 Sociis St.\",\"certified\":\"Y\",\"wage-plan\":\"hours\"}\n",
      "{\"driverId\":32,\"name\":\"Ryan Templeton\",\"ssn\":290304287,\"location\":\"765-6599 Egestas. Av.\",\"certified\":\"Y\",\"wage-plan\":\"hours\"}\n",
      "{\"driverId\":33,\"name\":\"Sridhara Sabbella\",\"ssn\":967409015,\"location\":\"Ap #477-2507 Sagittis Avenue\",\"certified\":\"Y\",\"wage-plan\":\"hours\"}\n",
      "{\"driverId\":34,\"name\":\"Frank Romano\",\"ssn\":391407216,\"location\":\"Ap #753-6814 Quis Ave\",\"certified\":\"Y\",\"wage-plan\":\"hours\"}\n",
      "{\"driverId\":35,\"name\":\"Emil Siemes\",\"ssn\":971401151,\"location\":\"321-2976 Felis Rd.\",\"certified\":\"Y\",\"wage-plan\":\"hours\"}\n",
      "{\"driverId\":36,\"name\":\"Andrew Grande\",\"ssn\":245303216,\"location\":\"Ap #685-9598 Egestas Rd.\",\"certified\":\"Y\",\"wage-plan\":\"hours\"}\n",
      "{\"driverId\":37,\"name\":\"Wes Floyd\",\"ssn\":190504074,\"location\":\"P.O. Box 269- 9611 Nulla Street\",\"certified\":\"Y\",\"wage-plan\":\"hours\"}\n",
      "{\"driverId\":38,\"name\":\"Scott Shaw\",\"ssn\":386411175,\"location\":\"276 Lobortis Road\",\"certified\":\"Y\",\"wage-plan\":\"hours\"}\n",
      "{\"driverId\":39,\"name\":\"David Kaiser\",\"ssn\":967706052,\"location\":\"9185 At Street\",\"certified\":\"Y\",\"wage-plan\":\"hours\"}\n",
      "{\"driverId\":40,\"name\":\"Nicolas Maillard\",\"ssn\":208510217,\"location\":\"1027 Quis Rd.\",\"certified\":\"Y\",\"wage-plan\":\"hours\"}\n",
      "{\"driverId\":41,\"name\":\"Greg Phillips\",\"ssn\":308103116,\"location\":\"P.O. Box 847- 5961 Arcu. Road\",\"certified\":\"Y\",\"wage-plan\":\"hours\"}\n",
      "{\"driverId\":42,\"name\":\"Randy Gelhausen\",\"ssn\":853302254,\"location\":\"145-4200 In- Avenue\",\"certified\":\"Y\",\"wage-plan\":\"hours\"}\n",
      "{\"driverId\":43,\"name\":\"Dave Patton\",\"ssn\":977706052,\"location\":\"3028 A- St.\",\"certified\":\"Y\",\"wage-plan\":\"hours\"}"
     ]
    }
   ],
   "source": [
    "## En la siguiente celda, se crea la tabla drivers_raw_json, la cual tiene una única columna llamada textcol. \n",
    "## Luego, el archivo drivers.json es cargado en dicha tabla. Finalmente, se visualizan los primeros cinco registros para verificar que la lectura fue correcta.\n",
    "!hdfs dfs -cat /tmp/drivers/drivers.json"
   ]
  },
  {
   "cell_type": "code",
   "execution_count": 13,
   "metadata": {},
   "outputs": [
    {
     "name": "stdout",
     "output_type": "stream",
     "text": [
      "DROP TABLE IF EXISTS drivers_raw_json;\n",
      "OK\n",
      "Time taken: 20.076 seconds\n"
     ]
    }
   ],
   "source": [
    "%%hive\n",
    "DROP TABLE IF EXISTS drivers_raw_json;"
   ]
  },
  {
   "cell_type": "code",
   "execution_count": 14,
   "metadata": {},
   "outputs": [
    {
     "name": "stdout",
     "output_type": "stream",
     "text": [
      "CREATE TABLE IF NOT EXISTS drivers_raw_json (textcol STRING)\n",
      "STORED AS TEXTFILE;\n",
      "OK\n",
      "Time taken: 1.561 seconds\n"
     ]
    }
   ],
   "source": [
    "%%hive\n",
    "CREATE TABLE IF NOT EXISTS drivers_raw_json (textcol STRING)\n",
    "STORED AS TEXTFILE;"
   ]
  },
  {
   "cell_type": "code",
   "execution_count": 15,
   "metadata": {},
   "outputs": [
    {
     "name": "stdout",
     "output_type": "stream",
     "text": [
      "LOAD DATA INPATH\n",
      "    '/tmp/drivers/drivers.json'\n",
      "OVERWRITE INTO TABLE drivers_raw_json;\n",
      "Loading data to table default.drivers_raw_json\n",
      "OK\n",
      "Time taken: 1.861 seconds\n"
     ]
    }
   ],
   "source": [
    "%%hive\n",
    "LOAD DATA INPATH\n",
    "    '/tmp/drivers/drivers.json'\n",
    "OVERWRITE INTO TABLE drivers_raw_json;\n"
   ]
  },
  {
   "cell_type": "code",
   "execution_count": 16,
   "metadata": {},
   "outputs": [
    {
     "name": "stdout",
     "output_type": "stream",
     "text": [
      "SELECT * FROM drivers_raw_json LIMIT 5;\n",
      "OK\n",
      "{\"driverId\":10,\"name\":\"George Vetticaden\",\"ssn\":621011971,\"location\":\"244-4532 Nulla Rd.\",\"certified\":\"N\",\"wage-plan\":\"miles\"}\n",
      "{\"driverId\":11,\"name\":\"Jamie Engesser\",\"ssn\":262112338,\"location\":\"366-4125 Ac Street\",\"certified\":\"N\",\"wage-plan\":\"miles\"}\n",
      "{\"driverId\":12,\"name\":\"Paul Coddin\",\"ssn\":198041975,\"location\":\"Ap #622-957 Risus. Street\",\"certified\":\"Y\",\"wage-plan\":\"hours\"}\n",
      "{\"driverId\":13,\"name\":\"Joe Niemiec\",\"ssn\":139907145,\"location\":\"2071 Hendrerit. Ave\",\"certified\":\"Y\",\"wage-plan\":\"hours\"}\n",
      "{\"driverId\":14,\"name\":\"Adis Cesir\",\"ssn\":820812209,\"location\":\"Ap #810-1228 In St.\",\"certified\":\"Y\",\"wage-plan\":\"hours\"}\n",
      "Time taken: 5.185 seconds, Fetched: 5 row(s)\n"
     ]
    }
   ],
   "source": [
    "%%hive\n",
    "SELECT * FROM drivers_raw_json LIMIT 5;"
   ]
  },
  {
   "cell_type": "code",
   "execution_count": 17,
   "metadata": {},
   "outputs": [],
   "source": [
    "## Lectura usando get_json_object\n",
    "##   Los valores de los campos pueden ser extraídos usando la función get_json_object, cuyos parámetros son el nombre del campo en la tabla y el nombre del campo en \n",
    "##   la estructura JSON. En el siguiente fragmento de código, se utiliza una consulta para extraer los campos driverId, name y ssn."
   ]
  },
  {
   "cell_type": "code",
   "execution_count": 19,
   "metadata": {},
   "outputs": [
    {
     "name": "stdout",
     "output_type": "stream",
     "text": [
      "SELECT\n",
      "    GET_JSON_OBJECT(textcol,'$.driverId'),\n",
      "    GET_JSON_OBJECT(textcol,'$.name'),\n",
      "    GET_JSON_OBJECT(textcol,'$.ssn'),\n",
      "    GET_JSON_OBJECT(textcol,'$.location'),\n",
      "    GET_JSON_OBJECT(textcol,'$.certified'),\n",
      "    GET_JSON_OBJECT(textcol,'$.wage-plan')\n",
      "FROM\n",
      "    drivers_raw_json\n",
      "LIMIT\n",
      "    10;\n",
      "OK\n",
      "10\tGeorge Vetticaden\t621011971\t244-4532 Nulla Rd.\tN\tmiles\n",
      "11\tJamie Engesser\t262112338\t366-4125 Ac Street\tN\tmiles\n",
      "12\tPaul Coddin\t198041975\tAp #622-957 Risus. Street\tY\thours\n",
      "13\tJoe Niemiec\t139907145\t2071 Hendrerit. Ave\tY\thours\n",
      "14\tAdis Cesir\t820812209\tAp #810-1228 In St.\tY\thours\n",
      "15\tRohit Bakshi\t239005227\t648-5681 Dui- Rd.\tY\thours\n",
      "16\tTom McCuch\t363303105\tP.O. Box 313- 962 Parturient Rd.\tY\thours\n",
      "17\tEric Mizell\t123808238\tP.O. Box 579- 2191 Gravida. Street\tY\thours\n",
      "18\tGrant Liu\t171010151\tAp #928-3159 Vestibulum Av.\tY\thours\n",
      "19\tAjay Singh\t160005158\t592-9430 Nonummy Avenue\tY\thours\n",
      "Time taken: 0.293 seconds, Fetched: 10 row(s)\n"
     ]
    }
   ],
   "source": [
    "%%hive\n",
    "SELECT\n",
    "    GET_JSON_OBJECT(textcol,'$.driverId'),\n",
    "    GET_JSON_OBJECT(textcol,'$.name'),\n",
    "    GET_JSON_OBJECT(textcol,'$.ssn'),\n",
    "    GET_JSON_OBJECT(textcol,'$.location'),\n",
    "    GET_JSON_OBJECT(textcol,'$.certified'),\n",
    "    GET_JSON_OBJECT(textcol,'$.wage-plan')\n",
    "FROM\n",
    "    drivers_raw_json\n",
    "LIMIT\n",
    "    10;"
   ]
  },
  {
   "cell_type": "code",
   "execution_count": 17,
   "metadata": {},
   "outputs": [],
   "source": [
    "## Uso de json_tuple\n",
    "##   Esta función cumple el mismo objetivo de la anterior, pero es mucho más eficiente ya que el registro es procesado únicamente una vez para realizar \n",
    "##   la extracción de la información requerida. Ya que json_tuple es una UDF, debe usarse LATERAL VIEW para realizar la consulta, tal como se ejemplifica a continuación."
   ]
  },
  {
   "cell_type": "code",
   "execution_count": 21,
   "metadata": {},
   "outputs": [
    {
     "name": "stdout",
     "output_type": "stream",
     "text": [
      "SELECT\n",
      "    t1.driverId,\n",
      "    t1.name,\n",
      "    t1.ssn,\n",
      "    t1.location,\n",
      "    t1.certified,\n",
      "    t1.wage_plan\n",
      "FROM\n",
      "    drivers_raw_json  t0\n",
      "LATERAL VIEW\n",
      "ed', 'wage-plan') t1xtcol, 'driverId', 'name', 'ssn', 'location', 'certifi \n",
      "    AS driverId, name, ssn, location, certified, wage_plan\n",
      "LIMIT 5;\n",
      "OK\n",
      "10\tGeorge Vetticaden\t621011971\t244-4532 Nulla Rd.\tN\tmiles\n",
      "11\tJamie Engesser\t262112338\t366-4125 Ac Street\tN\tmiles\n",
      "12\tPaul Coddin\t198041975\tAp #622-957 Risus. Street\tY\thours\n",
      "13\tJoe Niemiec\t139907145\t2071 Hendrerit. Ave\tY\thours\n",
      "14\tAdis Cesir\t820812209\tAp #810-1228 In St.\tY\thours\n",
      "Time taken: 0.204 seconds, Fetched: 5 row(s)\n"
     ]
    }
   ],
   "source": [
    "%%hive\n",
    "SELECT\n",
    "    t1.driverId,\n",
    "    t1.name,\n",
    "    t1.ssn,\n",
    "    t1.location,\n",
    "    t1.certified,\n",
    "    t1.wage_plan\n",
    "FROM\n",
    "    drivers_raw_json  t0\n",
    "LATERAL VIEW\n",
    "    JSON_TUPLE(t0.textcol, 'driverId', 'name', 'ssn', 'location', 'certified', 'wage-plan') t1\n",
    "    AS driverId, name, ssn, location, certified, wage_plan\n",
    "LIMIT 5;"
   ]
  },
  {
   "cell_type": "code",
   "execution_count": 19,
   "metadata": {},
   "outputs": [],
   "source": [
    "## Carga de archivos en formato JSON\n",
    "##   Hive también permite la importación directa de archivos en formato JSON usando el serde JsonSerDe."
   ]
  },
  {
   "cell_type": "code",
   "execution_count": 20,
   "metadata": {},
   "outputs": [],
   "source": [
    "##\n",
    "## Se copia el archivo al sistema HDFS\n",
    "##\n",
    "!hdfs dfs -copyFromLocal drivers.*  /tmp/drivers/"
   ]
  },
  {
   "cell_type": "code",
   "execution_count": 21,
   "metadata": {},
   "outputs": [],
   "source": [
    "## En la siguiente celda, se crea la tabla drivers_json donde el formato de cada registro es especificado como JSON"
   ]
  },
  {
   "cell_type": "code",
   "execution_count": 22,
   "metadata": {},
   "outputs": [
    {
     "name": "stdout",
     "output_type": "stream",
     "text": [
      "DROP TABLE IF EXISTS drivers_json;\n",
      "OK\n",
      "Time taken: 0.006 seconds\n",
      "CREATE TABLE drivers_json (\n",
      "    driverId  INT,\n",
      "    name      STRING,\n",
      "    ssn       BIGINT,\n",
      "    location  STRING,\n",
      "    certified STRING,\n",
      "    wageplan  STRING)\n",
      "ROW FORMAT SERDE 'org.apache.hive.hcatalog.data.JsonSerDe'\n",
      "STORED AS TEXTFILE\n",
      "LOCATION '/tmp/drivers-json';\n",
      "OK\n",
      "Time taken: 0.061 seconds\n",
      "json;DATA INPATH '/tmp/drivers/drivers.json' OVERWRITE INTO TABLE drivers_ \n",
      "Loading data to table default.drivers_json\n",
      "OK\n",
      "Time taken: 0.334 seconds\n",
      "SELECT * FROM drivers_json LIMIT 5;\n",
      "OK\n",
      "10\tGeorge Vetticaden\t621011971\t244-4532 Nulla Rd.\tN\tNULL\n",
      "11\tJamie Engesser\t262112338\t366-4125 Ac Street\tN\tNULL\n",
      "12\tPaul Coddin\t198041975\tAp #622-957 Risus. Street\tY\tNULL\n",
      "13\tJoe Niemiec\t139907145\t2071 Hendrerit. Ave\tY\tNULL\n",
      "14\tAdis Cesir\t820812209\tAp #810-1228 In St.\tY\tNULL\n",
      "Time taken: 0.124 seconds, Fetched: 5 row(s)\n"
     ]
    }
   ],
   "source": [
    "%%hive\n",
    "DROP TABLE IF EXISTS drivers_json;\n",
    "\n",
    "CREATE TABLE drivers_json (\n",
    "    driverId  INT,\n",
    "    name      STRING,\n",
    "    ssn       BIGINT,\n",
    "    location  STRING,\n",
    "    certified STRING,\n",
    "    wageplan  STRING)\n",
    "ROW FORMAT SERDE 'org.apache.hive.hcatalog.data.JsonSerDe'\n",
    "STORED AS TEXTFILE\n",
    "LOCATION '/tmp/drivers-json';\n",
    "\n",
    "LOAD DATA INPATH '/tmp/drivers/drivers.json' OVERWRITE INTO TABLE drivers_json;\n",
    "\n",
    "SELECT * FROM drivers_json LIMIT 5;"
   ]
  },
  {
   "cell_type": "code",
   "execution_count": 23,
   "metadata": {},
   "outputs": [],
   "source": [
    "## Carga de archivos en formato CSV\n",
    "##   En este ejemplo se usa el serde OpenCSVSerde para leer archivo en formato CSV. Note que se usa la cláusula with serdeproperties para indicar las características del formato CSV utilizado."
   ]
  },
  {
   "cell_type": "code",
   "execution_count": 23,
   "metadata": {},
   "outputs": [
    {
     "name": "stdout",
     "output_type": "stream",
     "text": [
      "DROP TABLE IF EXISTS drivers_csv;\n",
      "OK\n",
      "Time taken: 1.382 seconds\n",
      "CREATE TABLE drivers_csv (driverId  INT,\n",
      "                         name      STRING,\n",
      "                         ssn       BIGINT,\n",
      "                         location  STRING,\n",
      "                         certified STRING,\n",
      "                         wageplan  STRING)\n",
      "ROW FORMAT SERDE\n",
      "    'org.apache.hadoop.hive.serde2.OpenCSVSerde'\n",
      "WITH SERDEPROPERTIES (\n",
      "   'separatorChar' = \",\",\n",
      "   'quoteChar'     = '\\'',\n",
      "   'escapeChar'    = \"\\\\\");\n",
      "OK\n",
      "Time taken: 0.117 seconds\n",
      "sv;D DATA INPATH '/tmp/drivers/drivers.csv' OVERWRITE INTO TABLE drivers_c \n",
      "FAILED: SemanticException Line 1:17 Invalid path ''/tmp/drivers/drivers.csv'': No files matching path hdfs://0.0.0.0:9000/tmp/drivers/drivers.csv\n",
      "SELECT * FROM drivers_csv LIMIT 5;\n",
      "OK\n",
      "Time taken: 0.303 seconds\n"
     ]
    }
   ],
   "source": [
    "%%hive\n",
    "DROP TABLE IF EXISTS drivers_csv;\n",
    "\n",
    "CREATE TABLE drivers_csv (driverId  INT,\n",
    "                         name      STRING,\n",
    "                         ssn       BIGINT,\n",
    "                         location  STRING,\n",
    "                         certified STRING,\n",
    "                         wageplan  STRING)\n",
    "ROW FORMAT SERDE\n",
    "    'org.apache.hadoop.hive.serde2.OpenCSVSerde'\n",
    "WITH SERDEPROPERTIES (\n",
    "   'separatorChar' = \",\",\n",
    "   'quoteChar'     = '\\'',\n",
    "   'escapeChar'    = \"\\\\\");\n",
    "\n",
    "LOAD DATA INPATH '/tmp/drivers/drivers.csv' OVERWRITE INTO TABLE drivers_csv;\n",
    "\n",
    "SELECT * FROM drivers_csv LIMIT 5;"
   ]
  },
  {
   "cell_type": "code",
   "execution_count": 25,
   "metadata": {},
   "outputs": [],
   "source": [
    "## Carga usando expresiones regulaes y RegexSerDe\n",
    "##   En este caso, se realiza la carga de datos especificando los campos mediante el uso de expresiones regulares."
   ]
  },
  {
   "cell_type": "code",
   "execution_count": 26,
   "metadata": {},
   "outputs": [],
   "source": [
    "##\n",
    "## Copia los archivos al HDFS\n",
    "##\n",
    "!hdfs dfs -copyFromLocal drivers.csv  /tmp/drivers/"
   ]
  },
  {
   "cell_type": "code",
   "execution_count": 27,
   "metadata": {},
   "outputs": [
    {
     "name": "stdout",
     "output_type": "stream",
     "text": [
      "DROP TABLE IF EXISTS drivers_regex;\n",
      "OK\n",
      "Time taken: 0.005 seconds\n",
      "CREATE TABLE drivers_regex(\n",
      "    driverId  INT,\n",
      "    name      STRING,\n",
      "    ssn       BIGINT,\n",
      "    location  STRING,\n",
      "    certified STRING,\n",
      "    wageplan  STRING)\n",
      "ROW FORMAT SERDE\n",
      "    'org.apache.hadoop.hive.serde2.RegexSerDe'\n",
      "WITH SERDEPROPERTIES (\n",
      "   'input.regex' = '(\\\\d+),([^,]*),(\\\\d+),([^,]*),([^,]*),([^,]*)')\n",
      "TBLPROPERTIES (\"skip.header.line.count\"=\"1\");\n",
      "OK\n",
      "Time taken: 0.05 seconds\n",
      "egex;DATA INPATH '/tmp/drivers/drivers.csv' OVERWRITE INTO TABLE drivers_r \n",
      "Loading data to table default.drivers_regex\n",
      "OK\n",
      "Time taken: 0.351 seconds\n",
      "SELECT * FROM drivers_regex LIMIT 5;\n",
      "OK\n",
      "10\tGeorge Vetticaden\t621011971\t244-4532 Nulla Rd.\tN\tmiles\n",
      "11\tJamie Engesser\t262112338\t366-4125 Ac Street\tN\tmiles\n",
      "12\tPaul Coddin\t198041975\tAp #622-957 Risus. Street\tY\thours\n",
      "13\tJoe Niemiec\t139907145\t2071 Hendrerit. Ave\tY\thours\n",
      "14\tAdis Cesir\t820812209\tAp #810-1228 In St.\tY\thours\n",
      "Time taken: 0.101 seconds, Fetched: 5 row(s)\n"
     ]
    }
   ],
   "source": [
    "%%hive\n",
    "DROP TABLE IF EXISTS drivers_regex;\n",
    "\n",
    "CREATE TABLE drivers_regex(\n",
    "    driverId  INT,\n",
    "    name      STRING,\n",
    "    ssn       BIGINT,\n",
    "    location  STRING,\n",
    "    certified STRING,\n",
    "    wageplan  STRING)\n",
    "ROW FORMAT SERDE\n",
    "    'org.apache.hadoop.hive.serde2.RegexSerDe'\n",
    "WITH SERDEPROPERTIES (\n",
    "   'input.regex' = '(\\\\d+),([^,]*),(\\\\d+),([^,]*),([^,]*),([^,]*)')\n",
    "TBLPROPERTIES (\"skip.header.line.count\"=\"1\");\n",
    "\n",
    "LOAD DATA INPATH '/tmp/drivers/drivers.csv' OVERWRITE INTO TABLE drivers_regex;\n",
    "\n",
    "SELECT * FROM drivers_regex LIMIT 5;"
   ]
  },
  {
   "cell_type": "code",
   "execution_count": 28,
   "metadata": {},
   "outputs": [],
   "source": [
    "## La expresión regular usada es la siguiente: (\\\\d+),([^,]*),(\\\\d+),([^,]*),([^,]*),([^,]*)`\n",
    "## donde:\n",
    "##   Los paréntesis indica los campos, esto es, (\\\\d+) es el primer campo, ([^,]*) es el segundo y así sucesivamente.\n",
    "##   Se indica que la coma es el separador entre campos.\n",
    "##   (\\\\d+) representa una cadena de uno o más dígitos.\n",
    "##   [...] representan uno o más posibles caracteres, de tal forma que [^,] indica cualquier caracter excepto una coma. Finalmente, el * indica cero, una o más ocurrencias. Es así como [^,]* representa cualquier cadena de caracteres que no contenga una coma.\n",
    "##   La expresión regular usada indica que los campos 1 y 3 son numéricos, y los restantes son texto."
   ]
  },
  {
   "cell_type": "code",
   "execution_count": 30,
   "metadata": {},
   "outputs": [
    {
     "name": "stdout",
     "output_type": "stream",
     "text": [
      "rm: cannot remove 'drivers.*': No such file or directory\n",
      "rm: cannot remove '*.log': No such file or directory\n"
     ]
    }
   ],
   "source": [
    "!rm drivers.* *.log"
   ]
  },
  {
   "cell_type": "code",
   "execution_count": 31,
   "metadata": {},
   "outputs": [
    {
     "ename": "AttributeError",
     "evalue": "'NoneType' object has no attribute 'close'",
     "output_type": "error",
     "traceback": [
      "\u001b[0;31m---------------------------------------------------------------------------\u001b[0m",
      "\u001b[0;31mAttributeError\u001b[0m                            Traceback (most recent call last)",
      "\u001b[0;32m<ipython-input-31-e5c39ade93fd>\u001b[0m in \u001b[0;36m<module>\u001b[0;34m\u001b[0m\n\u001b[0;32m----> 1\u001b[0;31m \u001b[0mget_ipython\u001b[0m\u001b[0;34m(\u001b[0m\u001b[0;34m)\u001b[0m\u001b[0;34m.\u001b[0m\u001b[0mrun_line_magic\u001b[0m\u001b[0;34m(\u001b[0m\u001b[0;34m'hive_quit'\u001b[0m\u001b[0;34m,\u001b[0m \u001b[0;34m''\u001b[0m\u001b[0;34m)\u001b[0m\u001b[0;34m\u001b[0m\u001b[0;34m\u001b[0m\u001b[0m\n\u001b[0m",
      "\u001b[0;32m/usr/local/lib/python3.6/dist-packages/IPython/core/interactiveshell.py\u001b[0m in \u001b[0;36mrun_line_magic\u001b[0;34m(self, magic_name, line, _stack_depth)\u001b[0m\n\u001b[1;32m   2305\u001b[0m                 \u001b[0mkwargs\u001b[0m\u001b[0;34m[\u001b[0m\u001b[0;34m'local_ns'\u001b[0m\u001b[0;34m]\u001b[0m \u001b[0;34m=\u001b[0m \u001b[0msys\u001b[0m\u001b[0;34m.\u001b[0m\u001b[0m_getframe\u001b[0m\u001b[0;34m(\u001b[0m\u001b[0mstack_depth\u001b[0m\u001b[0;34m)\u001b[0m\u001b[0;34m.\u001b[0m\u001b[0mf_locals\u001b[0m\u001b[0;34m\u001b[0m\u001b[0;34m\u001b[0m\u001b[0m\n\u001b[1;32m   2306\u001b[0m             \u001b[0;32mwith\u001b[0m \u001b[0mself\u001b[0m\u001b[0;34m.\u001b[0m\u001b[0mbuiltin_trap\u001b[0m\u001b[0;34m:\u001b[0m\u001b[0;34m\u001b[0m\u001b[0;34m\u001b[0m\u001b[0m\n\u001b[0;32m-> 2307\u001b[0;31m                 \u001b[0mresult\u001b[0m \u001b[0;34m=\u001b[0m \u001b[0mfn\u001b[0m\u001b[0;34m(\u001b[0m\u001b[0;34m*\u001b[0m\u001b[0margs\u001b[0m\u001b[0;34m,\u001b[0m \u001b[0;34m**\u001b[0m\u001b[0mkwargs\u001b[0m\u001b[0;34m)\u001b[0m\u001b[0;34m\u001b[0m\u001b[0;34m\u001b[0m\u001b[0m\n\u001b[0m\u001b[1;32m   2308\u001b[0m             \u001b[0;32mreturn\u001b[0m \u001b[0mresult\u001b[0m\u001b[0;34m\u001b[0m\u001b[0;34m\u001b[0m\u001b[0m\n\u001b[1;32m   2309\u001b[0m \u001b[0;34m\u001b[0m\u001b[0m\n",
      "\u001b[0;32m</usr/local/lib/python3.6/dist-packages/decorator.py:decorator-gen-131>\u001b[0m in \u001b[0;36mhive_quit\u001b[0;34m(self, line)\u001b[0m\n",
      "\u001b[0;32m/usr/local/lib/python3.6/dist-packages/IPython/core/magic.py\u001b[0m in \u001b[0;36m<lambda>\u001b[0;34m(f, *a, **k)\u001b[0m\n\u001b[1;32m    185\u001b[0m     \u001b[0;31m# but it's overkill for just that one bit of state.\u001b[0m\u001b[0;34m\u001b[0m\u001b[0;34m\u001b[0m\u001b[0;34m\u001b[0m\u001b[0m\n\u001b[1;32m    186\u001b[0m     \u001b[0;32mdef\u001b[0m \u001b[0mmagic_deco\u001b[0m\u001b[0;34m(\u001b[0m\u001b[0marg\u001b[0m\u001b[0;34m)\u001b[0m\u001b[0;34m:\u001b[0m\u001b[0;34m\u001b[0m\u001b[0;34m\u001b[0m\u001b[0m\n\u001b[0;32m--> 187\u001b[0;31m         \u001b[0mcall\u001b[0m \u001b[0;34m=\u001b[0m \u001b[0;32mlambda\u001b[0m \u001b[0mf\u001b[0m\u001b[0;34m,\u001b[0m \u001b[0;34m*\u001b[0m\u001b[0ma\u001b[0m\u001b[0;34m,\u001b[0m \u001b[0;34m**\u001b[0m\u001b[0mk\u001b[0m\u001b[0;34m:\u001b[0m \u001b[0mf\u001b[0m\u001b[0;34m(\u001b[0m\u001b[0;34m*\u001b[0m\u001b[0ma\u001b[0m\u001b[0;34m,\u001b[0m \u001b[0;34m**\u001b[0m\u001b[0mk\u001b[0m\u001b[0;34m)\u001b[0m\u001b[0;34m\u001b[0m\u001b[0;34m\u001b[0m\u001b[0m\n\u001b[0m\u001b[1;32m    188\u001b[0m \u001b[0;34m\u001b[0m\u001b[0m\n\u001b[1;32m    189\u001b[0m         \u001b[0;32mif\u001b[0m \u001b[0mcallable\u001b[0m\u001b[0;34m(\u001b[0m\u001b[0marg\u001b[0m\u001b[0;34m)\u001b[0m\u001b[0;34m:\u001b[0m\u001b[0;34m\u001b[0m\u001b[0;34m\u001b[0m\u001b[0m\n",
      "\u001b[0;32m/usr/local/lib/python3.6/dist-packages/bigdata/bd.py\u001b[0m in \u001b[0;36mhive_quit\u001b[0;34m(self, line)\u001b[0m\n\u001b[1;32m     73\u001b[0m     \u001b[0;34m@\u001b[0m\u001b[0mline_magic\u001b[0m\u001b[0;34m\u001b[0m\u001b[0;34m\u001b[0m\u001b[0m\n\u001b[1;32m     74\u001b[0m     \u001b[0;32mdef\u001b[0m \u001b[0mhive_quit\u001b[0m\u001b[0;34m(\u001b[0m\u001b[0mself\u001b[0m\u001b[0;34m,\u001b[0m \u001b[0mline\u001b[0m\u001b[0;34m)\u001b[0m\u001b[0;34m:\u001b[0m\u001b[0;34m\u001b[0m\u001b[0;34m\u001b[0m\u001b[0m\n\u001b[0;32m---> 75\u001b[0;31m         \u001b[0mself\u001b[0m\u001b[0;34m.\u001b[0m\u001b[0mquit\u001b[0m\u001b[0;34m(\u001b[0m\u001b[0;34m'hive'\u001b[0m\u001b[0;34m,\u001b[0m \u001b[0mline\u001b[0m\u001b[0;34m)\u001b[0m\u001b[0;34m\u001b[0m\u001b[0;34m\u001b[0m\u001b[0m\n\u001b[0m\u001b[1;32m     76\u001b[0m         \u001b[0;32mreturn\u001b[0m \u001b[0;32mNone\u001b[0m\u001b[0;34m\u001b[0m\u001b[0;34m\u001b[0m\u001b[0m\n\u001b[1;32m     77\u001b[0m \u001b[0;34m\u001b[0m\u001b[0m\n",
      "\u001b[0;32m/usr/local/lib/python3.6/dist-packages/bigdata/bd.py\u001b[0m in \u001b[0;36mquit\u001b[0;34m(self, appname, line)\u001b[0m\n\u001b[1;32m     83\u001b[0m     \u001b[0;32mdef\u001b[0m \u001b[0mquit\u001b[0m\u001b[0;34m(\u001b[0m\u001b[0mself\u001b[0m\u001b[0;34m,\u001b[0m \u001b[0mappname\u001b[0m\u001b[0;34m,\u001b[0m \u001b[0mline\u001b[0m\u001b[0;34m)\u001b[0m\u001b[0;34m:\u001b[0m\u001b[0;34m\u001b[0m\u001b[0;34m\u001b[0m\u001b[0m\n\u001b[1;32m     84\u001b[0m         \u001b[0;31m#self.app[appname].expect(self.CLI_quit[appname] + ' ' + line, timeout=self.timeout)\u001b[0m\u001b[0;34m\u001b[0m\u001b[0;34m\u001b[0m\u001b[0;34m\u001b[0m\u001b[0m\n\u001b[0;32m---> 85\u001b[0;31m         \u001b[0mself\u001b[0m\u001b[0;34m.\u001b[0m\u001b[0mapp\u001b[0m\u001b[0;34m[\u001b[0m\u001b[0mappname\u001b[0m\u001b[0;34m]\u001b[0m\u001b[0;34m.\u001b[0m\u001b[0mclose\u001b[0m\u001b[0;34m(\u001b[0m\u001b[0;34m)\u001b[0m\u001b[0;34m\u001b[0m\u001b[0;34m\u001b[0m\u001b[0m\n\u001b[0m\u001b[1;32m     86\u001b[0m         \u001b[0mself\u001b[0m\u001b[0;34m.\u001b[0m\u001b[0mapp\u001b[0m\u001b[0;34m[\u001b[0m\u001b[0mappname\u001b[0m\u001b[0;34m]\u001b[0m \u001b[0;34m=\u001b[0m \u001b[0;32mNone\u001b[0m\u001b[0;34m\u001b[0m\u001b[0;34m\u001b[0m\u001b[0m\n\u001b[1;32m     87\u001b[0m         \u001b[0;32mreturn\u001b[0m \u001b[0;32mNone\u001b[0m\u001b[0;34m\u001b[0m\u001b[0;34m\u001b[0m\u001b[0m\n",
      "\u001b[0;31mAttributeError\u001b[0m: 'NoneType' object has no attribute 'close'"
     ]
    }
   ],
   "source": [
    "%hive_quit"
   ]
  },
  {
   "cell_type": "code",
   "execution_count": null,
   "metadata": {},
   "outputs": [],
   "source": []
  }
 ],
 "metadata": {
  "kernelspec": {
   "display_name": "Python 3",
   "language": "python",
   "name": "python3"
  },
  "language_info": {
   "codemirror_mode": {
    "name": "ipython",
    "version": 3
   },
   "file_extension": ".py",
   "mimetype": "text/x-python",
   "name": "python",
   "nbconvert_exporter": "python",
   "pygments_lexer": "ipython3",
   "version": "3.6.9"
  }
 },
 "nbformat": 4,
 "nbformat_minor": 4
}
