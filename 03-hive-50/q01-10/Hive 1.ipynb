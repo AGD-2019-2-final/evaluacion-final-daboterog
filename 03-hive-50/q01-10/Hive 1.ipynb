{
 "cells": [
  {
   "cell_type": "code",
   "execution_count": 1,
   "metadata": {},
   "outputs": [],
   "source": [
    "%load_ext bigdata\n",
    "%hive_start\n",
    "%timeout 300"
   ]
  },
  {
   "cell_type": "code",
   "execution_count": 2,
   "metadata": {},
   "outputs": [],
   "source": [
    "!hdfs dfs -rm -r -f /tmp/output"
   ]
  },
  {
   "cell_type": "code",
   "execution_count": 3,
   "metadata": {},
   "outputs": [],
   "source": [
    "!hdfs dfs -mkdir /tmp/output"
   ]
  },
  {
   "cell_type": "code",
   "execution_count": 4,
   "metadata": {},
   "outputs": [],
   "source": [
    "!hdfs dfs -copyFromLocal data.tsv /tmp/output/"
   ]
  },
  {
   "cell_type": "code",
   "execution_count": 6,
   "metadata": {},
   "outputs": [
    {
     "name": "stdout",
     "output_type": "stream",
     "text": [
      "DROP TABLE IF EXISTS datos;\n",
      "OK\n",
      "Time taken: 0.576 seconds\n",
      "CREATE TABLE datos (letra       STRING,\n",
      "                   fecha       STRING,\n",
      "                   numero      INT\n",
      "                  )\n",
      "ROW FORMAT DELIMITED FIELDS TERMINATED BY '\\t';\n",
      "OK\n",
      "Time taken: 0.065 seconds\n",
      "LOAD DATA INPATH '/tmp/output/data.tsv' OVERWRITE\n",
      "INTO TABLE datos;\n",
      "Loading data to table default.datos\n",
      "OK\n",
      "Time taken: 1.161 seconds\n"
     ]
    }
   ],
   "source": [
    "%%hive\n",
    "\n",
    "DROP TABLE IF EXISTS datos;\n",
    "\n",
    "CREATE TABLE datos (letra       STRING,\n",
    "                   fecha       STRING,\n",
    "                   numero      INT\n",
    "                  )\n",
    "\n",
    "ROW FORMAT DELIMITED FIELDS TERMINATED BY '\\t';\n",
    "LOAD DATA INPATH '/tmp/output/data.tsv' OVERWRITE\n",
    "INTO TABLE datos;"
   ]
  },
  {
   "cell_type": "code",
   "execution_count": 12,
   "metadata": {},
   "outputs": [
    {
     "name": "stdout",
     "output_type": "stream",
     "text": [
      "DROP TABLE IF EXISTS resultado;\n",
      "OK\n",
      "Time taken: 0.006 seconds\n",
      "CREATE TABLE resultado\n",
      "AS\n",
      "SELECT  letra,\n",
      "        COUNT (letra)\n",
      "FROM \n",
      "    datos\n",
      "GROUP BY \n",
      "    letra\n",
      ";\n",
      "WARNING: Hive-on-MR is deprecated in Hive 2 and may not be available in the future versions. Consider using a different execution engine (i.e. spark, tez) or using Hive 1.X releases.\n",
      "Query ID = root_20200119142831_ba0f752f-3484-4adf-b7e8-eecf2e8ef8dc\n",
      "Total jobs = 1\n",
      "Launching Job 1 out of 1\n",
      "Number of reduce tasks not specified. Estimated from input data size: 1\n",
      "In order to change the average load for a reducer (in bytes):\n",
      "  set hive.exec.reducers.bytes.per.reducer=<number>\n",
      "In order to limit the maximum number of reducers:\n",
      "  set hive.exec.reducers.max=<number>\n",
      "In order to set a constant number of reducers:\n",
      "  set mapreduce.job.reduces=<number>\n",
      "Starting Job = job_1579442391358_0001, Tracking URL = http://473fcc274f09:8088/proxy/application_1579442391358_0001/\n",
      "Kill Command = /usr/local/hadoop/bin/hadoop job  -kill job_1579442391358_0001\n",
      "Hadoop job information for Stage-1: number of mappers: 1; number of reducers: 1\n",
      "2020-01-19 14:28:44,491 Stage-1 map = 0%,  reduce = 0%\n",
      "2020-01-19 14:28:49,990 Stage-1 map = 100%,  reduce = 0%, Cumulative CPU 1.93 sec\n",
      "2020-01-19 14:28:57,581 Stage-1 map = 100%,  reduce = 100%, Cumulative CPU 4.38 sec\n",
      "MapReduce Total cumulative CPU time: 4 seconds 380 msec\n",
      "Ended Job = job_1579442391358_0001\n",
      "Moving data to directory hdfs://0.0.0.0:9000/user/hive/warehouse/resultado\n",
      "MapReduce Jobs Launched: \n",
      "Stage-Stage-1: Map: 1  Reduce: 1   Cumulative CPU: 4.38 sec   HDFS Read: 8498 HDFS Write: 96 SUCCESS\n",
      "Total MapReduce CPU Time Spent: 4 seconds 380 msec\n",
      "OK\n",
      "Time taken: 27.682 seconds\n",
      "INSERT OVERWRITE DIRECTORY '/tmp/output'\n",
      "ROW FORMAT DELIMITED FIELDS TERMINATED BY ','\n",
      "SELECT * FROM resultado;\n",
      "WARNING: Hive-on-MR is deprecated in Hive 2 and may not be available in the future versions. Consider using a different execution engine (i.e. spark, tez) or using Hive 1.X releases.\n",
      "Query ID = root_20200119142859_f89821e0-85b0-40d6-bd4e-5f6cd05a0ca7\n",
      "Total jobs = 3\n",
      "Launching Job 1 out of 3\n",
      "Number of reduce tasks is set to 0 since there's no reduce operator\n",
      "Starting Job = job_1579442391358_0002, Tracking URL = http://473fcc274f09:8088/proxy/application_1579442391358_0002/\n",
      "Kill Command = /usr/local/hadoop/bin/hadoop job  -kill job_1579442391358_0002\n",
      "Hadoop job information for Stage-1: number of mappers: 1; number of reducers: 0\n",
      "2020-01-19 14:29:12,334 Stage-1 map = 0%,  reduce = 0%\n",
      "2020-01-19 14:29:17,800 Stage-1 map = 100%,  reduce = 0%, Cumulative CPU 1.38 sec\n",
      "MapReduce Total cumulative CPU time: 1 seconds 380 msec\n",
      "Ended Job = job_1579442391358_0002\n",
      "Stage-3 is selected by condition resolver.\n",
      "Stage-2 is filtered out by condition resolver.\n",
      "Stage-4 is filtered out by condition resolver.\n",
      "Moving data to directory hdfs://0.0.0.0:9000/tmp/output/.hive-staging_hive_2020-01-19_14-28-59_430_8267210204953926396-1/-ext-10000\n",
      "Moving data to directory /tmp/output\n",
      "MapReduce Jobs Launched: \n",
      "Stage-Stage-1: Map: 1   Cumulative CPU: 1.38 sec   HDFS Read: 3371 HDFS Write: 23 SUCCESS\n",
      "Total MapReduce CPU Time Spent: 1 seconds 380 msec\n",
      "OK\n",
      "Time taken: 20.605 seconds\n"
     ]
    }
   ],
   "source": [
    "%%hive\n",
    "\n",
    "DROP TABLE IF EXISTS resultado;\n",
    "\n",
    "CREATE TABLE resultado\n",
    "AS\n",
    "SELECT  letra,\n",
    "        COUNT (letra)\n",
    "FROM \n",
    "    datos\n",
    "GROUP BY \n",
    "    letra\n",
    ";\n",
    "\n",
    "INSERT OVERWRITE DIRECTORY '/tmp/output'\n",
    "ROW FORMAT DELIMITED FIELDS TERMINATED BY ','\n",
    "SELECT * FROM resultado;"
   ]
  },
  {
   "cell_type": "code",
   "execution_count": 13,
   "metadata": {},
   "outputs": [
    {
     "name": "stdout",
     "output_type": "stream",
     "text": [
      "SELECT * FROM resultado LIMIT 5;\n",
      "OK\n",
      "A\t12\n",
      "B\t10\n",
      "C\t4\n",
      "D\t1\n",
      "E\t13\n",
      "Time taken: 0.274 seconds, Fetched: 5 row(s)\n"
     ]
    }
   ],
   "source": [
    "%%hive\n",
    "SELECT * FROM resultado LIMIT 5;"
   ]
  },
  {
   "cell_type": "code",
   "execution_count": 14,
   "metadata": {},
   "outputs": [],
   "source": [
    "!hdfs dfs -copyToLocal /tmp/output output;"
   ]
  },
  {
   "cell_type": "code",
   "execution_count": 15,
   "metadata": {},
   "outputs": [
    {
     "name": "stdout",
     "output_type": "stream",
     "text": [
      "DROP TABLE resultado;\n",
      "OK\n",
      "Time taken: 0.079 seconds\n"
     ]
    }
   ],
   "source": [
    "%%hive\n",
    "DROP TABLE resultado;"
   ]
  },
  {
   "cell_type": "code",
   "execution_count": 16,
   "metadata": {},
   "outputs": [],
   "source": [
    "%hive_quit"
   ]
  },
  {
   "cell_type": "code",
   "execution_count": null,
   "metadata": {},
   "outputs": [],
   "source": []
  }
 ],
 "metadata": {
  "kernelspec": {
   "display_name": "Python 3",
   "language": "python",
   "name": "python3"
  },
  "language_info": {
   "codemirror_mode": {
    "name": "ipython",
    "version": 3
   },
   "file_extension": ".py",
   "mimetype": "text/x-python",
   "name": "python",
   "nbconvert_exporter": "python",
   "pygments_lexer": "ipython3",
   "version": "3.6.9"
  }
 },
 "nbformat": 4,
 "nbformat_minor": 4
}
