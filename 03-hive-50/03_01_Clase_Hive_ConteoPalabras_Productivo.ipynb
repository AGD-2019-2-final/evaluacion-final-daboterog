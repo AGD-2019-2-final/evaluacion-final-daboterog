{
 "cells": [
  {
   "cell_type": "code",
   "execution_count": 13,
   "metadata": {},
   "outputs": [],
   "source": [
    "## Los datos son leidos del sistema HDFS de Hadoop.\n",
    "## Los resultdos son guardados en una carpeta del sistema Hadoop.\n",
    "## El script se almacena en un archivo en el disco duro, para su uso posterior."
   ]
  },
  {
   "cell_type": "code",
   "execution_count": 14,
   "metadata": {},
   "outputs": [
    {
     "name": "stdout",
     "output_type": "stream",
     "text": [
      "Found 3 items\n",
      "drwxrwx---   - root supergroup          0 2019-12-13 19:19 /tmp/hadoop-yarn\n",
      "drwxrwxrwx   - root supergroup          0 2019-12-13 19:30 /tmp/hive\n",
      "drwxr-xr-x   - root supergroup          0 2019-12-13 20:15 /tmp/wordcount\n"
     ]
    }
   ],
   "source": [
    "## Copia Archivos a sistema HDFS\n",
    "##\n",
    "## Se usan un directorio temporal en el HDFS. La siguiente\n",
    "## instrucción muestra el contenido del dicho directorio\n",
    "##\n",
    "!hdfs dfs -ls /tmp"
   ]
  },
  {
   "cell_type": "code",
   "execution_count": 18,
   "metadata": {},
   "outputs": [
    {
     "name": "stdout",
     "output_type": "stream",
     "text": [
      "mkdir: `/tmp/wordcount': File exists\n"
     ]
    }
   ],
   "source": [
    "##\n",
    "## Crea la carpeta wordcount en el hdfs\n",
    "##\n",
    "!hdfs dfs -mkdir /tmp/wordcount"
   ]
  },
  {
   "cell_type": "code",
   "execution_count": 19,
   "metadata": {},
   "outputs": [
    {
     "name": "stdout",
     "output_type": "stream",
     "text": [
      "Found 3 items\n",
      "drwxrwx---   - root supergroup          0 2019-12-13 19:19 /tmp/hadoop-yarn\n",
      "drwxrwxrwx   - root supergroup          0 2019-12-13 19:30 /tmp/hive\n",
      "drwxr-xr-x   - root supergroup          0 2019-12-13 20:15 /tmp/wordcount\n"
     ]
    }
   ],
   "source": [
    "##\n",
    "## Verifica la creación de la carpeta\n",
    "##\n",
    "!hdfs dfs -ls /tmp/"
   ]
  },
  {
   "cell_type": "code",
   "execution_count": 20,
   "metadata": {},
   "outputs": [],
   "source": [
    "##\n",
    "## Copia los archvios del directorio local wordcount/\n",
    "## al directorio /tmp/wordcount/ en el hdfs\n",
    "##\n",
    "!hdfs dfs -copyFromLocal wordcount/*  /tmp/wordcount/"
   ]
  },
  {
   "cell_type": "code",
   "execution_count": 21,
   "metadata": {},
   "outputs": [
    {
     "name": "stdout",
     "output_type": "stream",
     "text": [
      "Found 3 items\n",
      "-rw-r--r--   1 root supergroup       1082 2019-12-13 20:41 /tmp/wordcount/text0.txt\n",
      "-rw-r--r--   1 root supergroup        349 2019-12-13 20:41 /tmp/wordcount/text1.txt\n",
      "-rw-r--r--   1 root supergroup        435 2019-12-13 20:41 /tmp/wordcount/text2.txt\n"
     ]
    }
   ],
   "source": [
    "##\n",
    "## Verifica que los archivos esten copiados\n",
    "## en el hdfs\n",
    "##\n",
    "!hdfs dfs -ls /tmp/wordcount"
   ]
  },
  {
   "cell_type": "code",
   "execution_count": 22,
   "metadata": {},
   "outputs": [],
   "source": [
    "####################################################################################################################\n",
    "## Generación del script y ajuste del código"
   ]
  },
  {
   "cell_type": "code",
   "execution_count": 23,
   "metadata": {},
   "outputs": [
    {
     "name": "stdout",
     "output_type": "stream",
     "text": [
      "Overwriting wordcount.hql\n"
     ]
    }
   ],
   "source": [
    "%%writefile wordcount.hql\n",
    "\n",
    "DROP TABLE IF EXISTS docs;\n",
    "DROP TABLE IF EXISTS word_counts;\n",
    "\n",
    "CREATE TABLE docs (line STRING);\n",
    "\n",
    "LOAD DATA INPATH \"/tmp/wordcount/\" OVERWRITE INTO TABLE docs;\n",
    "\n",
    "CREATE TABLE word_counts\n",
    "AS\n",
    "    SELECT word, count(1) AS count\n",
    "    FROM\n",
    "        (SELECT explode(split(line, '\\\\s')) AS word FROM docs) w\n",
    "GROUP BY\n",
    "    word\n",
    "ORDER BY\n",
    "    word;\n",
    "\n",
    "INSERT OVERWRITE DIRECTORY '/tmp/output'\n",
    "ROW FORMAT DELIMITED FIELDS TERMINATED BY ','\n",
    "SELECT * FROM word_counts;\n"
   ]
  },
  {
   "cell_type": "code",
   "execution_count": 24,
   "metadata": {},
   "outputs": [
    {
     "name": "stdout",
     "output_type": "stream",
     "text": [
      "SLF4J: Class path contains multiple SLF4J bindings.\n",
      "SLF4J: Found binding in [jar:file:/usr/local/hive/lib/log4j-slf4j-impl-2.6.2.jar!/org/slf4j/impl/StaticLoggerBinder.class]\n",
      "SLF4J: Found binding in [jar:file:/usr/local/hadoop/share/hadoop/common/lib/slf4j-log4j12-1.7.10.jar!/org/slf4j/impl/StaticLoggerBinder.class]\n",
      "SLF4J: See http://www.slf4j.org/codes.html#multiple_bindings for an explanation.\n",
      "SLF4J: Actual binding is of type [org.apache.logging.slf4j.Log4jLoggerFactory]\n"
     ]
    }
   ],
   "source": [
    "## Ejecucion\n",
    "!hive -S -e 'source wordcount.hql'"
   ]
  },
  {
   "cell_type": "code",
   "execution_count": 25,
   "metadata": {},
   "outputs": [],
   "source": [
    "## Donde -S indica que Hive se ejecute en modo silencioso; -e que se ejecute la expresión source wordcount.hql. Lo anterior es equivalente a abrir Hive y luego ejecutar:\n",
    "##      hive> source 'wordcount.hql'"
   ]
  },
  {
   "cell_type": "code",
   "execution_count": 26,
   "metadata": {},
   "outputs": [],
   "source": [
    "## Visualización de los resultados"
   ]
  },
  {
   "cell_type": "code",
   "execution_count": 27,
   "metadata": {},
   "outputs": [
    {
     "name": "stdout",
     "output_type": "stream",
     "text": [
      "Found 1 items\n",
      "-rwxrwxrwx   1 root supergroup       1652 2019-12-13 20:42 /tmp/output/000000_0\n"
     ]
    }
   ],
   "source": [
    "## Se lista el contenido del archivo.\n",
    "!hdfs dfs -ls /tmp/output"
   ]
  },
  {
   "cell_type": "code",
   "execution_count": 28,
   "metadata": {},
   "outputs": [
    {
     "name": "stdout",
     "output_type": "stream",
     "text": [
      ",1\n",
      "(DA),1\n",
      "(see,1\n",
      "Analytics,2\n",
      "Analytics,,1\n",
      "Big,1\n",
      "Data,3\n",
      "Especially,1\n",
      "Organizations,1\n",
      "Since,1\n"
     ]
    }
   ],
   "source": [
    "## se visualiza la cabecera del archivo.\n",
    "!hdfs dfs -cat /tmp/output/000000_0 | head"
   ]
  },
  {
   "cell_type": "code",
   "execution_count": 29,
   "metadata": {},
   "outputs": [],
   "source": [
    "## Copia de los resultados a la maquina local (vagrant)"
   ]
  },
  {
   "cell_type": "code",
   "execution_count": 30,
   "metadata": {},
   "outputs": [
    {
     "name": "stdout",
     "output_type": "stream",
     "text": [
      "output/000000_0\n"
     ]
    }
   ],
   "source": [
    "!hadoop fs -copyToLocal /tmp/output output\n",
    "!ls output/*"
   ]
  },
  {
   "cell_type": "code",
   "execution_count": 31,
   "metadata": {},
   "outputs": [
    {
     "name": "stdout",
     "output_type": "stream",
     "text": [
      ",1\n",
      "(DA),1\n",
      "(see,1\n",
      "Analytics,2\n",
      "Analytics,,1\n",
      "Big,1\n",
      "Data,3\n",
      "Especially,1\n",
      "Organizations,1\n",
      "Since,1\n",
      "Specifically,,1\n",
      "The,2\n",
      "a,1\n",
      "about,1\n",
      "aid,1\n",
      "algorithms,1\n",
      "analysis,,1\n",
      "analysis.,1\n",
      "analytics,8\n",
      "analytics,,8\n",
      "analytics.,1\n",
      "analyze,1\n",
      "and,15\n",
      "application,1\n",
      "apply,1\n",
      "are,1\n",
      "areas,2\n",
      "assortment,1\n",
      "be,1\n",
      "big,1\n",
      "business,4\n",
      "by,2\n",
      "call,1\n",
      "can,2\n",
      "certain,1\n",
      "changes.,1\n",
      "cognitive,1\n",
      "commercial,1\n",
      "communication,1\n",
      "computation,1\n",
      "computer,2\n",
      "conclusions,1\n",
      "contain,,1\n",
      "credit,1\n",
      "current,1\n",
      "data,4\n",
      "data),,1\n",
      "data.,1\n",
      "decision,1\n",
      "decisions,2\n",
      "describe,,1\n",
      "descriptive,1\n",
      "discovery,,1\n",
      "disprove,1\n",
      "draw,1\n",
      "effects,1\n",
      "enable,1\n",
      "enterprise,1\n",
      "evaluate,1\n",
      "events,,1\n",
      "examining,1\n",
      "extensive,1\n",
      "field,1\n",
      "for,1\n",
      "force,1\n",
      "fraud,1\n",
      "gaining,1\n",
      "given,1\n",
      "goal,1\n",
      "harness,1\n",
      "historical,1\n",
      "hypotheses.,1\n",
      "improve,2\n",
      "improvements,1\n",
      "in,5\n",
      "include,1\n",
      "increasingly,1\n",
      "industries,1\n",
      "information,1\n",
      "information,,1\n",
      "interpretation,,1\n",
      "involves,1\n",
      "is,3\n",
      "knowledge,1\n",
      "make,2\n",
      "management,,1\n",
      "marketing,2\n",
      "mathematics.,1\n",
      "may,1\n",
      "meaningful,1\n",
      "methods,1\n",
      "mix,1\n",
      "modeling,,2\n",
      "models,,1\n",
      "more-informed,1\n",
      "most,1\n",
      "of,8\n",
      "often,1\n",
      "on,1\n",
      "operations,1\n",
      "optimization,1\n",
      "optimization,,2\n",
      "or,5\n",
      "order,1\n",
      "organizations,1\n",
      "past,1\n",
      "patterns,1\n",
      "performance,1\n",
      "performance.,2\n",
      "potential,1\n",
      "predict,,1\n",
      "predictive,2\n",
      "prescriptive,1\n",
      "price,1\n",
      "process,1\n",
      "programming,1\n",
      "promotion,1\n",
      "quantify,1\n",
      "recorded,1\n",
      "relies,1\n",
      "require,1\n",
      "research,2\n",
      "researchers,1\n",
      "retail,1\n",
      "rich,1\n",
      "risk,1\n",
      "sales,1\n",
      "scenario.,1\n",
      "science,,2\n",
      "scientific,1\n",
      "scientists,1\n",
      "sets,1\n",
      "simultaneous,1\n",
      "sizing,1\n",
      "software,1\n",
      "software.,1\n",
      "specialized,1\n",
      "speech,1\n",
      "statistics,,2\n",
      "stock-keeping,1\n",
      "store,1\n",
      "studying,1\n",
      "systems,1\n",
      "techniques,1\n",
      "technologies,1\n",
      "the,10\n",
      "theories,1\n",
      "they,1\n",
      "to,12\n",
      "tool,1\n",
      "trends,,1\n",
      "unit,1\n",
      "used,3\n",
      "valuable,1\n",
      "verify,1\n",
      "web,1\n",
      "which,1\n",
      "widely,1\n",
      "with,2\n",
      "within,1\n"
     ]
    }
   ],
   "source": [
    "!cat output/000000_0"
   ]
  },
  {
   "cell_type": "code",
   "execution_count": null,
   "metadata": {},
   "outputs": [],
   "source": [
    "## Otra forma de extraer los resultados es: $ hive -S -e 'SELECT * FROM word_counts;' > result.csv"
   ]
  },
  {
   "cell_type": "code",
   "execution_count": 32,
   "metadata": {},
   "outputs": [],
   "source": [
    "!rm -rf output wordcount *.log"
   ]
  },
  {
   "cell_type": "code",
   "execution_count": null,
   "metadata": {},
   "outputs": [],
   "source": []
  }
 ],
 "metadata": {
  "kernelspec": {
   "display_name": "Python 3",
   "language": "python",
   "name": "python3"
  },
  "language_info": {
   "codemirror_mode": {
    "name": "ipython",
    "version": 3
   },
   "file_extension": ".py",
   "mimetype": "text/x-python",
   "name": "python",
   "nbconvert_exporter": "python",
   "pygments_lexer": "ipython3",
   "version": "3.6.9"
  }
 },
 "nbformat": 4,
 "nbformat_minor": 4
}
