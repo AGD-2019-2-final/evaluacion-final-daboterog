{
 "cells": [
  {
   "cell_type": "code",
   "execution_count": 1,
   "metadata": {},
   "outputs": [],
   "source": [
    "%load_ext bigdata\n",
    "%hive_start\n",
    "%timeout 300"
   ]
  },
  {
   "cell_type": "code",
   "execution_count": 12,
   "metadata": {},
   "outputs": [
    {
     "name": "stdout",
     "output_type": "stream",
     "text": [
      "Deleted /tmp\n",
      "mkdir: `/tmp/output': No such file or directory\n",
      "copyFromLocal: `/tmp/output/': No such file or directory: `hdfs://0.0.0.0:9000/tmp/output'\n",
      "ls: `/tmp/output/': No such file or directory\n"
     ]
    }
   ],
   "source": [
    "!hdfs dfs -rm -r -f /tmp\n",
    "!hdfs dfs -mkdir /tmp/output\n",
    "!hdfs dfs -ls /tmp/output/"
   ]
  },
  {
   "cell_type": "code",
   "execution_count": 33,
   "metadata": {},
   "outputs": [],
   "source": [
    "!hdfs dfs -copyFromLocal data.tsv /tmp/output/"
   ]
  },
  {
   "cell_type": "code",
   "execution_count": 35,
   "metadata": {},
   "outputs": [
    {
     "name": "stdout",
     "output_type": "stream",
     "text": [
      "DROP TABLE IF EXISTS datos;\n",
      "OK\n",
      "Time taken: 0.521 seconds\n",
      "CREATE TABLE datos (letra       STRING,\n",
      "                   fecha       STRING,\n",
      "                   numero      INT\n",
      "                  )\n",
      "ROW FORMAT DELIMITED FIELDS TERMINATED BY '\\t';\n",
      "OK\n",
      "Time taken: 0.049 seconds\n"
     ]
    }
   ],
   "source": [
    "%%hive\n",
    "\n",
    "DROP TABLE IF EXISTS datos;\n",
    "\n",
    "CREATE TABLE datos (letra       STRING,\n",
    "                   fecha       STRING,\n",
    "                   numero      INT\n",
    "                  )\n",
    "\n",
    "ROW FORMAT DELIMITED FIELDS TERMINATED BY '\\t';"
   ]
  },
  {
   "cell_type": "code",
   "execution_count": 36,
   "metadata": {},
   "outputs": [
    {
     "name": "stdout",
     "output_type": "stream",
     "text": [
      "LOAD DATA INPATH '/tmp/output/data.tsv' OVERWRITE\n",
      "INTO TABLE datos;\n",
      "Loading data to table default.datos\n",
      "OK\n",
      "Time taken: 0.507 seconds\n"
     ]
    }
   ],
   "source": [
    "%%hive\n",
    "LOAD DATA INPATH '/tmp/output/data.tsv' OVERWRITE\n",
    "INTO TABLE datos;"
   ]
  },
  {
   "cell_type": "code",
   "execution_count": 37,
   "metadata": {},
   "outputs": [
    {
     "name": "stdout",
     "output_type": "stream",
     "text": [
      "SELECT * FROM datos LIMIT 5;\n",
      "OK\n",
      "B\t1999-08-28\t14\n",
      "E\t1999-12-06\t12\n",
      "E\t1993-07-21\t17\n",
      "C\t1991-02-12\t13\n",
      "E\t1995-04-25\t16\n",
      "Time taken: 0.112 seconds, Fetched: 5 row(s)\n"
     ]
    }
   ],
   "source": [
    "%%hive \n",
    "SELECT * FROM datos LIMIT 5;"
   ]
  },
  {
   "cell_type": "code",
   "execution_count": 38,
   "metadata": {},
   "outputs": [
    {
     "name": "stdout",
     "output_type": "stream",
     "text": [
      "DROP TABLE IF EXISTS ordenado;\n",
      "OK\n",
      "Time taken: 0.074 seconds\n",
      "CREATE TABLE ordenado\n",
      "AS\n",
      "SELECT * FROM datos\n",
      "    ORDER BY letra, numero;\n",
      "WARNING: Hive-on-MR is deprecated in Hive 2 and may not be available in the future versions. Consider using a different execution engine (i.e. spark, tez) or using Hive 1.X releases.\n",
      "Query ID = root_20200118194730_6e71f851-9472-444e-84e2-e1d68e095c2d\n",
      "Total jobs = 1\n",
      "Launching Job 1 out of 1\n",
      "Number of reduce tasks determined at compile time: 1\n",
      "In order to change the average load for a reducer (in bytes):\n",
      "  set hive.exec.reducers.bytes.per.reducer=<number>\n",
      "In order to limit the maximum number of reducers:\n",
      "  set hive.exec.reducers.max=<number>\n",
      "In order to set a constant number of reducers:\n",
      "  set mapreduce.job.reduces=<number>\n",
      "Starting Job = job_1579375176863_0007, Tracking URL = http://5601d811d528:8088/proxy/application_1579375176863_0007/\n",
      "Kill Command = /usr/local/hadoop/bin/hadoop job  -kill job_1579375176863_0007\n",
      "Hadoop job information for Stage-1: number of mappers: 1; number of reducers: 1\n",
      "2020-01-18 19:47:37,099 Stage-1 map = 0%,  reduce = 0%\n",
      "2020-01-18 19:47:42,987 Stage-1 map = 100%,  reduce = 0%, Cumulative CPU 1.67 sec\n",
      "2020-01-18 19:47:49,429 Stage-1 map = 100%,  reduce = 100%, Cumulative CPU 3.34 sec\n",
      "MapReduce Total cumulative CPU time: 3 seconds 340 msec\n",
      "Ended Job = job_1579375176863_0007\n",
      "Moving data to directory hdfs://0.0.0.0:9000/user/hive/warehouse/ordenado\n",
      "MapReduce Jobs Launched: \n",
      "Stage-Stage-1: Map: 1  Reduce: 1   Cumulative CPU: 3.34 sec   HDFS Read: 7851 HDFS Write: 710 SUCCESS\n",
      "Total MapReduce CPU Time Spent: 3 seconds 340 msec\n",
      "OK\n",
      "Time taken: 20.134 seconds\n",
      "INSERT OVERWRITE DIRECTORY '/tmp/output'\n",
      "ROW FORMAT DELIMITED FIELDS TERMINATED BY ','\n",
      "SELECT * FROM ordenado;\n",
      "WARNING: Hive-on-MR is deprecated in Hive 2 and may not be available in the future versions. Consider using a different execution engine (i.e. spark, tez) or using Hive 1.X releases.\n",
      "Query ID = root_20200118194751_b65f7569-2d65-48a3-a86d-5bbd9037e455\n",
      "Total jobs = 3\n",
      "Launching Job 1 out of 3\n",
      "Number of reduce tasks is set to 0 since there's no reduce operator\n",
      "Starting Job = job_1579375176863_0008, Tracking URL = http://5601d811d528:8088/proxy/application_1579375176863_0008/\n",
      "Kill Command = /usr/local/hadoop/bin/hadoop job  -kill job_1579375176863_0008\n",
      "Hadoop job information for Stage-1: number of mappers: 1; number of reducers: 0\n",
      "2020-01-18 19:48:03,052 Stage-1 map = 0%,  reduce = 0%\n",
      "2020-01-18 19:48:08,775 Stage-1 map = 100%,  reduce = 0%, Cumulative CPU 1.12 sec\n",
      "MapReduce Total cumulative CPU time: 1 seconds 120 msec\n",
      "Ended Job = job_1579375176863_0008\n",
      "Stage-3 is selected by condition resolver.\n",
      "Stage-2 is filtered out by condition resolver.\n",
      "Stage-4 is filtered out by condition resolver.\n",
      "Moving data to directory hdfs://0.0.0.0:9000/tmp/output/.hive-staging_hive_2020-01-18_19-47-51_155_6190007980461868923-1/-ext-10000\n",
      "Moving data to directory /tmp/output\n",
      "MapReduce Jobs Launched: \n",
      "Stage-Stage-1: Map: 1   Cumulative CPU: 1.12 sec   HDFS Read: 4137 HDFS Write: 637 SUCCESS\n",
      "Total MapReduce CPU Time Spent: 1 seconds 120 msec\n",
      "OK\n",
      "Time taken: 18.73 seconds\n"
     ]
    }
   ],
   "source": [
    "%%hive\n",
    "DROP TABLE IF EXISTS ordenado;\n",
    "\n",
    "CREATE TABLE ordenado\n",
    "AS\n",
    "SELECT * FROM datos\n",
    "    ORDER BY letra, numero;\n",
    "\n",
    "INSERT OVERWRITE DIRECTORY '/tmp/output'\n",
    "ROW FORMAT DELIMITED FIELDS TERMINATED BY ','\n",
    "SELECT * FROM ordenado;"
   ]
  },
  {
   "cell_type": "code",
   "execution_count": 39,
   "metadata": {},
   "outputs": [],
   "source": [
    "!hdfs dfs -copyToLocal /tmp/output output;"
   ]
  },
  {
   "cell_type": "code",
   "execution_count": 40,
   "metadata": {},
   "outputs": [],
   "source": [
    "%hive_quit"
   ]
  },
  {
   "cell_type": "code",
   "execution_count": 41,
   "metadata": {},
   "outputs": [
    {
     "name": "stdout",
     "output_type": "stream",
     "text": [
      "Deleted /tmp\n"
     ]
    }
   ],
   "source": [
    "!hdfs dfs -rm -r -f /tmp"
   ]
  },
  {
   "cell_type": "code",
   "execution_count": 42,
   "metadata": {},
   "outputs": [
    {
     "name": "stdout",
     "output_type": "stream",
     "text": [
      "DROP TABLE datos;\n",
      "OK\n",
      "Time taken: 9.367 seconds\n",
      "DROP TABLE ordenado;\n",
      "OK\n",
      "Time taken: 0.112 seconds\n",
      "DROP TABLE data;\n",
      "OK\n",
      "Time taken: 0.091 seconds\n"
     ]
    }
   ],
   "source": [
    "%%hive \n",
    "\n",
    "DROP TABLE datos;\n",
    "DROP TABLE ordenado;\n",
    "DROP TABLE data;"
   ]
  },
  {
   "cell_type": "code",
   "execution_count": null,
   "metadata": {},
   "outputs": [],
   "source": []
  }
 ],
 "metadata": {
  "kernelspec": {
   "display_name": "Python 3",
   "language": "python",
   "name": "python3"
  },
  "language_info": {
   "codemirror_mode": {
    "name": "ipython",
    "version": 3
   },
   "file_extension": ".py",
   "mimetype": "text/x-python",
   "name": "python",
   "nbconvert_exporter": "python",
   "pygments_lexer": "ipython3",
   "version": "3.6.9"
  }
 },
 "nbformat": 4,
 "nbformat_minor": 4
}
