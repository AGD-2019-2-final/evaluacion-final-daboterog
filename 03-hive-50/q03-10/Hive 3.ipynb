{
 "cells": [
  {
   "cell_type": "code",
   "execution_count": 3,
   "metadata": {},
   "outputs": [],
   "source": [
    "%load_ext bigdata\n",
    "%hive_start\n",
    "%timeout 300"
   ]
  },
  {
   "cell_type": "code",
   "execution_count": 1,
   "metadata": {},
   "outputs": [],
   "source": [
    "!hdfs dfs -mkdir /tmp/output"
   ]
  },
  {
   "cell_type": "code",
   "execution_count": 2,
   "metadata": {},
   "outputs": [],
   "source": [
    "!hdfs dfs -copyFromLocal data.tsv /tmp/output/"
   ]
  },
  {
   "cell_type": "code",
   "execution_count": 4,
   "metadata": {},
   "outputs": [
    {
     "name": "stdout",
     "output_type": "stream",
     "text": [
      "DROP TABLE IF EXISTS datos;\n",
      "OK\n",
      "Time taken: 10.836 seconds\n",
      "CREATE TABLE datos (letra       STRING,\n",
      "                   fecha       STRING,\n",
      "                   numero      INT\n",
      "                  )\n",
      "ROW FORMAT DELIMITED FIELDS TERMINATED BY '\\t';\n",
      "OK\n",
      "Time taken: 0.955 seconds\n"
     ]
    }
   ],
   "source": [
    "%%hive\n",
    "\n",
    "DROP TABLE IF EXISTS datos;\n",
    "\n",
    "CREATE TABLE datos (letra       STRING,\n",
    "                   fecha       STRING,\n",
    "                   numero      INT\n",
    "                  )\n",
    "\n",
    "ROW FORMAT DELIMITED FIELDS TERMINATED BY '\\t';"
   ]
  },
  {
   "cell_type": "code",
   "execution_count": 5,
   "metadata": {},
   "outputs": [
    {
     "name": "stdout",
     "output_type": "stream",
     "text": [
      "LOAD DATA INPATH '/tmp/output/data.tsv' OVERWRITE\n",
      "INTO TABLE datos;\n",
      "Loading data to table default.datos\n",
      "OK\n",
      "Time taken: 1.415 seconds\n"
     ]
    }
   ],
   "source": [
    "%%hive\n",
    "LOAD DATA INPATH '/tmp/output/data.tsv' OVERWRITE\n",
    "INTO TABLE datos;"
   ]
  },
  {
   "cell_type": "code",
   "execution_count": 6,
   "metadata": {},
   "outputs": [
    {
     "name": "stdout",
     "output_type": "stream",
     "text": [
      "SELECT * FROM datos LIMIT 5;\n",
      "OK\n",
      "B\t1999-08-28\t14\n",
      "E\t1999-12-06\t12\n",
      "E\t1993-07-21\t17\n",
      "C\t1991-02-12\t13\n",
      "E\t1995-04-25\t16\n",
      "Time taken: 1.905 seconds, Fetched: 5 row(s)\n"
     ]
    }
   ],
   "source": [
    "%%hive \n",
    "SELECT * FROM datos LIMIT 5;"
   ]
  },
  {
   "cell_type": "code",
   "execution_count": 12,
   "metadata": {},
   "outputs": [
    {
     "name": "stdout",
     "output_type": "stream",
     "text": [
      "DROP TABLE IF EXISTS resultado;\n",
      "OK\n",
      "Time taken: 0.072 seconds\n",
      "CREATE TABLE resultado\n",
      "AS\n",
      "SELECT DISTINCT numero FROM datos \n",
      "    ORDER BY numero LIMIT 5;\n",
      "WARNING: Hive-on-MR is deprecated in Hive 2 and may not be available in the future versions. Consider using a different execution engine (i.e. spark, tez) or using Hive 1.X releases.\n",
      "Query ID = root_20200118201301_6c51e4d6-b8a9-4c29-8c5e-92b4006fcfeb\n",
      "Total jobs = 2\n",
      "Launching Job 1 out of 2\n",
      "Number of reduce tasks not specified. Estimated from input data size: 1\n",
      "In order to change the average load for a reducer (in bytes):\n",
      "  set hive.exec.reducers.bytes.per.reducer=<number>\n",
      "In order to limit the maximum number of reducers:\n",
      "  set hive.exec.reducers.max=<number>\n",
      "In order to set a constant number of reducers:\n",
      "  set mapreduce.job.reduces=<number>\n",
      "Starting Job = job_1579377682907_0006, Tracking URL = http://4b9ee02a1623:8088/proxy/application_1579377682907_0006/\n",
      "Kill Command = /usr/local/hadoop/bin/hadoop job  -kill job_1579377682907_0006\n",
      "Hadoop job information for Stage-1: number of mappers: 1; number of reducers: 1\n",
      "2020-01-18 20:13:09,936 Stage-1 map = 0%,  reduce = 0%\n",
      "2020-01-18 20:13:16,352 Stage-1 map = 100%,  reduce = 0%, Cumulative CPU 1.52 sec\n",
      "2020-01-18 20:13:21,708 Stage-1 map = 100%,  reduce = 100%, Cumulative CPU 2.87 sec\n",
      "MapReduce Total cumulative CPU time: 2 seconds 870 msec\n",
      "Ended Job = job_1579377682907_0006\n",
      "Launching Job 2 out of 2\n",
      "Number of reduce tasks determined at compile time: 1\n",
      "In order to change the average load for a reducer (in bytes):\n",
      "  set hive.exec.reducers.bytes.per.reducer=<number>\n",
      "In order to limit the maximum number of reducers:\n",
      "  set hive.exec.reducers.max=<number>\n",
      "In order to set a constant number of reducers:\n",
      "  set mapreduce.job.reduces=<number>\n",
      "Starting Job = job_1579377682907_0007, Tracking URL = http://4b9ee02a1623:8088/proxy/application_1579377682907_0007/\n",
      "Kill Command = /usr/local/hadoop/bin/hadoop job  -kill job_1579377682907_0007\n",
      "Hadoop job information for Stage-2: number of mappers: 1; number of reducers: 1\n",
      "2020-01-18 20:13:36,155 Stage-2 map = 0%,  reduce = 0%\n",
      "2020-01-18 20:13:41,548 Stage-2 map = 100%,  reduce = 0%, Cumulative CPU 1.21 sec\n",
      "2020-01-18 20:13:47,976 Stage-2 map = 100%,  reduce = 100%, Cumulative CPU 3.55 sec\n",
      "MapReduce Total cumulative CPU time: 3 seconds 550 msec\n",
      "Ended Job = job_1579377682907_0007\n",
      "Moving data to directory hdfs://0.0.0.0:9000/user/hive/warehouse/resultado\n",
      "MapReduce Jobs Launched: \n",
      "Stage-Stage-1: Map: 1  Reduce: 1   Cumulative CPU: 2.87 sec   HDFS Read: 7348 HDFS Write: 186 SUCCESS\n",
      "Stage-Stage-2: Map: 1  Reduce: 1   Cumulative CPU: 3.55 sec   HDFS Read: 4845 HDFS Write: 85 SUCCESS\n",
      "Total MapReduce CPU Time Spent: 6 seconds 420 msec\n",
      "OK\n",
      "Time taken: 48.322 seconds\n",
      "INSERT OVERWRITE DIRECTORY '/tmp/output'\n",
      "ROW FORMAT DELIMITED FIELDS TERMINATED BY ','\n",
      "SELECT * FROM resultado;\n",
      "WARNING: Hive-on-MR is deprecated in Hive 2 and may not be available in the future versions. Consider using a different execution engine (i.e. spark, tez) or using Hive 1.X releases.\n",
      "Query ID = root_20200118201349_21f7b907-822d-4801-83fa-9d757fc1e23f\n",
      "Total jobs = 3\n",
      "Launching Job 1 out of 3\n",
      "Number of reduce tasks is set to 0 since there's no reduce operator\n",
      "Starting Job = job_1579377682907_0008, Tracking URL = http://4b9ee02a1623:8088/proxy/application_1579377682907_0008/\n",
      "Kill Command = /usr/local/hadoop/bin/hadoop job  -kill job_1579377682907_0008\n",
      "Hadoop job information for Stage-1: number of mappers: 1; number of reducers: 0\n",
      "2020-01-18 20:14:00,552 Stage-1 map = 0%,  reduce = 0%\n",
      "2020-01-18 20:14:06,964 Stage-1 map = 100%,  reduce = 0%, Cumulative CPU 1.55 sec\n",
      "MapReduce Total cumulative CPU time: 1 seconds 550 msec\n",
      "Ended Job = job_1579377682907_0008\n",
      "Stage-3 is selected by condition resolver.\n",
      "Stage-2 is filtered out by condition resolver.\n",
      "Stage-4 is filtered out by condition resolver.\n",
      "Moving data to directory hdfs://0.0.0.0:9000/tmp/output/.hive-staging_hive_2020-01-18_20-13-49_703_6985471071429666857-1/-ext-10000\n",
      "Moving data to directory /tmp/output\n",
      "MapReduce Jobs Launched: \n",
      "Stage-Stage-1: Map: 1   Cumulative CPU: 1.55 sec   HDFS Read: 3206 HDFS Write: 12 SUCCESS\n",
      "Total MapReduce CPU Time Spent: 1 seconds 550 msec\n",
      "OK\n",
      "Time taken: 18.385 seconds\n"
     ]
    }
   ],
   "source": [
    "%%hive\n",
    "DROP TABLE IF EXISTS resultado;\n",
    "\n",
    "CREATE TABLE resultado\n",
    "AS\n",
    "SELECT DISTINCT numero FROM datos \n",
    "    ORDER BY numero LIMIT 5;\n",
    "\n",
    "INSERT OVERWRITE DIRECTORY '/tmp/output'\n",
    "ROW FORMAT DELIMITED FIELDS TERMINATED BY ','\n",
    "SELECT * FROM resultado;"
   ]
  },
  {
   "cell_type": "code",
   "execution_count": 13,
   "metadata": {},
   "outputs": [],
   "source": [
    "!hdfs dfs -copyToLocal /tmp/output output;"
   ]
  },
  {
   "cell_type": "code",
   "execution_count": 16,
   "metadata": {},
   "outputs": [],
   "source": [
    "%hive_quit"
   ]
  },
  {
   "cell_type": "code",
   "execution_count": 18,
   "metadata": {},
   "outputs": [
    {
     "name": "stdout",
     "output_type": "stream",
     "text": [
      "DROP TABLE datos;\n",
      "OK\n",
      "Time taken: 0.026 seconds\n",
      "DROP TABLE resultado;\n",
      "OK\n",
      "Time taken: 0.108 seconds\n"
     ]
    }
   ],
   "source": [
    "%%hive\n",
    "DROP TABLE datos;\n",
    "DROP TABLE resultado;"
   ]
  },
  {
   "cell_type": "code",
   "execution_count": null,
   "metadata": {},
   "outputs": [],
   "source": []
  }
 ],
 "metadata": {
  "kernelspec": {
   "display_name": "Python 3",
   "language": "python",
   "name": "python3"
  },
  "language_info": {
   "codemirror_mode": {
    "name": "ipython",
    "version": 3
   },
   "file_extension": ".py",
   "mimetype": "text/x-python",
   "name": "python",
   "nbconvert_exporter": "python",
   "pygments_lexer": "ipython3",
   "version": "3.6.9"
  }
 },
 "nbformat": 4,
 "nbformat_minor": 4
}
