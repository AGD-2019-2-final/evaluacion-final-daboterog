{
 "cells": [
  {
   "cell_type": "code",
   "execution_count": 16,
   "metadata": {},
   "outputs": [],
   "source": [
    "## Pronóstico de la popularidad de libros\n",
    "##   En este tutorial se presentan varios métodos de clasificación usando PySpark, aplicados a un problema de minería de texto."
   ]
  },
  {
   "cell_type": "code",
   "execution_count": 17,
   "metadata": {},
   "outputs": [],
   "source": [
    "## Definición del problema\n",
    "##   La editorial O’Really desea construir una herramienta analítica que le permita a un editor estimar la popularidad relativa de un nuevo libro antes de su lanzamiento, \n",
    "##   con el fin de poder priorizar los títulos a publicar e inclusive rechazar posibles proyectos editoriales.\n",
    "##   Para resolver este problema se tiene una base de datos con los 100 libros más vendidos por O’Really durante el año 2011. La base contiene el título del libro, \n",
    "##   su descripción y su ranking en pupularidad. Para este caso se hipotetiza que la aparición de ciertas palabras en la descripción del libro permitirá determinar su popularidad."
   ]
  },
  {
   "cell_type": "code",
   "execution_count": 18,
   "metadata": {},
   "outputs": [],
   "source": [
    "## Solución"
   ]
  },
  {
   "cell_type": "code",
   "execution_count": 19,
   "metadata": {},
   "outputs": [],
   "source": [
    "##\n",
    "## Se cargan librerías auxiliares que\n",
    "## pueden ser de utilidad en el desarrollo\n",
    "## del código\n",
    "##\n",
    "import pandas as pd\n",
    "import numpy as np\n",
    "import matplotlib.pyplot as plt\n",
    "%matplotlib inline"
   ]
  },
  {
   "cell_type": "code",
   "execution_count": 20,
   "metadata": {},
   "outputs": [
    {
     "ename": "ValueError",
     "evalue": "Cannot run multiple SparkContexts at once; existing SparkContext(app=spark-logreg-app, master=local[*]) created by __init__ at <ipython-input-5-761774f0f0b8>:13 ",
     "output_type": "error",
     "traceback": [
      "\u001b[0;31m---------------------------------------------------------------------------\u001b[0m",
      "\u001b[0;31mValueError\u001b[0m                                Traceback (most recent call last)",
      "\u001b[0;32m<ipython-input-20-761774f0f0b8>\u001b[0m in \u001b[0;36m<module>\u001b[0;34m\u001b[0m\n\u001b[1;32m     11\u001b[0m \u001b[0;34m\u001b[0m\u001b[0m\n\u001b[1;32m     12\u001b[0m \u001b[0mconf\u001b[0m \u001b[0;34m=\u001b[0m \u001b[0mSparkConf\u001b[0m\u001b[0;34m(\u001b[0m\u001b[0;34m)\u001b[0m\u001b[0;34m.\u001b[0m\u001b[0msetAppName\u001b[0m\u001b[0;34m(\u001b[0m\u001b[0mAPP_NAME\u001b[0m\u001b[0;34m)\u001b[0m\u001b[0;34m\u001b[0m\u001b[0;34m\u001b[0m\u001b[0m\n\u001b[0;32m---> 13\u001b[0;31m \u001b[0msc\u001b[0m \u001b[0;34m=\u001b[0m \u001b[0mSparkContext\u001b[0m\u001b[0;34m(\u001b[0m\u001b[0mconf\u001b[0m\u001b[0;34m=\u001b[0m\u001b[0mconf\u001b[0m\u001b[0;34m)\u001b[0m\u001b[0;34m\u001b[0m\u001b[0;34m\u001b[0m\u001b[0m\n\u001b[0m\u001b[1;32m     14\u001b[0m \u001b[0mspark\u001b[0m \u001b[0;34m=\u001b[0m \u001b[0mSparkSession\u001b[0m\u001b[0;34m(\u001b[0m\u001b[0msc\u001b[0m\u001b[0;34m)\u001b[0m\u001b[0;34m\u001b[0m\u001b[0;34m\u001b[0m\u001b[0m\n",
      "\u001b[0;32m/usr/local/lib/python3.6/dist-packages/pyspark/context.py\u001b[0m in \u001b[0;36m__init__\u001b[0;34m(self, master, appName, sparkHome, pyFiles, environment, batchSize, serializer, conf, gateway, jsc, profiler_cls)\u001b[0m\n\u001b[1;32m    131\u001b[0m                     \" note this option will be removed in Spark 3.0\")\n\u001b[1;32m    132\u001b[0m \u001b[0;34m\u001b[0m\u001b[0m\n\u001b[0;32m--> 133\u001b[0;31m         \u001b[0mSparkContext\u001b[0m\u001b[0;34m.\u001b[0m\u001b[0m_ensure_initialized\u001b[0m\u001b[0;34m(\u001b[0m\u001b[0mself\u001b[0m\u001b[0;34m,\u001b[0m \u001b[0mgateway\u001b[0m\u001b[0;34m=\u001b[0m\u001b[0mgateway\u001b[0m\u001b[0;34m,\u001b[0m \u001b[0mconf\u001b[0m\u001b[0;34m=\u001b[0m\u001b[0mconf\u001b[0m\u001b[0;34m)\u001b[0m\u001b[0;34m\u001b[0m\u001b[0;34m\u001b[0m\u001b[0m\n\u001b[0m\u001b[1;32m    134\u001b[0m         \u001b[0;32mtry\u001b[0m\u001b[0;34m:\u001b[0m\u001b[0;34m\u001b[0m\u001b[0;34m\u001b[0m\u001b[0m\n\u001b[1;32m    135\u001b[0m             self._do_init(master, appName, sparkHome, pyFiles, environment, batchSize, serializer,\n",
      "\u001b[0;32m/usr/local/lib/python3.6/dist-packages/pyspark/context.py\u001b[0m in \u001b[0;36m_ensure_initialized\u001b[0;34m(cls, instance, gateway, conf)\u001b[0m\n\u001b[1;32m    330\u001b[0m                         \u001b[0;34m\" created by %s at %s:%s \"\u001b[0m\u001b[0;34m\u001b[0m\u001b[0;34m\u001b[0m\u001b[0m\n\u001b[1;32m    331\u001b[0m                         % (currentAppName, currentMaster,\n\u001b[0;32m--> 332\u001b[0;31m                             callsite.function, callsite.file, callsite.linenum))\n\u001b[0m\u001b[1;32m    333\u001b[0m                 \u001b[0;32melse\u001b[0m\u001b[0;34m:\u001b[0m\u001b[0;34m\u001b[0m\u001b[0;34m\u001b[0m\u001b[0m\n\u001b[1;32m    334\u001b[0m                     \u001b[0mSparkContext\u001b[0m\u001b[0;34m.\u001b[0m\u001b[0m_active_spark_context\u001b[0m \u001b[0;34m=\u001b[0m \u001b[0minstance\u001b[0m\u001b[0;34m\u001b[0m\u001b[0;34m\u001b[0m\u001b[0m\n",
      "\u001b[0;31mValueError\u001b[0m: Cannot run multiple SparkContexts at once; existing SparkContext(app=spark-logreg-app, master=local[*]) created by __init__ at <ipython-input-5-761774f0f0b8>:13 "
     ]
    }
   ],
   "source": [
    "##\n",
    "## Carga de las librerías de Spark\n",
    "##\n",
    "import findspark\n",
    "from pyspark import SparkConf, SparkContext\n",
    "from pyspark.sql import SparkSession\n",
    "\n",
    "findspark.init()\n",
    "\n",
    "APP_NAME = \"spark-logreg-app\"\n",
    "\n",
    "conf = SparkConf().setAppName(APP_NAME)\n",
    "sc = SparkContext(conf=conf)\n",
    "spark = SparkSession(sc)"
   ]
  },
  {
   "cell_type": "code",
   "execution_count": 21,
   "metadata": {},
   "outputs": [],
   "source": [
    "## Exploración"
   ]
  },
  {
   "cell_type": "code",
   "execution_count": 22,
   "metadata": {},
   "outputs": [
    {
     "name": "stdout",
     "output_type": "stream",
     "text": [
      "--2020-01-25 15:20:25--  https://raw.githubusercontent.com/jdvelasq/datalabs/master/datasets/oreilly.csv\n",
      "Resolving raw.githubusercontent.com (raw.githubusercontent.com)... 199.232.48.133\n",
      "Connecting to raw.githubusercontent.com (raw.githubusercontent.com)|199.232.48.133|:443... connected.\n",
      "HTTP request sent, awaiting response... 200 OK\n",
      "Length: 203329 (199K) [text/plain]\n",
      "Saving to: 'oreilly.csv.1'\n",
      "\n",
      "oreilly.csv.1       100%[===================>] 198.56K   872KB/s    in 0.2s    \n",
      "\n",
      "2020-01-25 15:20:27 (872 KB/s) - 'oreilly.csv.1' saved [203329/203329]\n",
      "\n"
     ]
    }
   ],
   "source": [
    "!wget https://raw.githubusercontent.com/jdvelasq/datalabs/master/datasets/oreilly.csv"
   ]
  },
  {
   "cell_type": "code",
   "execution_count": 23,
   "metadata": {},
   "outputs": [],
   "source": [
    "##\n",
    "## Este archivo resulta particularmente difícil de\n",
    "## leer en Spark, por lo que se lee usando Pandas\n",
    "## para luego cargarlo en Spark.\n",
    "##\n",
    "pdDF = pd.read_csv(\n",
    "    \"oreilly.csv\",\n",
    "    sep = ',',           # separador de campos\n",
    "    thousands = None,    # separador de miles para números\n",
    "    decimal = '.',       # separador de los decimales para números\n",
    "    encoding='latin-1')  # idioma"
   ]
  },
  {
   "cell_type": "code",
   "execution_count": 24,
   "metadata": {},
   "outputs": [],
   "source": [
    "##\n",
    "## Se crea el esquema de la tabla en Spark\n",
    "##\n",
    "from pyspark.sql.types import *\n",
    "\n",
    "mySchema = StructType([\n",
    "    StructField(\"IP_Family\", StringType(), True),\\\n",
    "    StructField(\"BOOK_title\", StringType(), True),\\\n",
    "    StructField(\"BOOK_ISBN\", StringType(), True),\\\n",
    "    StructField(\"Rank\", IntegerType(), True),\\\n",
    "    StructField(\"Long_Desc\", StringType(), True)])\n",
    "\n",
    "##\n",
    "## Se crea el DataFrame de Spark a partir\n",
    "## del DataFrame de Spark\n",
    "##\n",
    "df = spark.createDataFrame(pdDF, schema=mySchema)"
   ]
  },
  {
   "cell_type": "code",
   "execution_count": 25,
   "metadata": {},
   "outputs": [
    {
     "name": "stdout",
     "output_type": "stream",
     "text": [
      "root\n",
      " |-- IP_Family: string (nullable = true)\n",
      " |-- BOOK_title: string (nullable = true)\n",
      " |-- BOOK_ISBN: string (nullable = true)\n",
      " |-- Rank: integer (nullable = true)\n",
      " |-- Long_Desc: string (nullable = true)\n",
      "\n"
     ]
    }
   ],
   "source": [
    "##\n",
    "## Se verifican los tipos de los\n",
    "## campos del DataFrame\n",
    "##\n",
    "df.printSchema()"
   ]
  },
  {
   "cell_type": "code",
   "execution_count": 26,
   "metadata": {},
   "outputs": [],
   "source": [
    "## Construcción de los modelos"
   ]
  },
  {
   "cell_type": "code",
   "execution_count": 27,
   "metadata": {},
   "outputs": [],
   "source": [
    "## Transformación del texto en variables numéricas"
   ]
  },
  {
   "cell_type": "code",
   "execution_count": 28,
   "metadata": {},
   "outputs": [
    {
     "name": "stdout",
     "output_type": "stream",
     "text": [
      "+--------------------+--------------------+\n",
      "|           Long_Desc|               words|\n",
      "+--------------------+--------------------+\n",
      "|Perl is a powerfu...|[perl, is, a, pow...|\n",
      "|JavaScript is a p...|[javascript, is, ...|\n",
      "|You're not alone....|[you're, not, alo...|\n",
      "|Learning a comple...|[learning, a, com...|\n",
      "|With Leopard, App...|[with, leopard,, ...|\n",
      "|Tired of reading ...|[tired, of, readi...|\n",
      "|This bestselling ...|[this, bestsellin...|\n",
      "|You may have seen...|[you, may, have, ...|\n",
      "|You can set your ...|[you, can, set, y...|\n",
      "|Once a little-kno...|[once, a, little-...|\n",
      "|JavaScript is a p...|[javascript, is, ...|\n",
      "|<i>Web Design in ...|[<i>web, design, ...|\n",
      "|New York Times co...|[new, york, times...|\n",
      "|In this update of...|[in, this, update...|\n",
      "|The <i>Perl Cookb...|[the, <i>perl, co...|\n",
      "|For a company tha...|[for, a, company,...|\n",
      "|If you are a Web ...|[if, you, are, a,...|\n",
      "|Apple says that M...|[apple, says, tha...|\n",
      "|<p>This Fifth Edi...|[<p>this, fifth, ...|\n",
      "|If you ask Perl p...|[if, you, ask, pe...|\n",
      "+--------------------+--------------------+\n",
      "only showing top 20 rows\n",
      "\n"
     ]
    }
   ],
   "source": [
    "from pyspark.ml.feature import HashingTF, IDF, Tokenizer\n",
    "\n",
    "##\n",
    "## Se usa el tokenizer para separar las palabras. Cada\n",
    "## elemento de la columna words es una lista con las\n",
    "## palabras que conforman el texto\n",
    "##\n",
    "tokenizer = Tokenizer(inputCol=\"Long_Desc\", outputCol=\"words\")\n",
    "df = tokenizer.transform(df)\n",
    "df.select('Long_Desc', 'words').show()"
   ]
  },
  {
   "cell_type": "code",
   "execution_count": 29,
   "metadata": {},
   "outputs": [
    {
     "name": "stdout",
     "output_type": "stream",
     "text": [
      "+--------------------+--------------------+\n",
      "|               words|            filtered|\n",
      "+--------------------+--------------------+\n",
      "|[perl, is, a, pow...|[perl, powerful, ...|\n",
      "|[javascript, is, ...|[javascript, powe...|\n",
      "|[you're, not, alo...|[alone.<br, />, <...|\n",
      "|[learning, a, com...|[learning, comple...|\n",
      "|[with, leopard,, ...|[leopard,, apple,...|\n",
      "|[tired, of, readi...|[tired, reading, ...|\n",
      "|[this, bestsellin...|[bestselling, qui...|\n",
      "|[you, may, have, ...|[may, seen, unix,...|\n",
      "|[you, can, set, y...|[set, watch, it:,...|\n",
      "|[once, a, little-...|[little-known, pr...|\n",
      "|[javascript, is, ...|[javascript, powe...|\n",
      "|[<i>web, design, ...|[<i>web, design, ...|\n",
      "|[new, york, times...|[new, york, times...|\n",
      "|[in, this, update...|[update, bestsell...|\n",
      "|[the, <i>perl, co...|[<i>perl, cookboo...|\n",
      "|[for, a, company,...|[company, promise...|\n",
      "|[if, you, are, a,...|[web, content, de...|\n",
      "|[apple, says, tha...|[apple, says, mac...|\n",
      "|[<p>this, fifth, ...|[<p>this, fifth, ...|\n",
      "|[if, you, ask, pe...|[ask, perl, progr...|\n",
      "+--------------------+--------------------+\n",
      "only showing top 20 rows\n",
      "\n"
     ]
    }
   ],
   "source": [
    "from pyspark.ml.feature import StopWordsRemover\n",
    "\n",
    "##\n",
    "## Se procede a remover las stop words del texto\n",
    "##\n",
    "df = StopWordsRemover(inputCol=\"words\",\n",
    "                      outputCol=\"filtered\").transform(df)\n",
    "df.select('words', 'filtered').show()"
   ]
  },
  {
   "cell_type": "code",
   "execution_count": 30,
   "metadata": {},
   "outputs": [
    {
     "name": "stdout",
     "output_type": "stream",
     "text": [
      "+--------------------+--------------------+\n",
      "|            filtered|         rawFeatures|\n",
      "+--------------------+--------------------+\n",
      "|[perl, powerful, ...|(50,[0,1,2,3,4,5,...|\n",
      "|[javascript, powe...|(50,[0,2,4,5,6,7,...|\n",
      "|[alone.<br, />, <...|(50,[0,1,2,3,5,6,...|\n",
      "|[learning, comple...|(50,[0,1,2,3,4,5,...|\n",
      "|[leopard,, apple,...|(50,[0,1,2,3,4,5,...|\n",
      "|[tired, reading, ...|(50,[0,1,2,3,4,5,...|\n",
      "|[bestselling, qui...|(50,[0,1,2,3,4,5,...|\n",
      "|[may, seen, unix,...|(50,[0,1,2,3,4,5,...|\n",
      "|[set, watch, it:,...|(50,[0,1,2,3,4,5,...|\n",
      "|[little-known, pr...|(50,[0,1,2,3,4,5,...|\n",
      "|[javascript, powe...|(50,[0,2,3,4,5,6,...|\n",
      "|[<i>web, design, ...|(50,[1,2,3,4,5,7,...|\n",
      "|[new, york, times...|(50,[0,1,2,3,4,5,...|\n",
      "|[update, bestsell...|(50,[0,1,2,3,5,6,...|\n",
      "|[<i>perl, cookboo...|(50,[0,1,2,3,4,5,...|\n",
      "|[company, promise...|(50,[0,1,2,3,4,5,...|\n",
      "|[web, content, de...|(50,[0,1,2,3,4,5,...|\n",
      "|[apple, says, mac...|(50,[0,1,2,3,4,5,...|\n",
      "|[<p>this, fifth, ...|(50,[0,2,3,4,5,6,...|\n",
      "|[ask, perl, progr...|(50,[0,2,3,5,6,7,...|\n",
      "+--------------------+--------------------+\n",
      "only showing top 20 rows\n",
      "\n"
     ]
    }
   ],
   "source": [
    "##\n",
    "## Una vez se han removido las stopwords, se\n",
    "## procede a transformar el texto en bag-of-words\n",
    "##\n",
    "hashingTF = HashingTF(\n",
    "    inputCol=\"filtered\",\n",
    "    outputCol=\"rawFeatures\",\n",
    "    numFeatures=50)\n",
    "\n",
    "df = hashingTF.transform(df)\n",
    "\n",
    "df.select(['filtered', 'rawFeatures']).show()"
   ]
  },
  {
   "cell_type": "code",
   "execution_count": 31,
   "metadata": {},
   "outputs": [
    {
     "name": "stdout",
     "output_type": "stream",
     "text": [
      "+--------------------+--------------------+--------------------+\n",
      "|            filtered|         rawFeatures|            features|\n",
      "+--------------------+--------------------+--------------------+\n",
      "|[perl, powerful, ...|(50,[0,1,2,3,4,5,...|(50,[0,1,2,3,4,5,...|\n",
      "|[javascript, powe...|(50,[0,2,4,5,6,7,...|(50,[0,2,4,5,6,7,...|\n",
      "|[alone.<br, />, <...|(50,[0,1,2,3,5,6,...|(50,[0,1,2,3,5,6,...|\n",
      "|[learning, comple...|(50,[0,1,2,3,4,5,...|(50,[0,1,2,3,4,5,...|\n",
      "|[leopard,, apple,...|(50,[0,1,2,3,4,5,...|(50,[0,1,2,3,4,5,...|\n",
      "|[tired, reading, ...|(50,[0,1,2,3,4,5,...|(50,[0,1,2,3,4,5,...|\n",
      "|[bestselling, qui...|(50,[0,1,2,3,4,5,...|(50,[0,1,2,3,4,5,...|\n",
      "|[may, seen, unix,...|(50,[0,1,2,3,4,5,...|(50,[0,1,2,3,4,5,...|\n",
      "|[set, watch, it:,...|(50,[0,1,2,3,4,5,...|(50,[0,1,2,3,4,5,...|\n",
      "|[little-known, pr...|(50,[0,1,2,3,4,5,...|(50,[0,1,2,3,4,5,...|\n",
      "|[javascript, powe...|(50,[0,2,3,4,5,6,...|(50,[0,2,3,4,5,6,...|\n",
      "|[<i>web, design, ...|(50,[1,2,3,4,5,7,...|(50,[1,2,3,4,5,7,...|\n",
      "|[new, york, times...|(50,[0,1,2,3,4,5,...|(50,[0,1,2,3,4,5,...|\n",
      "|[update, bestsell...|(50,[0,1,2,3,5,6,...|(50,[0,1,2,3,5,6,...|\n",
      "|[<i>perl, cookboo...|(50,[0,1,2,3,4,5,...|(50,[0,1,2,3,4,5,...|\n",
      "|[company, promise...|(50,[0,1,2,3,4,5,...|(50,[0,1,2,3,4,5,...|\n",
      "|[web, content, de...|(50,[0,1,2,3,4,5,...|(50,[0,1,2,3,4,5,...|\n",
      "|[apple, says, mac...|(50,[0,1,2,3,4,5,...|(50,[0,1,2,3,4,5,...|\n",
      "|[<p>this, fifth, ...|(50,[0,2,3,4,5,6,...|(50,[0,2,3,4,5,6,...|\n",
      "|[ask, perl, progr...|(50,[0,2,3,5,6,7,...|(50,[0,2,3,5,6,7,...|\n",
      "+--------------------+--------------------+--------------------+\n",
      "only showing top 20 rows\n",
      "\n"
     ]
    }
   ],
   "source": [
    "##\n",
    "## Luego se procede a reescalar los valores\n",
    "## usando la función IDF para mejorar el\n",
    "## desempeño del modelo\n",
    "##\n",
    "\n",
    "idf = IDF(inputCol=\"rawFeatures\",\n",
    "          outputCol=\"features\")\n",
    "\n",
    "idfModel = idf.fit(df)\n",
    "\n",
    "df = idfModel.transform(df)\n",
    "\n",
    "df.select(\"filtered\", \"rawFeatures\", \"features\").show()"
   ]
  },
  {
   "cell_type": "code",
   "execution_count": 33,
   "metadata": {},
   "outputs": [],
   "source": [
    "## Construcción de la variable de salida\n",
    "#    A continuación, se procede a construir una variable binaria de salida para indicar el ranking de los libros. Si la variable vale 1, el \n",
    "##   libro pertence a los primeros 50, y 0 en caso contrario."
   ]
  },
  {
   "cell_type": "code",
   "execution_count": 34,
   "metadata": {},
   "outputs": [
    {
     "name": "stdout",
     "output_type": "stream",
     "text": [
      "+----+\n",
      "|Rank|\n",
      "+----+\n",
      "|   1|\n",
      "|   2|\n",
      "|   3|\n",
      "|   4|\n",
      "|   5|\n",
      "|   6|\n",
      "|   7|\n",
      "|   8|\n",
      "|   9|\n",
      "|  10|\n",
      "|  11|\n",
      "|  12|\n",
      "|  13|\n",
      "|  14|\n",
      "|  15|\n",
      "|  16|\n",
      "|  17|\n",
      "|  18|\n",
      "|  19|\n",
      "|  20|\n",
      "+----+\n",
      "only showing top 20 rows\n",
      "\n"
     ]
    }
   ],
   "source": [
    "from pyspark.sql.functions import lit\n",
    "from pyspark.sql.functions import when\n",
    "from pyspark.sql.types import DoubleType\n",
    "\n",
    "df = df.withColumn(\n",
    "    'label',\n",
    "    when(df['Rank'] >= 50, lit(0).cast(DoubleType())).otherwise(lit(1).cast(DoubleType())))\n",
    "\n",
    "df.select('Rank').show()"
   ]
  },
  {
   "cell_type": "code",
   "execution_count": 35,
   "metadata": {},
   "outputs": [],
   "source": [
    "## Regresión Logística\n",
    "##   A continuación se construye un modelo de regresión logística que pronóstica si un libro pertence al grupo de los primeros 50 o no, con base en \n",
    "##   las palabras del abstract y que ya fueron representadas como un bag-of-words."
   ]
  },
  {
   "cell_type": "code",
   "execution_count": 36,
   "metadata": {},
   "outputs": [],
   "source": [
    "## Importa la librería\n",
    "from pyspark.ml.classification import LogisticRegression\n",
    "\n",
    "## Parametriza el modelo\n",
    "lr = LogisticRegression(\n",
    "    featuresCol='features',\n",
    "    labelCol='label',\n",
    "    rawPredictionCol='rawLR',\n",
    "    probabilityCol='probLR',\n",
    "    predictionCol='LR',\n",
    "    maxIter=1000,\n",
    "    regParam=0.1,\n",
    "    elasticNetParam=0.8)\n",
    "\n",
    "## Entrena el modelo\n",
    "model = lr.fit(df)\n",
    "\n",
    "## Pronostico\n",
    "df = model.transform(df)"
   ]
  },
  {
   "cell_type": "code",
   "execution_count": 38,
   "metadata": {},
   "outputs": [
    {
     "name": "stdout",
     "output_type": "stream",
     "text": [
      "+----------------+--------------------+-------------+----+--------------------+--------------------+--------------------+--------------------+--------------------+-----+--------------------+--------------------+---+\n",
      "|       IP_Family|          BOOK_title|    BOOK_ISBN|Rank|           Long_Desc|               words|            filtered|         rawFeatures|            features|label|               rawLR|              probLR| LR|\n",
      "+----------------+--------------------+-------------+----+--------------------+--------------------+--------------------+--------------------+--------------------+-----+--------------------+--------------------+---+\n",
      "|9780596000271.IP|Programming Perl, 3E|9780596000271|   1|Perl is a powerfu...|[perl, is, a, pow...|[perl, powerful, ...|(50,[0,1,2,3,4,5,...|(50,[0,1,2,3,4,5,...|  1.0|[0.04449759293132...|[0.51112256303733...|0.0|\n",
      "|9781565923928.IP|Javascript: The D...|9781565923928|   2|JavaScript is a p...|[javascript, is, ...|[javascript, powe...|(50,[0,2,4,5,6,7,...|(50,[0,2,4,5,6,7,...|  1.0|[-0.1567874926935...|[0.46088322576358...|1.0|\n",
      "|9780596007126.IP|Head First Design...|9780596007126|   3|You're not alone....|[you're, not, alo...|[alone.<br, />, <...|(50,[0,1,2,3,5,6,...|(50,[0,1,2,3,5,6,...|  1.0|[0.27994969728434...|[0.56953389151517...|0.0|\n",
      "|9780596009205.IP| Head First Java, 2E|9780596009205|   4|Learning a comple...|[learning, a, com...|[learning, comple...|(50,[0,1,2,3,4,5,...|(50,[0,1,2,3,4,5,...|  1.0|[0.23045591282754...|[0.55736033569693...|0.0|\n",
      "|9780596529529.IP|Mac OS X Leopard:...|9780596529529|   5|With Leopard, App...|[with, leopard,, ...|[leopard,, apple,...|(50,[0,1,2,3,4,5,...|(50,[0,1,2,3,4,5,...|  1.0|[-0.3051713957232...|[0.42429378182633...|1.0|\n",
      "|9780596101978.IP|Head First HTML w...|9780596101978|   6|Tired of reading ...|[tired, of, readi...|[tired, reading, ...|(50,[0,1,2,3,4,5,...|(50,[0,1,2,3,4,5,...|  1.0|[-1.0073057622503...|[0.26750744833936...|1.0|\n",
      "|9781565924871.IP|Java in a Nutshel...|9781565924871|   7|This bestselling ...|[this, bestsellin...|[bestselling, qui...|(50,[0,1,2,3,4,5,...|(50,[0,1,2,3,4,5,...|  1.0|[-0.1860397595849...|[0.45362374292453...|1.0|\n",
      "|9781565924277.IP|UNIX in a Nutshel...|9781565924277|   8|You may have seen...|[you, may, have, ...|[may, seen, unix,...|(50,[0,1,2,3,4,5,...|(50,[0,1,2,3,4,5,...|  1.0|[0.09755827349296...|[0.52437024255294...|0.0|\n",
      "|9780596009410.IP|Mac OS X: The Mis...|9780596009410|   9|You can set your ...|[you, can, set, y...|[set, watch, it:,...|(50,[0,1,2,3,4,5,...|(50,[0,1,2,3,4,5,...|  1.0|[-0.2327569035825...|[0.44207206251845...|1.0|\n",
      "|9781565924697.IP|   Running Linux, 3E|9781565924697|  10|Once a little-kno...|[once, a, little-...|[little-known, pr...|(50,[0,1,2,3,4,5,...|(50,[0,1,2,3,4,5,...|  1.0|[-0.0115746556433...|[0.49710636839472...|1.0|\n",
      "|9780596000486.IP|JavaScript: The D...|9780596000486|  11|JavaScript is a p...|[javascript, is, ...|[javascript, powe...|(50,[0,2,3,4,5,6,...|(50,[0,2,3,4,5,6,...|  1.0|[-0.5741934212002...|[0.36026977892754...|1.0|\n",
      "|9781565925151.IP|Web Design in a N...|9781565925151|  12|<i>Web Design in ...|[<i>web, design, ...|[<i>web, design, ...|(50,[1,2,3,4,5,7,...|(50,[1,2,3,4,5,7,...|  1.0|[-0.1441201683244...|[0.46403219252508...|1.0|\n",
      "|9780596004507.IP|Mac OS X: The Mis...|9780596004507|  13|New York Times co...|[new, york, times...|[new, york, times...|(50,[0,1,2,3,4,5,...|(50,[0,1,2,3,4,5,...|  1.0|[-0.2444533209755...|[0.43918919335796...|1.0|\n",
      "|9781565922846.IP|   Learning Perl, 2E|9781565922846|  14|In this update of...|[in, this, update...|[update, bestsell...|(50,[0,1,2,3,5,6,...|(50,[0,1,2,3,5,6,...|  1.0|[-0.0861589852770...|[0.47847356859023...|1.0|\n",
      "|9781565922433.IP|       Perl Cookbook|9781565922433|  15|The <i>Perl Cookb...|[the, <i>perl, co...|[<i>perl, cookboo...|(50,[0,1,2,3,4,5,...|(50,[0,1,2,3,4,5,...|  1.0|[-0.0932808001301...|[0.47669669495306...|1.0|\n",
      "|9780596153298.IP|Mac OS X Snow Leo...|9780596153281|  16|For a company tha...|[for, a, company,...|[company, promise...|(50,[0,1,2,3,4,5,...|(50,[0,1,2,3,4,5,...|  1.0|[0.14836591557181...|[0.53702358882039...|0.0|\n",
      "|9781565924949.IP|Dynamic HTML: The...|9781565924949|  17|If you are a Web ...|[if, you, are, a,...|[web, content, de...|(50,[0,1,2,3,4,5,...|(50,[0,1,2,3,4,5,...|  1.0|[-0.0128885132653...|[0.49677791628624...|1.0|\n",
      "|9780596006150.IP|Mac OS X: The Mis...|9780596006150|  18|Apple says that M...|[apple, says, tha...|[apple, says, mac...|(50,[0,1,2,3,4,5,...|(50,[0,1,2,3,4,5,...|  1.0|[-0.0172796631257...|[0.49568019170449...|1.0|\n",
      "|9780596101992.IP|JavaScript: The D...|9780596101992|  19|<p>This Fifth Edi...|[<p>this, fifth, ...|[<p>this, fifth, ...|(50,[0,2,3,4,5,6,...|(50,[0,2,3,4,5,6,...|  1.0|[-0.7401451510848...|[0.32297240403116...|1.0|\n",
      "|9780596001322.IP|   Learning Perl, 3E|9780596001322|  20|If you ask Perl p...|[if, you, ask, pe...|[ask, perl, progr...|(50,[0,2,3,5,6,7,...|(50,[0,2,3,5,6,7,...|  1.0|[-0.1205926576743...|[0.46988831855719...|1.0|\n",
      "+----------------+--------------------+-------------+----+--------------------+--------------------+--------------------+--------------------+--------------------+-----+--------------------+--------------------+---+\n",
      "only showing top 20 rows\n",
      "\n"
     ]
    }
   ],
   "source": [
    "df.show()"
   ]
  },
  {
   "cell_type": "code",
   "execution_count": 39,
   "metadata": {},
   "outputs": [],
   "source": [
    "## Árbol de Clasificación"
   ]
  },
  {
   "cell_type": "code",
   "execution_count": 40,
   "metadata": {},
   "outputs": [],
   "source": [
    "from pyspark.ml.classification import DecisionTreeClassifier\n",
    "\n",
    "dt = DecisionTreeClassifier(\n",
    "    labelCol=\"label\",\n",
    "    featuresCol=\"features\",\n",
    "    predictionCol='DTC',\n",
    "    rawPredictionCol='rawDTC',\n",
    "    probabilityCol='probDTC')\n",
    "\n",
    "model = dt.fit(df)\n",
    "\n",
    "df = model.transform(df)\n"
   ]
  },
  {
   "cell_type": "code",
   "execution_count": 41,
   "metadata": {},
   "outputs": [
    {
     "name": "stdout",
     "output_type": "stream",
     "text": [
      "+----------------+--------------------+-------------+----+--------------------+--------------------+--------------------+--------------------+--------------------+-----+--------------------+--------------------+---+----------+--------------------+---+\n",
      "|       IP_Family|          BOOK_title|    BOOK_ISBN|Rank|           Long_Desc|               words|            filtered|         rawFeatures|            features|label|               rawLR|              probLR| LR|    rawDTC|             probDTC|DTC|\n",
      "+----------------+--------------------+-------------+----+--------------------+--------------------+--------------------+--------------------+--------------------+-----+--------------------+--------------------+---+----------+--------------------+---+\n",
      "|9780596000271.IP|Programming Perl, 3E|9780596000271|   1|Perl is a powerfu...|[perl, is, a, pow...|[perl, powerful, ...|(50,[0,1,2,3,4,5,...|(50,[0,1,2,3,4,5,...|  1.0|[0.04449759293132...|[0.51112256303733...|0.0|[4.0,22.0]|[0.15384615384615...|1.0|\n",
      "|9781565923928.IP|Javascript: The D...|9781565923928|   2|JavaScript is a p...|[javascript, is, ...|[javascript, powe...|(50,[0,2,4,5,6,7,...|(50,[0,2,4,5,6,7,...|  1.0|[-0.1567874926935...|[0.46088322576358...|1.0|[4.0,22.0]|[0.15384615384615...|1.0|\n",
      "|9780596007126.IP|Head First Design...|9780596007126|   3|You're not alone....|[you're, not, alo...|[alone.<br, />, <...|(50,[0,1,2,3,5,6,...|(50,[0,1,2,3,5,6,...|  1.0|[0.27994969728434...|[0.56953389151517...|0.0| [0.0,1.0]|           [0.0,1.0]|1.0|\n",
      "|9780596009205.IP| Head First Java, 2E|9780596009205|   4|Learning a comple...|[learning, a, com...|[learning, comple...|(50,[0,1,2,3,4,5,...|(50,[0,1,2,3,4,5,...|  1.0|[0.23045591282754...|[0.55736033569693...|0.0| [0.0,4.0]|           [0.0,1.0]|1.0|\n",
      "|9780596529529.IP|Mac OS X Leopard:...|9780596529529|   5|With Leopard, App...|[with, leopard,, ...|[leopard,, apple,...|(50,[0,1,2,3,4,5,...|(50,[0,1,2,3,4,5,...|  1.0|[-0.3051713957232...|[0.42429378182633...|1.0|[0.0,14.0]|           [0.0,1.0]|1.0|\n",
      "|9780596101978.IP|Head First HTML w...|9780596101978|   6|Tired of reading ...|[tired, of, readi...|[tired, reading, ...|(50,[0,1,2,3,4,5,...|(50,[0,1,2,3,4,5,...|  1.0|[-1.0073057622503...|[0.26750744833936...|1.0|[0.0,14.0]|           [0.0,1.0]|1.0|\n",
      "|9781565924871.IP|Java in a Nutshel...|9781565924871|   7|This bestselling ...|[this, bestsellin...|[bestselling, qui...|(50,[0,1,2,3,4,5,...|(50,[0,1,2,3,4,5,...|  1.0|[-0.1860397595849...|[0.45362374292453...|1.0|[4.0,22.0]|[0.15384615384615...|1.0|\n",
      "|9781565924277.IP|UNIX in a Nutshel...|9781565924277|   8|You may have seen...|[you, may, have, ...|[may, seen, unix,...|(50,[0,1,2,3,4,5,...|(50,[0,1,2,3,4,5,...|  1.0|[0.09755827349296...|[0.52437024255294...|0.0| [0.0,2.0]|           [0.0,1.0]|1.0|\n",
      "|9780596009410.IP|Mac OS X: The Mis...|9780596009410|   9|You can set your ...|[you, can, set, y...|[set, watch, it:,...|(50,[0,1,2,3,4,5,...|(50,[0,1,2,3,4,5,...|  1.0|[-0.2327569035825...|[0.44207206251845...|1.0|[0.0,14.0]|           [0.0,1.0]|1.0|\n",
      "|9781565924697.IP|   Running Linux, 3E|9781565924697|  10|Once a little-kno...|[once, a, little-...|[little-known, pr...|(50,[0,1,2,3,4,5,...|(50,[0,1,2,3,4,5,...|  1.0|[-0.0115746556433...|[0.49710636839472...|1.0|[4.0,22.0]|[0.15384615384615...|1.0|\n",
      "|9780596000486.IP|JavaScript: The D...|9780596000486|  11|JavaScript is a p...|[javascript, is, ...|[javascript, powe...|(50,[0,2,3,4,5,6,...|(50,[0,2,3,4,5,6,...|  1.0|[-0.5741934212002...|[0.36026977892754...|1.0|[0.0,14.0]|           [0.0,1.0]|1.0|\n",
      "|9781565925151.IP|Web Design in a N...|9781565925151|  12|<i>Web Design in ...|[<i>web, design, ...|[<i>web, design, ...|(50,[1,2,3,4,5,7,...|(50,[1,2,3,4,5,7,...|  1.0|[-0.1441201683244...|[0.46403219252508...|1.0|[0.0,14.0]|           [0.0,1.0]|1.0|\n",
      "|9780596004507.IP|Mac OS X: The Mis...|9780596004507|  13|New York Times co...|[new, york, times...|[new, york, times...|(50,[0,1,2,3,4,5,...|(50,[0,1,2,3,4,5,...|  1.0|[-0.2444533209755...|[0.43918919335796...|1.0|[0.0,14.0]|           [0.0,1.0]|1.0|\n",
      "|9781565922846.IP|   Learning Perl, 2E|9781565922846|  14|In this update of...|[in, this, update...|[update, bestsell...|(50,[0,1,2,3,5,6,...|(50,[0,1,2,3,5,6,...|  1.0|[-0.0861589852770...|[0.47847356859023...|1.0|[4.0,22.0]|[0.15384615384615...|1.0|\n",
      "|9781565922433.IP|       Perl Cookbook|9781565922433|  15|The <i>Perl Cookb...|[the, <i>perl, co...|[<i>perl, cookboo...|(50,[0,1,2,3,4,5,...|(50,[0,1,2,3,4,5,...|  1.0|[-0.0932808001301...|[0.47669669495306...|1.0|[0.0,14.0]|           [0.0,1.0]|1.0|\n",
      "|9780596153298.IP|Mac OS X Snow Leo...|9780596153281|  16|For a company tha...|[for, a, company,...|[company, promise...|(50,[0,1,2,3,4,5,...|(50,[0,1,2,3,4,5,...|  1.0|[0.14836591557181...|[0.53702358882039...|0.0|[4.0,22.0]|[0.15384615384615...|1.0|\n",
      "|9781565924949.IP|Dynamic HTML: The...|9781565924949|  17|If you are a Web ...|[if, you, are, a,...|[web, content, de...|(50,[0,1,2,3,4,5,...|(50,[0,1,2,3,4,5,...|  1.0|[-0.0128885132653...|[0.49677791628624...|1.0| [0.0,4.0]|           [0.0,1.0]|1.0|\n",
      "|9780596006150.IP|Mac OS X: The Mis...|9780596006150|  18|Apple says that M...|[apple, says, tha...|[apple, says, mac...|(50,[0,1,2,3,4,5,...|(50,[0,1,2,3,4,5,...|  1.0|[-0.0172796631257...|[0.49568019170449...|1.0|[4.0,22.0]|[0.15384615384615...|1.0|\n",
      "|9780596101992.IP|JavaScript: The D...|9780596101992|  19|<p>This Fifth Edi...|[<p>this, fifth, ...|[<p>this, fifth, ...|(50,[0,2,3,4,5,6,...|(50,[0,2,3,4,5,6,...|  1.0|[-0.7401451510848...|[0.32297240403116...|1.0|[0.0,14.0]|           [0.0,1.0]|1.0|\n",
      "|9780596001322.IP|   Learning Perl, 3E|9780596001322|  20|If you ask Perl p...|[if, you, ask, pe...|[ask, perl, progr...|(50,[0,2,3,5,6,7,...|(50,[0,2,3,5,6,7,...|  1.0|[-0.1205926576743...|[0.46988831855719...|1.0| [0.0,1.0]|           [0.0,1.0]|1.0|\n",
      "+----------------+--------------------+-------------+----+--------------------+--------------------+--------------------+--------------------+--------------------+-----+--------------------+--------------------+---+----------+--------------------+---+\n",
      "only showing top 20 rows\n",
      "\n"
     ]
    }
   ],
   "source": [
    "df.show()"
   ]
  },
  {
   "cell_type": "code",
   "execution_count": 42,
   "metadata": {},
   "outputs": [],
   "source": [
    "## Random Forest"
   ]
  },
  {
   "cell_type": "code",
   "execution_count": 43,
   "metadata": {},
   "outputs": [],
   "source": [
    "from pyspark.ml.classification import RandomForestClassifier\n",
    "\n",
    "rf = RandomForestClassifier(\n",
    "    labelCol=\"label\",\n",
    "    featuresCol=\"features\",\n",
    "    predictionCol='RFC',\n",
    "    rawPredictionCol='rawRFC',\n",
    "    probabilityCol='probRFC',\n",
    "    numTrees=10)\n",
    "\n",
    "model = rf.fit(df)\n",
    "\n",
    "df = model.transform(df)"
   ]
  },
  {
   "cell_type": "code",
   "execution_count": 44,
   "metadata": {},
   "outputs": [
    {
     "name": "stdout",
     "output_type": "stream",
     "text": [
      "+----------------+--------------------+-------------+----+--------------------+--------------------+--------------------+--------------------+--------------------+-----+--------------------+--------------------+---+----------+--------------------+---+--------------------+--------------------+---+\n",
      "|       IP_Family|          BOOK_title|    BOOK_ISBN|Rank|           Long_Desc|               words|            filtered|         rawFeatures|            features|label|               rawLR|              probLR| LR|    rawDTC|             probDTC|DTC|              rawRFC|             probRFC|RFC|\n",
      "+----------------+--------------------+-------------+----+--------------------+--------------------+--------------------+--------------------+--------------------+-----+--------------------+--------------------+---+----------+--------------------+---+--------------------+--------------------+---+\n",
      "|9780596000271.IP|Programming Perl, 3E|9780596000271|   1|Perl is a powerfu...|[perl, is, a, pow...|[perl, powerful, ...|(50,[0,1,2,3,4,5,...|(50,[0,1,2,3,4,5,...|  1.0|[0.04449759293132...|[0.51112256303733...|0.0|[4.0,22.0]|[0.15384615384615...|1.0|[3.68059959832989...|[0.36805995983298...|1.0|\n",
      "|9781565923928.IP|Javascript: The D...|9781565923928|   2|JavaScript is a p...|[javascript, is, ...|[javascript, powe...|(50,[0,2,4,5,6,7,...|(50,[0,2,4,5,6,7,...|  1.0|[-0.1567874926935...|[0.46088322576358...|1.0|[4.0,22.0]|[0.15384615384615...|1.0|[1.51800207039337...|[0.15180020703933...|1.0|\n",
      "|9780596007126.IP|Head First Design...|9780596007126|   3|You're not alone....|[you're, not, alo...|[alone.<br, />, <...|(50,[0,1,2,3,5,6,...|(50,[0,1,2,3,5,6,...|  1.0|[0.27994969728434...|[0.56953389151517...|0.0| [0.0,1.0]|           [0.0,1.0]|1.0|[2.59425993202859...|[0.25942599320285...|1.0|\n",
      "|9780596009205.IP| Head First Java, 2E|9780596009205|   4|Learning a comple...|[learning, a, com...|[learning, comple...|(50,[0,1,2,3,4,5,...|(50,[0,1,2,3,4,5,...|  1.0|[0.23045591282754...|[0.55736033569693...|0.0| [0.0,4.0]|           [0.0,1.0]|1.0|[1.13809523809523...|[0.11380952380952...|1.0|\n",
      "|9780596529529.IP|Mac OS X Leopard:...|9780596529529|   5|With Leopard, App...|[with, leopard,, ...|[leopard,, apple,...|(50,[0,1,2,3,4,5,...|(50,[0,1,2,3,4,5,...|  1.0|[-0.3051713957232...|[0.42429378182633...|1.0|[0.0,14.0]|           [0.0,1.0]|1.0|[1.14597826086956...|[0.11459782608695...|1.0|\n",
      "|9780596101978.IP|Head First HTML w...|9780596101978|   6|Tired of reading ...|[tired, of, readi...|[tired, reading, ...|(50,[0,1,2,3,4,5,...|(50,[0,1,2,3,4,5,...|  1.0|[-1.0073057622503...|[0.26750744833936...|1.0|[0.0,14.0]|           [0.0,1.0]|1.0|[2.84957983193277...|[0.28495798319327...|1.0|\n",
      "|9781565924871.IP|Java in a Nutshel...|9781565924871|   7|This bestselling ...|[this, bestsellin...|[bestselling, qui...|(50,[0,1,2,3,4,5,...|(50,[0,1,2,3,4,5,...|  1.0|[-0.1860397595849...|[0.45362374292453...|1.0|[4.0,22.0]|[0.15384615384615...|1.0|[5.78362480841393...|[0.57836248084139...|0.0|\n",
      "|9781565924277.IP|UNIX in a Nutshel...|9781565924277|   8|You may have seen...|[you, may, have, ...|[may, seen, unix,...|(50,[0,1,2,3,4,5,...|(50,[0,1,2,3,4,5,...|  1.0|[0.09755827349296...|[0.52437024255294...|0.0| [0.0,2.0]|           [0.0,1.0]|1.0|[2.22738859180035...|[0.22273885918003...|1.0|\n",
      "|9780596009410.IP|Mac OS X: The Mis...|9780596009410|   9|You can set your ...|[you, can, set, y...|[set, watch, it:,...|(50,[0,1,2,3,4,5,...|(50,[0,1,2,3,4,5,...|  1.0|[-0.2327569035825...|[0.44207206251845...|1.0|[0.0,14.0]|           [0.0,1.0]|1.0|[1.14597826086956...|[0.11459782608695...|1.0|\n",
      "|9781565924697.IP|   Running Linux, 3E|9781565924697|  10|Once a little-kno...|[once, a, little-...|[little-known, pr...|(50,[0,1,2,3,4,5,...|(50,[0,1,2,3,4,5,...|  1.0|[-0.0115746556433...|[0.49710636839472...|1.0|[4.0,22.0]|[0.15384615384615...|1.0|[0.65490683229813...|[0.06549068322981...|1.0|\n",
      "|9780596000486.IP|JavaScript: The D...|9780596000486|  11|JavaScript is a p...|[javascript, is, ...|[javascript, powe...|(50,[0,2,3,4,5,6,...|(50,[0,2,3,4,5,6,...|  1.0|[-0.5741934212002...|[0.36026977892754...|1.0|[0.0,14.0]|           [0.0,1.0]|1.0|[1.27514492753623...|[0.12751449275362...|1.0|\n",
      "|9781565925151.IP|Web Design in a N...|9781565925151|  12|<i>Web Design in ...|[<i>web, design, ...|[<i>web, design, ...|(50,[1,2,3,4,5,7,...|(50,[1,2,3,4,5,7,...|  1.0|[-0.1441201683244...|[0.46403219252508...|1.0|[0.0,14.0]|           [0.0,1.0]|1.0|[0.62916666666666...|[0.06291666666666...|1.0|\n",
      "|9780596004507.IP|Mac OS X: The Mis...|9780596004507|  13|New York Times co...|[new, york, times...|[new, york, times...|(50,[0,1,2,3,4,5,...|(50,[0,1,2,3,4,5,...|  1.0|[-0.2444533209755...|[0.43918919335796...|1.0|[0.0,14.0]|           [0.0,1.0]|1.0|[0.56862745098039...|[0.05686274509803...|1.0|\n",
      "|9781565922846.IP|   Learning Perl, 2E|9781565922846|  14|In this update of...|[in, this, update...|[update, bestsell...|(50,[0,1,2,3,5,6,...|(50,[0,1,2,3,5,6,...|  1.0|[-0.0861589852770...|[0.47847356859023...|1.0|[4.0,22.0]|[0.15384615384615...|1.0|[4.80178157705024...|[0.48017815770502...|1.0|\n",
      "|9781565922433.IP|       Perl Cookbook|9781565922433|  15|The <i>Perl Cookb...|[the, <i>perl, co...|[<i>perl, cookboo...|(50,[0,1,2,3,4,5,...|(50,[0,1,2,3,4,5,...|  1.0|[-0.0932808001301...|[0.47669669495306...|1.0|[0.0,14.0]|           [0.0,1.0]|1.0|[2.80774573465749...|[0.28077457346574...|1.0|\n",
      "|9780596153298.IP|Mac OS X Snow Leo...|9780596153281|  16|For a company tha...|[for, a, company,...|[company, promise...|(50,[0,1,2,3,4,5,...|(50,[0,1,2,3,4,5,...|  1.0|[0.14836591557181...|[0.53702358882039...|0.0|[4.0,22.0]|[0.15384615384615...|1.0|[5.39753351933658...|[0.53975335193365...|0.0|\n",
      "|9781565924949.IP|Dynamic HTML: The...|9781565924949|  17|If you are a Web ...|[if, you, are, a,...|[web, content, de...|(50,[0,1,2,3,4,5,...|(50,[0,1,2,3,4,5,...|  1.0|[-0.0128885132653...|[0.49677791628624...|1.0| [0.0,4.0]|           [0.0,1.0]|1.0|[3.48764492753623...|[0.34876449275362...|1.0|\n",
      "|9780596006150.IP|Mac OS X: The Mis...|9780596006150|  18|Apple says that M...|[apple, says, tha...|[apple, says, mac...|(50,[0,1,2,3,4,5,...|(50,[0,1,2,3,4,5,...|  1.0|[-0.0172796631257...|[0.49568019170449...|1.0|[4.0,22.0]|[0.15384615384615...|1.0|[2.48849924585218...|[0.24884992458521...|1.0|\n",
      "|9780596101992.IP|JavaScript: The D...|9780596101992|  19|<p>This Fifth Edi...|[<p>this, fifth, ...|[<p>this, fifth, ...|(50,[0,2,3,4,5,6,...|(50,[0,2,3,4,5,6,...|  1.0|[-0.7401451510848...|[0.32297240403116...|1.0|[0.0,14.0]|           [0.0,1.0]|1.0|[2.77815126050420...|[0.27781512605042...|1.0|\n",
      "|9780596001322.IP|   Learning Perl, 3E|9780596001322|  20|If you ask Perl p...|[if, you, ask, pe...|[ask, perl, progr...|(50,[0,2,3,5,6,7,...|(50,[0,2,3,5,6,7,...|  1.0|[-0.1205926576743...|[0.46988831855719...|1.0| [0.0,1.0]|           [0.0,1.0]|1.0|[3.12584520764827...|[0.31258452076482...|1.0|\n",
      "+----------------+--------------------+-------------+----+--------------------+--------------------+--------------------+--------------------+--------------------+-----+--------------------+--------------------+---+----------+--------------------+---+--------------------+--------------------+---+\n",
      "only showing top 20 rows\n",
      "\n"
     ]
    }
   ],
   "source": [
    "df.show()"
   ]
  },
  {
   "cell_type": "code",
   "execution_count": 45,
   "metadata": {},
   "outputs": [],
   "source": [
    "## Resumen resultados"
   ]
  },
  {
   "cell_type": "code",
   "execution_count": 46,
   "metadata": {},
   "outputs": [
    {
     "name": "stdout",
     "output_type": "stream",
     "text": [
      "+-----+---+---+---+\n",
      "|label| LR|DTC|RFC|\n",
      "+-----+---+---+---+\n",
      "|  1.0|0.0|1.0|1.0|\n",
      "|  1.0|1.0|1.0|1.0|\n",
      "|  1.0|0.0|1.0|1.0|\n",
      "|  1.0|0.0|1.0|1.0|\n",
      "|  1.0|1.0|1.0|1.0|\n",
      "|  1.0|1.0|1.0|1.0|\n",
      "|  1.0|1.0|1.0|0.0|\n",
      "|  1.0|0.0|1.0|1.0|\n",
      "|  1.0|1.0|1.0|1.0|\n",
      "|  1.0|1.0|1.0|1.0|\n",
      "|  1.0|1.0|1.0|1.0|\n",
      "|  1.0|1.0|1.0|1.0|\n",
      "|  1.0|1.0|1.0|1.0|\n",
      "|  1.0|1.0|1.0|1.0|\n",
      "|  1.0|1.0|1.0|1.0|\n",
      "|  1.0|0.0|1.0|0.0|\n",
      "|  1.0|1.0|1.0|1.0|\n",
      "|  1.0|1.0|1.0|1.0|\n",
      "|  1.0|1.0|1.0|1.0|\n",
      "|  1.0|1.0|1.0|1.0|\n",
      "+-----+---+---+---+\n",
      "only showing top 20 rows\n",
      "\n"
     ]
    }
   ],
   "source": [
    "##\n",
    "## Pronósticos para los modelos\n",
    "##\n",
    "df.select(['label', 'LR', 'DTC', 'RFC']).show()"
   ]
  },
  {
   "cell_type": "code",
   "execution_count": 47,
   "metadata": {},
   "outputs": [],
   "source": [
    "## Métricas de desempeño"
   ]
  },
  {
   "cell_type": "code",
   "execution_count": 48,
   "metadata": {},
   "outputs": [
    {
     "name": "stdout",
     "output_type": "stream",
     "text": [
      "LR\n",
      "  areaUnderROC : 0.6749999999999999\n",
      "  areaUnderPR  : 0.5457142857142857\n",
      "\n",
      "DTC\n",
      "  areaUnderROC : 0.9102564102564101\n",
      "  areaUnderPR  : 0.8805442176870748\n",
      "\n",
      "RFC\n",
      "  areaUnderROC : 0.9520933977455717\n",
      "  areaUnderPR  : 0.9133850931677019\n",
      "\n"
     ]
    }
   ],
   "source": [
    "##\n",
    "## Métricas de desempeño\n",
    "##\n",
    "\n",
    "from pyspark.mllib.evaluation import BinaryClassificationMetrics\n",
    "\n",
    "for m in ['LR', 'DTC', 'RFC']:\n",
    "\n",
    "    data = df.select(['label', m]).rdd.map(lambda x: (x[0], x[1]))\n",
    "    metrics = BinaryClassificationMetrics(data)\n",
    "    print(m)\n",
    "    print('  areaUnderROC :', metrics.areaUnderROC)\n",
    "    print('  areaUnderPR  :', metrics.areaUnderPR)\n",
    "    print()"
   ]
  },
  {
   "cell_type": "code",
   "execution_count": null,
   "metadata": {},
   "outputs": [],
   "source": [
    "spark.stop()"
   ]
  }
 ],
 "metadata": {
  "kernelspec": {
   "display_name": "Python 3",
   "language": "python",
   "name": "python3"
  },
  "language_info": {
   "codemirror_mode": {
    "name": "ipython",
    "version": 3
   },
   "file_extension": ".py",
   "mimetype": "text/x-python",
   "name": "python",
   "nbconvert_exporter": "python",
   "pygments_lexer": "ipython3",
   "version": "3.6.9"
  }
 },
 "nbformat": 4,
 "nbformat_minor": 4
}
