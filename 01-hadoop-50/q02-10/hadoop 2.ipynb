{
 "cells": [
  {
   "cell_type": "code",
   "execution_count": 1,
   "metadata": {},
   "outputs": [],
   "source": [
    "!rm -rf input output\n",
    "!mkdir input"
   ]
  },
  {
   "cell_type": "code",
   "execution_count": 14,
   "metadata": {},
   "outputs": [
    {
     "name": "stdout",
     "output_type": "stream",
     "text": [
      "Overwriting mapper.py\n"
     ]
    }
   ],
   "source": [
    "%%writefile mapper.py\n",
    "import sys\n",
    "if __name__ == \"__main__\":\n",
    "    for line in sys.stdin:\n",
    "        splits = line.split(\",\")\n",
    "        proposito = splits[3]\n",
    "        monto = splits[4]\n",
    "        print(proposito + ',' + monto)"
   ]
  },
  {
   "cell_type": "code",
   "execution_count": 15,
   "metadata": {},
   "outputs": [],
   "source": [
    "!chmod +x mapper.py"
   ]
  },
  {
   "cell_type": "code",
   "execution_count": 16,
   "metadata": {},
   "outputs": [
    {
     "name": "stdout",
     "output_type": "stream",
     "text": [
      "business,1037\n",
      "business,1076\n",
      "business,11816\n",
      "business,1185\n",
      "business,1188\n",
      "business,12204\n",
      "business,1258\n",
      "business,1264\n",
      "business,1275\n",
      "business,1382\n"
     ]
    }
   ],
   "source": [
    "!cat credit.csv | python3 mapper.py | sort | head"
   ]
  },
  {
   "cell_type": "code",
   "execution_count": 125,
   "metadata": {},
   "outputs": [
    {
     "name": "stdout",
     "output_type": "stream",
     "text": [
      "Overwriting reducer.py\n"
     ]
    }
   ],
   "source": [
    "%%writefile reducer.py\n",
    "import sys\n",
    "if __name__ == \"__main__\":\n",
    "    curr = None\n",
    "    ma = 0\n",
    "    for i in sys.stdin:\n",
    "        key, val = i.split(\",\")\n",
    "        val = int(val)\n",
    "        if curr == None:\n",
    "            curr = key\n",
    "            ma = val\n",
    "        elif key == curr:\n",
    "            if val > ma:\n",
    "                ma = val\n",
    "         \n",
    "        elif key != curr:\n",
    "            sys.stdout.write(\"{}\\t{}\\n\".format(curr, ma))   \n",
    "            curr = key\n",
    "            ma = val  \n",
    "    sys.stdout.write(\"{}\\t{}\\n\".format(curr, ma)) "
   ]
  },
  {
   "cell_type": "code",
   "execution_count": 126,
   "metadata": {},
   "outputs": [],
   "source": [
    "!chmod +x reducer.py"
   ]
  },
  {
   "cell_type": "code",
   "execution_count": 127,
   "metadata": {},
   "outputs": [
    {
     "name": "stdout",
     "output_type": "stream",
     "text": [
      "business\t15945\n",
      "car (new)\t14896\n",
      "car (used)\t12976\n",
      "domestic appliances\t3990\n",
      "education\t12612\n",
      "furniture\t14179\n",
      "others\t18424\n",
      "radio/tv\t15653\n",
      "repairs\t11998\n",
      "retraining\t3447\n"
     ]
    }
   ],
   "source": [
    "!cat credit.csv | python3 mapper.py | sort | python3 reducer.py  "
   ]
  },
  {
   "cell_type": "code",
   "execution_count": null,
   "metadata": {},
   "outputs": [],
   "source": []
  },
  {
   "cell_type": "code",
   "execution_count": null,
   "metadata": {},
   "outputs": [],
   "source": []
  }
 ],
 "metadata": {
  "kernelspec": {
   "display_name": "Python 3",
   "language": "python",
   "name": "python3"
  },
  "language_info": {
   "codemirror_mode": {
    "name": "ipython",
    "version": 3
   },
   "file_extension": ".py",
   "mimetype": "text/x-python",
   "name": "python",
   "nbconvert_exporter": "python",
   "pygments_lexer": "ipython3",
   "version": "3.6.8"
  }
 },
 "nbformat": 4,
 "nbformat_minor": 4
}
