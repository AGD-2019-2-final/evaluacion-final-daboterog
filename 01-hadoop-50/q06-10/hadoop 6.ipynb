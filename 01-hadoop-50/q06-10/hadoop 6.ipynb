{
 "cells": [
  {
   "cell_type": "code",
   "execution_count": 1,
   "metadata": {},
   "outputs": [],
   "source": [
    "!rm -rf input output\n",
    "!mkdir input"
   ]
  },
  {
   "cell_type": "code",
   "execution_count": 47,
   "metadata": {},
   "outputs": [
    {
     "name": "stdout",
     "output_type": "stream",
     "text": [
      "Overwriting mapper.py\n"
     ]
    }
   ],
   "source": [
    "%%writefile mapper.py\n",
    "import sys\n",
    "if __name__ == \"__main__\":\n",
    "    for i in sys.stdin:\n",
    "        a = i.split()\n",
    "        sys.stdout.write(\"{},{}\\n\".format(a[0],a[2]))"
   ]
  },
  {
   "cell_type": "code",
   "execution_count": 76,
   "metadata": {},
   "outputs": [],
   "source": [
    "!chmod +x mapper.py"
   ]
  },
  {
   "cell_type": "code",
   "execution_count": 77,
   "metadata": {},
   "outputs": [
    {
     "name": "stdout",
     "output_type": "stream",
     "text": [
      "B\t14.1\n",
      "E\t12.2\n",
      "E\t17.0\n",
      "C\t13.8\n",
      "E\t16.9\n",
      "A\t14.8\n",
      "B\t12.1\n",
      "E\t13.2\n",
      "E\t11.3\n",
      "E\t16.4\n"
     ]
    }
   ],
   "source": [
    "!cat data.csv | python3 mapper.py | head"
   ]
  },
  {
   "cell_type": "code",
   "execution_count": 97,
   "metadata": {},
   "outputs": [
    {
     "name": "stdout",
     "output_type": "stream",
     "text": [
      "Overwriting reducer.py\n"
     ]
    }
   ],
   "source": [
    "%%writefile reducer.py\n",
    "import sys\n",
    "if __name__ == \"__main__\":\n",
    "    curr = None\n",
    "    menor = 0\n",
    "    mayor = 0\n",
    "    for i in sys.stdin:\n",
    "        key, val = i.split(\"\\t\")\n",
    "        val = float(val)\n",
    "        if curr == None:\n",
    "            curr = key\n",
    "            menor = val\n",
    "            mayor = val\n",
    "        elif key == curr:\n",
    "            mayor = max(val, mayor)\n",
    "            menor = min(val, menor)\n",
    "                     \n",
    "        elif key != curr:\n",
    "            sys.stdout.write(\"{}\\t{}\\t{}\\n\".format(curr, mayor, menor))   \n",
    "            curr = key\n",
    "            menor = val\n",
    "            mayor = val\n",
    "    sys.stdout.write(\"{}\\t{}\\t{}\\n\".format(curr, mayor, menor)) "
   ]
  },
  {
   "cell_type": "code",
   "execution_count": 98,
   "metadata": {},
   "outputs": [],
   "source": [
    "!chmod +x reducer.py"
   ]
  },
  {
   "cell_type": "code",
   "execution_count": 99,
   "metadata": {},
   "outputs": [
    {
     "name": "stdout",
     "output_type": "stream",
     "text": [
      "A\t18.4\t10.7\n",
      "B\t17.0\t10.7\n",
      "C\t15.3\t10.2\n",
      "D\t15.1\t15.1\n",
      "E\t18.8\t10.5\n"
     ]
    }
   ],
   "source": [
    "!cat data.csv | python3 mapper.py | sort | python3 reducer.py  "
   ]
  },
  {
   "cell_type": "code",
   "execution_count": null,
   "metadata": {},
   "outputs": [],
   "source": []
  },
  {
   "cell_type": "code",
   "execution_count": null,
   "metadata": {},
   "outputs": [],
   "source": []
  },
  {
   "cell_type": "code",
   "execution_count": null,
   "metadata": {},
   "outputs": [],
   "source": []
  }
 ],
 "metadata": {
  "kernelspec": {
   "display_name": "Python 3",
   "language": "python",
   "name": "python3"
  },
  "language_info": {
   "codemirror_mode": {
    "name": "ipython",
    "version": 3
   },
   "file_extension": ".py",
   "mimetype": "text/x-python",
   "name": "python",
   "nbconvert_exporter": "python",
   "pygments_lexer": "ipython3",
   "version": "3.6.8"
  }
 },
 "nbformat": 4,
 "nbformat_minor": 4
}
