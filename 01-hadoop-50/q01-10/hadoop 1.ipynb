{
 "cells": [
  {
   "cell_type": "code",
   "execution_count": 1,
   "metadata": {},
   "outputs": [],
   "source": [
    "!rm -rf input output\n",
    "!mkdir input"
   ]
  },
  {
   "cell_type": "code",
   "execution_count": 1,
   "metadata": {},
   "outputs": [
    {
     "name": "stdout",
     "output_type": "stream",
     "text": [
      "Overwriting mapper.py\n"
     ]
    }
   ],
   "source": [
    "%%writefile mapper.py\n",
    "import sys\n",
    "if __name__ == \"__main__\":\n",
    "    for line in sys.stdin:\n",
    "        splits = line.split(\",\")\n",
    "        ch = splits[2]\n",
    "        print(ch + '\\t' + \"1\")\n",
    "        #sys.stdout.write(\"{}\\1n\".format(ch))"
   ]
  },
  {
   "cell_type": "code",
   "execution_count": 2,
   "metadata": {},
   "outputs": [],
   "source": [
    "!chmod +x mapper.py"
   ]
  },
  {
   "cell_type": "code",
   "execution_count": 3,
   "metadata": {},
   "outputs": [
    {
     "name": "stdout",
     "output_type": "stream",
     "text": [
      "credit_history\t1\n",
      "critical\t1\n",
      "critical\t1\n",
      "critical\t1\n",
      "critical\t1\n",
      "critical\t1\n",
      "critical\t1\n",
      "critical\t1\n",
      "critical\t1\n",
      "critical\t1\n"
     ]
    }
   ],
   "source": [
    "!cat credit.csv | python3 mapper.py | sort | head"
   ]
  },
  {
   "cell_type": "code",
   "execution_count": 4,
   "metadata": {},
   "outputs": [
    {
     "name": "stdout",
     "output_type": "stream",
     "text": [
      "Overwriting reducer.py\n"
     ]
    }
   ],
   "source": [
    "%%writefile reducer.py\n",
    "import sys\n",
    "if __name__ == \"__main__\":\n",
    "    curatr = None\n",
    "    total = 0\n",
    "    for i in sys.stdin:\n",
    "        key, val = i.split(\"\\t\")\n",
    "        val = int(val)\n",
    "        if key == curatr:\n",
    "            curatr= key\n",
    "            total += val\n",
    "        else:\n",
    "            if curatr is not None:\n",
    "                sys.stdout.write(\"{}\\t{}\\n\".format(curatr, total))\n",
    "\n",
    "            curatr = key\n",
    "            total = val\n",
    "\n",
    "    sys.stdout.write(\"{}\\t{}\\n\".format(curatr, total))"
   ]
  },
  {
   "cell_type": "code",
   "execution_count": 5,
   "metadata": {},
   "outputs": [],
   "source": [
    "!chmod +x reducer.py"
   ]
  },
  {
   "cell_type": "code",
   "execution_count": 6,
   "metadata": {},
   "outputs": [
    {
     "name": "stdout",
     "output_type": "stream",
     "text": [
      "credit_history\t1\n",
      "critical\t293\n",
      "delayed\t88\n",
      "fully repaid\t40\n",
      "fully repaid this bank\t49\n",
      "repaid\t530\n"
     ]
    }
   ],
   "source": [
    "!cat credit.csv | python3 mapper.py | sort | python3 reducer.py     "
   ]
  },
  {
   "cell_type": "code",
   "execution_count": null,
   "metadata": {},
   "outputs": [],
   "source": []
  }
 ],
 "metadata": {
  "kernelspec": {
   "display_name": "Python 3",
   "language": "python",
   "name": "python3"
  },
  "language_info": {
   "codemirror_mode": {
    "name": "ipython",
    "version": 3
   },
   "file_extension": ".py",
   "mimetype": "text/x-python",
   "name": "python",
   "nbconvert_exporter": "python",
   "pygments_lexer": "ipython3",
   "version": "3.6.8"
  }
 },
 "nbformat": 4,
 "nbformat_minor": 4
}
