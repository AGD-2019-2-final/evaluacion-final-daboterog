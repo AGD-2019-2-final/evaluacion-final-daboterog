{
 "cells": [
  {
   "cell_type": "code",
   "execution_count": 1,
   "metadata": {},
   "outputs": [],
   "source": [
    "!rm -rf input output\n",
    "!mkdir input"
   ]
  },
  {
   "cell_type": "code",
   "execution_count": 2,
   "metadata": {},
   "outputs": [
    {
     "name": "stdout",
     "output_type": "stream",
     "text": [
      "Overwriting mapper.py\n"
     ]
    }
   ],
   "source": [
    "%%writefile mapper.py\n",
    "import sys\n",
    "if __name__ == \"__main__\":\n",
    "    for i in sys.stdin:\n",
    "        a = i.split()\n",
    "        sys.stdout.write(\"{}\\t{}\\n\".format(a[0],a[2]))"
   ]
  },
  {
   "cell_type": "code",
   "execution_count": 3,
   "metadata": {},
   "outputs": [],
   "source": [
    "!chmod +x mapper.py"
   ]
  },
  {
   "cell_type": "code",
   "execution_count": 4,
   "metadata": {},
   "outputs": [
    {
     "name": "stdout",
     "output_type": "stream",
     "text": [
      "B\t14\n",
      "E\t12\n",
      "E\t17\n",
      "C\t13\n",
      "E\t16\n",
      "A\t14\n",
      "B\t12\n",
      "E\t13\n",
      "E\t11\n",
      "E\t16\n"
     ]
    }
   ],
   "source": [
    "!cat data.csv | python3 mapper.py | head"
   ]
  },
  {
   "cell_type": "code",
   "execution_count": 5,
   "metadata": {},
   "outputs": [
    {
     "name": "stdout",
     "output_type": "stream",
     "text": [
      "Overwriting reducer.py\n"
     ]
    }
   ],
   "source": [
    "%%writefile reducer.py\n",
    "import sys\n",
    "if __name__ == \"__main__\":\n",
    "    curr = None\n",
    "    suma = 0\n",
    "    cuenta = 1\n",
    "    promedio = 0\n",
    "    for i in sys.stdin:\n",
    "        key, val = i.split(\"\\t\")\n",
    "        val = float(val)\n",
    "        if curr == None:\n",
    "            curr = key\n",
    "            suma = suma + val\n",
    "            promedio = suma/cuenta\n",
    "        elif key == curr:\n",
    "            suma = suma + val\n",
    "            cuenta = cuenta + 1\n",
    "            promedio = suma/cuenta                     \n",
    "        elif key != curr:\n",
    "            sys.stdout.write(\"{}\\t{}\\t{}\\n\".format(curr, suma, promedio)) \n",
    "            curr = key\n",
    "            suma = val\n",
    "            cuenta = 1\n",
    "            promedio = val\n",
    "    sys.stdout.write(\"{}\\t{}\\t{}\\n\".format(curr, suma, promedio)) "
   ]
  },
  {
   "cell_type": "code",
   "execution_count": 6,
   "metadata": {},
   "outputs": [],
   "source": [
    "!chmod +x reducer.py"
   ]
  },
  {
   "cell_type": "code",
   "execution_count": 7,
   "metadata": {},
   "outputs": [
    {
     "name": "stdout",
     "output_type": "stream",
     "text": [
      "A\t165.0\t13.75\n",
      "B\t136.0\t13.6\n",
      "C\t48.0\t12.0\n",
      "D\t15.0\t15.0\n",
      "E\t192.0\t14.76923076923077\n"
     ]
    }
   ],
   "source": [
    "!cat data.csv | python3 mapper.py | sort | python3 reducer.py  "
   ]
  },
  {
   "cell_type": "code",
   "execution_count": null,
   "metadata": {},
   "outputs": [],
   "source": []
  }
 ],
 "metadata": {
  "kernelspec": {
   "display_name": "Python 3",
   "language": "python",
   "name": "python3"
  },
  "language_info": {
   "codemirror_mode": {
    "name": "ipython",
    "version": 3
   },
   "file_extension": ".py",
   "mimetype": "text/x-python",
   "name": "python",
   "nbconvert_exporter": "python",
   "pygments_lexer": "ipython3",
   "version": "3.6.8"
  }
 },
 "nbformat": 4,
 "nbformat_minor": 4
}
