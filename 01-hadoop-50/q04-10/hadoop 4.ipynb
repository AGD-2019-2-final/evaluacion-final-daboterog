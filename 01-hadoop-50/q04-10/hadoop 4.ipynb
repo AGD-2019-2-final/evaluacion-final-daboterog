{
 "cells": [
  {
   "cell_type": "code",
   "execution_count": 8,
   "metadata": {},
   "outputs": [],
   "source": [
    "!rm -rf input output\n",
    "!mkdir input"
   ]
  },
  {
   "cell_type": "code",
   "execution_count": 18,
   "metadata": {},
   "outputs": [
    {
     "name": "stdout",
     "output_type": "stream",
     "text": [
      "Overwriting mapper.py\n"
     ]
    }
   ],
   "source": [
    "%%writefile mapper.py\n",
    "import sys\n",
    "\n",
    "if __name__ == \"__main__\":\n",
    "    for i in sys.stdin:\n",
    "        a = i.split()\n",
    "        sys.stdout.write(\"{}\\t1\\n\".format(a[0]))"
   ]
  },
  {
   "cell_type": "code",
   "execution_count": 19,
   "metadata": {},
   "outputs": [],
   "source": [
    "!chmod +x mapper.py"
   ]
  },
  {
   "cell_type": "code",
   "execution_count": 20,
   "metadata": {},
   "outputs": [
    {
     "name": "stdout",
     "output_type": "stream",
     "text": [
      "B\t1\n",
      "E\t1\n",
      "E\t1\n",
      "C\t1\n",
      "E\t1\n",
      "A\t1\n",
      "B\t1\n",
      "E\t1\n",
      "E\t1\n",
      "E\t1\n"
     ]
    }
   ],
   "source": [
    "!cat data.csv | python3 mapper.py | head"
   ]
  },
  {
   "cell_type": "code",
   "execution_count": 21,
   "metadata": {},
   "outputs": [
    {
     "name": "stdout",
     "output_type": "stream",
     "text": [
      "Overwriting reducer.py\n"
     ]
    }
   ],
   "source": [
    "%%writefile reducer.py\n",
    "import sys\n",
    "if __name__ == \"__main__\":\n",
    "    curr = None\n",
    "    cuenta = 0\n",
    "    for i in sys.stdin:\n",
    "        key, val = i.split(\"\\t\")\n",
    "        val = int(val)\n",
    "        if curr == None:\n",
    "            curr = key\n",
    "            cuenta = cuenta + 1\n",
    "            \n",
    "        elif key == curr:\n",
    "            cuenta = cuenta + 1\n",
    "                     \n",
    "        elif key != curr:\n",
    "            sys.stdout.write(\"{},{}\\n\".format(curr, cuenta))   \n",
    "            curr = key\n",
    "            cuenta = 1\n",
    "            \n",
    "    sys.stdout.write(\"{},{}\\n\".format(curr, cuenta)) "
   ]
  },
  {
   "cell_type": "code",
   "execution_count": 22,
   "metadata": {},
   "outputs": [],
   "source": [
    "!chmod +x reducer.py"
   ]
  },
  {
   "cell_type": "code",
   "execution_count": 23,
   "metadata": {},
   "outputs": [
    {
     "name": "stdout",
     "output_type": "stream",
     "text": [
      "A,12\n",
      "B,10\n",
      "C,4\n",
      "D,1\n",
      "E,13\n"
     ]
    }
   ],
   "source": [
    "!cat data.csv | python3 mapper.py | sort | python3 reducer.py  "
   ]
  },
  {
   "cell_type": "code",
   "execution_count": null,
   "metadata": {},
   "outputs": [],
   "source": []
  }
 ],
 "metadata": {
  "kernelspec": {
   "display_name": "Python 3",
   "language": "python",
   "name": "python3"
  },
  "language_info": {
   "codemirror_mode": {
    "name": "ipython",
    "version": 3
   },
   "file_extension": ".py",
   "mimetype": "text/x-python",
   "name": "python",
   "nbconvert_exporter": "python",
   "pygments_lexer": "ipython3",
   "version": "3.6.8"
  }
 },
 "nbformat": 4,
 "nbformat_minor": 4
}
