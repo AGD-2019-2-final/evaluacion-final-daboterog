{
 "cells": [
  {
   "cell_type": "code",
   "execution_count": 1,
   "metadata": {},
   "outputs": [],
   "source": [
    "!rm -rf input output\n",
    "!mkdir input"
   ]
  },
  {
   "cell_type": "code",
   "execution_count": 2,
   "metadata": {},
   "outputs": [
    {
     "name": "stdout",
     "output_type": "stream",
     "text": [
      "Overwriting mapper.py\n"
     ]
    }
   ],
   "source": [
    "%%writefile mapper.py\n",
    "import sys\n",
    "if __name__ == \"__main__\":\n",
    "    for i in sys.stdin:\n",
    "        a = i.split()\n",
    "        sys.stdout.write(\"{}\\t{}\\t{}\\n\".format(a[0],a[1],a[2]))"
   ]
  },
  {
   "cell_type": "code",
   "execution_count": 3,
   "metadata": {},
   "outputs": [],
   "source": [
    "!chmod +x mapper.py"
   ]
  },
  {
   "cell_type": "code",
   "execution_count": 4,
   "metadata": {},
   "outputs": [
    {
     "name": "stdout",
     "output_type": "stream",
     "text": [
      "E\t1990-05-03\t16\n",
      "A\t1992-09-19\t9\n",
      "A\t1990-10-06\t10\n",
      "E\t1994-02-14\t10\n",
      "E\t1999-09-10\t11\n",
      "A\t1992-08-22\t16\n",
      "A\t1993-05-08\t17\n",
      "A\t1988-04-27\t121\n",
      "B\t1995-08-23\t1\n",
      "B\t1991-10-01\t9\n"
     ]
    }
   ],
   "source": [
    "!cat data.csv | python3 mapper.py | head"
   ]
  },
  {
   "cell_type": "code",
   "execution_count": 68,
   "metadata": {},
   "outputs": [
    {
     "name": "stdout",
     "output_type": "stream",
     "text": [
      "Overwriting reducer.py\n"
     ]
    }
   ],
   "source": [
    "%%writefile reducer.py\n",
    "import sys\n",
    "if __name__ == \"__main__\":\n",
    "    aux=[]\n",
    "    for i in sys.stdin:\n",
    "        letra, fecha, numero = i.split(\"\\t\")\n",
    "        numero = int(numero)\n",
    "        aux.append([letra, fecha, numero])\n",
    "    aux = sorted(aux, key=lambda x: (x[0], x[2]))\n",
    "    for k in aux:\n",
    "        sys.stdout.write(\"{}\\t{}\\t{}\\n\".format(k[0], k[1], k[2]))"
   ]
  },
  {
   "cell_type": "code",
   "execution_count": 69,
   "metadata": {},
   "outputs": [],
   "source": [
    "!chmod +x reducer.py"
   ]
  },
  {
   "cell_type": "code",
   "execution_count": 70,
   "metadata": {},
   "outputs": [
    {
     "name": "stdout",
     "output_type": "stream",
     "text": [
      "A\t1990-07-22\t0\n",
      "A\t1990-09-26\t8\n",
      "A\t1992-09-19\t9\n",
      "A\t1990-10-06\t10\n",
      "A\t1990-09-05\t11\n",
      "A\t1990-08-31\t12\n",
      "A\t1997-12-15\t13\n",
      "A\t1994-10-25\t14\n",
      "A\t1993-01-11\t15\n",
      "A\t1992-08-22\t16\n",
      "A\t1993-05-08\t17\n",
      "A\t1988-04-27\t121\n",
      "B\t1995-08-23\t1\n",
      "B\t1991-10-01\t9\n",
      "B\t1999-10-21\t13\n",
      "B\t1997-04-09\t14\n",
      "B\t1995-09-06\t15\n",
      "B\t1993-03-02\t16\n",
      "B\t1999-08-28\t17\n",
      "B\t1994-08-30\t18\n",
      "B\t1999-06-11\t121\n",
      "B\t1998-11-22\t131\n",
      "C\t1994-01-25\t10\n",
      "C\t1991-02-12\t13\n",
      "C\t1994-09-09\t15\n",
      "C\t1994-07-27\t104\n",
      "D\t1990-10-10\t15\n",
      "E\t1998-09-14\t2\n",
      "E\t1995-04-25\t3\n",
      "E\t1993-07-21\t4\n",
      "E\t1993-01-27\t9\n",
      "E\t1994-02-14\t10\n",
      "E\t1999-09-10\t11\n",
      "E\t1999-12-06\t12\n",
      "E\t1999-01-14\t15\n",
      "E\t1990-05-03\t16\n",
      "E\t1985-02-12\t17\n",
      "E\t1990-02-09\t18\n",
      "E\t1993-12-27\t19\n",
      "E\t1991-02-18\t141\n"
     ]
    }
   ],
   "source": [
    "!cat data.csv | python3 mapper.py | sort | python3 reducer.py  "
   ]
  },
  {
   "cell_type": "code",
   "execution_count": 50,
   "metadata": {},
   "outputs": [
    {
     "name": "stdout",
     "output_type": "stream",
     "text": [
      "Overwriting reducer.py\n"
     ]
    }
   ],
   "source": [
    "%%writefile reducer.py\n",
    "import sys\n",
    "#\n",
    "#  >>> Escriba el codigo del mapper a partir de este punto <<<\n",
    "#\n",
    "\n",
    "if __name__ == '__main__':\n",
    "\n",
    "    lista=[]\n",
    "\n",
    "    for line in sys.stdin:\n",
    "        clave, fecha, valor = line.split(\"\\t\")\n",
    "        valor=int(valor)\n",
    "        lista.append([clave, fecha, valor])\n",
    "    \n",
    "    lista = sorted(lista, key=lambda x: (x[0], x[2]))\n",
    "    \n",
    "    for line in lista:\n",
    "        sys.stdout.write(\"{}   {}   {}\\n\".format(line[0], line[1], line[2]))"
   ]
  },
  {
   "cell_type": "code",
   "execution_count": null,
   "metadata": {},
   "outputs": [],
   "source": []
  }
 ],
 "metadata": {
  "kernelspec": {
   "display_name": "Python 3",
   "language": "python",
   "name": "python3"
  },
  "language_info": {
   "codemirror_mode": {
    "name": "ipython",
    "version": 3
   },
   "file_extension": ".py",
   "mimetype": "text/x-python",
   "name": "python",
   "nbconvert_exporter": "python",
   "pygments_lexer": "ipython3",
   "version": "3.6.8"
  }
 },
 "nbformat": 4,
 "nbformat_minor": 4
}
